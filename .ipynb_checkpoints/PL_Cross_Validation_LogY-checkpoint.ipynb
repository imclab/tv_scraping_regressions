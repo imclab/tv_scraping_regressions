{
 "cells": [
  {
   "cell_type": "code",
   "execution_count": 1,
   "metadata": {
    "collapsed": false
   },
   "outputs": [],
   "source": [
    "import math\n",
    "import pandas as pd\n",
    "from patsy import dmatrices\n",
    "from generate_training_set_df import shows_df"
   ]
  },
  {
   "cell_type": "markdown",
   "metadata": {},
   "source": [
    " "
   ]
  },
  {
   "cell_type": "markdown",
   "metadata": {},
   "source": [
    " ###<font color='red'>Test case 1: With 1 numeric predictor variable (User rating)</font>"
   ]
  },
  {
   "cell_type": "code",
   "execution_count": 2,
   "metadata": {
    "collapsed": true
   },
   "outputs": [],
   "source": [
    "log_cv1_y, log_cv1_X = dmatrices('SeasonsLog ~ UserRating', data=shows_df, return_type='dataframe')"
   ]
  },
  {
   "cell_type": "code",
   "execution_count": 3,
   "metadata": {
    "collapsed": false
   },
   "outputs": [],
   "source": [
    "log_cv1_X_array = log_cv1_X.values\n",
    "log_cv1_y_array = log_cv1_y.values"
   ]
  },
  {
   "cell_type": "code",
   "execution_count": 4,
   "metadata": {
    "collapsed": true
   },
   "outputs": [],
   "source": [
    "n_samples = log_cv1_X_array.shape[0]\n",
    "model = LinearRegression()"
   ]
  },
  {
   "cell_type": "code",
   "execution_count": 5,
   "metadata": {
    "collapsed": false
   },
   "outputs": [
    {
     "data": {
      "text/html": [
       "<div>\n",
       "<table border=\"1\" class=\"dataframe\">\n",
       "  <thead>\n",
       "    <tr style=\"text-align: right;\">\n",
       "      <th></th>\n",
       "      <th>Trial</th>\n",
       "      <th>Random1</th>\n",
       "      <th>Random2</th>\n",
       "      <th>Random3</th>\n",
       "      <th>Random4</th>\n",
       "      <th>Random5</th>\n",
       "      <th>Average</th>\n",
       "      <th>Std</th>\n",
       "    </tr>\n",
       "  </thead>\n",
       "  <tbody>\n",
       "    <tr>\n",
       "      <th>0</th>\n",
       "      <td>Trial 1</td>\n",
       "      <td>0.2185</td>\n",
       "      <td>0.1040</td>\n",
       "      <td>0.0262</td>\n",
       "      <td>0.3323</td>\n",
       "      <td>0.1821</td>\n",
       "      <td>0.1726</td>\n",
       "      <td>0.1038</td>\n",
       "    </tr>\n",
       "    <tr>\n",
       "      <th>1</th>\n",
       "      <td>Trial 2</td>\n",
       "      <td>0.2436</td>\n",
       "      <td>0.2900</td>\n",
       "      <td>0.3727</td>\n",
       "      <td>0.2976</td>\n",
       "      <td>0.2681</td>\n",
       "      <td>0.2944</td>\n",
       "      <td>0.0434</td>\n",
       "    </tr>\n",
       "    <tr>\n",
       "      <th>2</th>\n",
       "      <td>Trial 3</td>\n",
       "      <td>0.2900</td>\n",
       "      <td>0.1084</td>\n",
       "      <td>0.1200</td>\n",
       "      <td>0.2666</td>\n",
       "      <td>0.0073</td>\n",
       "      <td>0.1584</td>\n",
       "      <td>0.1056</td>\n",
       "    </tr>\n",
       "  </tbody>\n",
       "</table>\n",
       "</div>"
      ],
      "text/plain": [
       "     Trial Random1 Random2 Random3 Random4 Random5 Average     Std\n",
       "0  Trial 1  0.2185  0.1040  0.0262  0.3323  0.1821  0.1726  0.1038\n",
       "1  Trial 2  0.2436  0.2900  0.3727  0.2976  0.2681  0.2944  0.0434\n",
       "2  Trial 3  0.2900  0.1084  0.1200  0.2666  0.0073  0.1584  0.1056"
      ]
     },
     "execution_count": 5,
     "metadata": {},
     "output_type": "execute_result"
    }
   ],
   "source": [
    "cv1_metrics = []\n",
    "\n",
    "for i in range(3):\n",
    "    temp = []\n",
    "    cv = cross_validation.ShuffleSplit(n_samples, n_iter=5, random_state=i)\n",
    "    scores = cross_validation.cross_val_score(model, log_cv1_X_array, log_cv1_y_array, cv=cv)\n",
    "    temp.append('Trial ' + str(i+1))\n",
    "    for score in scores:\n",
    "        temp.append(\"%.4f\" % score)\n",
    "    temp.append(\"%.4f\" % scores.mean())\n",
    "    temp.append(\"%.4f\" % scores.std())\n",
    "    cv1_metrics.append(temp)\n",
    "    \n",
    "cols = ['Trial', 'Random1', 'Random2', 'Random3', 'Random4', 'Random5', 'Average', 'Std']\n",
    "pd.DataFrame(cv1_metrics, columns=cols)"
   ]
  },
  {
   "cell_type": "markdown",
   "metadata": {},
   "source": [
    "###<font color='red'>Test case 2: With 1 numeric predictor and 1 categorical predictor (User rating + Genre)</font>"
   ]
  },
  {
   "cell_type": "code",
   "execution_count": 6,
   "metadata": {
    "collapsed": false
   },
   "outputs": [],
   "source": [
    "log_cv2_y, log_cv2_X = dmatrices('SeasonsLog ~ UserRating + Genre', data=shows_df, return_type='dataframe')"
   ]
  },
  {
   "cell_type": "code",
   "execution_count": 7,
   "metadata": {
    "collapsed": false
   },
   "outputs": [],
   "source": [
    "log_cv2_X_array = log_cv2_X.values\n",
    "log_cv2_y_array = log_cv2_y.values"
   ]
  },
  {
   "cell_type": "code",
   "execution_count": 8,
   "metadata": {
    "collapsed": false
   },
   "outputs": [],
   "source": [
    "n_samples = log_cv2_X_array.shape[0]\n",
    "model = LinearRegression()"
   ]
  },
  {
   "cell_type": "code",
   "execution_count": 9,
   "metadata": {
    "collapsed": false
   },
   "outputs": [
    {
     "data": {
      "text/html": [
       "<div>\n",
       "<table border=\"1\" class=\"dataframe\">\n",
       "  <thead>\n",
       "    <tr style=\"text-align: right;\">\n",
       "      <th></th>\n",
       "      <th>Trial</th>\n",
       "      <th>Random1</th>\n",
       "      <th>Random2</th>\n",
       "      <th>Random3</th>\n",
       "      <th>Random4</th>\n",
       "      <th>Random5</th>\n",
       "      <th>Average</th>\n",
       "      <th>Std</th>\n",
       "    </tr>\n",
       "  </thead>\n",
       "  <tbody>\n",
       "    <tr>\n",
       "      <th>0</th>\n",
       "      <td>Trial 1</td>\n",
       "      <td>0.2447</td>\n",
       "      <td>0.1439</td>\n",
       "      <td>0.0015</td>\n",
       "      <td>0.3230</td>\n",
       "      <td>0.1718</td>\n",
       "      <td>0.1770</td>\n",
       "      <td>0.1075</td>\n",
       "    </tr>\n",
       "    <tr>\n",
       "      <th>1</th>\n",
       "      <td>Trial 2</td>\n",
       "      <td>0.2936</td>\n",
       "      <td>0.3829</td>\n",
       "      <td>0.3892</td>\n",
       "      <td>0.2851</td>\n",
       "      <td>0.2522</td>\n",
       "      <td>0.3206</td>\n",
       "      <td>0.0552</td>\n",
       "    </tr>\n",
       "    <tr>\n",
       "      <th>2</th>\n",
       "      <td>Trial 3</td>\n",
       "      <td>0.3280</td>\n",
       "      <td>0.1437</td>\n",
       "      <td>0.0961</td>\n",
       "      <td>0.3042</td>\n",
       "      <td>0.0656</td>\n",
       "      <td>0.1875</td>\n",
       "      <td>0.1082</td>\n",
       "    </tr>\n",
       "  </tbody>\n",
       "</table>\n",
       "</div>"
      ],
      "text/plain": [
       "     Trial Random1 Random2 Random3 Random4 Random5 Average     Std\n",
       "0  Trial 1  0.2447  0.1439  0.0015  0.3230  0.1718  0.1770  0.1075\n",
       "1  Trial 2  0.2936  0.3829  0.3892  0.2851  0.2522  0.3206  0.0552\n",
       "2  Trial 3  0.3280  0.1437  0.0961  0.3042  0.0656  0.1875  0.1082"
      ]
     },
     "execution_count": 9,
     "metadata": {},
     "output_type": "execute_result"
    }
   ],
   "source": [
    "cv2_metrics = []\n",
    "\n",
    "for i in range(3):\n",
    "    temp = []\n",
    "    cv = cross_validation.ShuffleSplit(n_samples, n_iter=5, random_state=i)\n",
    "    scores = cross_validation.cross_val_score(model, log_cv2_X_array, log_cv2_y_array, cv=cv)\n",
    "    temp.append('Trial ' + str(i+1))\n",
    "    for score in scores:\n",
    "        temp.append(\"%.4f\" % score)\n",
    "    temp.append(\"%.4f\" % scores.mean())\n",
    "    temp.append(\"%.4f\" % scores.std())\n",
    "    cv2_metrics.append(temp)\n",
    "\n",
    "cols = ['Trial', 'Random1', 'Random2', 'Random3', 'Random4', 'Random5', 'Average', 'Std']\n",
    "pd.DataFrame(cv2_metrics, columns=cols)"
   ]
  },
  {
   "cell_type": "markdown",
   "metadata": {},
   "source": [
    " "
   ]
  },
  {
   "cell_type": "markdown",
   "metadata": {},
   "source": [
    "###<font color='red'>Test case 3: With 1 numeric predictor and 2 categorical predictors (User rating + Genre + Network)</font>"
   ]
  },
  {
   "cell_type": "code",
   "execution_count": 10,
   "metadata": {
    "collapsed": true
   },
   "outputs": [],
   "source": [
    "tc3_y, tc3_X = dmatrices('SeasonsLog ~ UserRating + Genre + Network', data=shows_df, return_type='dataframe')"
   ]
  },
  {
   "cell_type": "code",
   "execution_count": 11,
   "metadata": {
    "collapsed": true
   },
   "outputs": [],
   "source": [
    "tc3_X_array = tc3_X.values\n",
    "tc3_y_array = tc3_y.values"
   ]
  },
  {
   "cell_type": "code",
   "execution_count": 12,
   "metadata": {
    "collapsed": true
   },
   "outputs": [],
   "source": [
    "n_samples = tc3_X_array.shape[0]\n",
    "cv = cross_validation.ShuffleSplit(n_samples, n_iter=5, random_state=0)"
   ]
  },
  {
   "cell_type": "code",
   "execution_count": 13,
   "metadata": {
    "collapsed": false
   },
   "outputs": [
    {
     "name": "stdout",
     "output_type": "stream",
     "text": [
      "R2: [ 0.41100028  0.04367717  0.07058902  0.30144919  0.11369148]\n",
      "R2 average: 0.188081\n",
      "R2 std: 0.143343\n"
     ]
    }
   ],
   "source": [
    "model = LinearRegression()\n",
    "scores = cross_validation.cross_val_score(model, tc3_X_array, tc3_y_array, cv=cv)\n",
    "print 'R2: %s' % (scores,)\n",
    "print 'R2 average: %f' % (scores.mean(),)\n",
    "print 'R2 std: %f' % (scores.std(),)"
   ]
  },
  {
   "cell_type": "markdown",
   "metadata": {},
   "source": [
    " "
   ]
  },
  {
   "cell_type": "markdown",
   "metadata": {},
   "source": [
    "###<font color='red'>Test case 4: With 1 numeric predictor and 3 categorical predictors (User rating + Genre + Network + Duration)</font>"
   ]
  },
  {
   "cell_type": "code",
   "execution_count": 14,
   "metadata": {
    "collapsed": true
   },
   "outputs": [],
   "source": [
    "tc4_y, tc4_X = dmatrices('SeasonsLog ~ UserRating + Genre + Network + Duration', data=shows_df, return_type='dataframe')"
   ]
  },
  {
   "cell_type": "code",
   "execution_count": 15,
   "metadata": {
    "collapsed": true
   },
   "outputs": [],
   "source": [
    "tc4_X_array = tc4_X.values\n",
    "tc4_y_array = tc4_y.values"
   ]
  },
  {
   "cell_type": "code",
   "execution_count": 16,
   "metadata": {
    "collapsed": true
   },
   "outputs": [],
   "source": [
    "n_samples = tc3_X_array.shape[0]\n",
    "cv = cross_validation.ShuffleSplit(n_samples, n_iter=5, random_state=0)"
   ]
  },
  {
   "cell_type": "code",
   "execution_count": 17,
   "metadata": {
    "collapsed": false
   },
   "outputs": [
    {
     "name": "stdout",
     "output_type": "stream",
     "text": [
      "R2: [ 0.40681314  0.039202    0.06448168  0.2760992   0.04857011]\n",
      "R2 average: 0.167033\n",
      "R2 std: 0.148513\n"
     ]
    }
   ],
   "source": [
    "model = LinearRegression()\n",
    "scores = cross_validation.cross_val_score(model, tc4_X_array, tc4_y_array, cv=cv)\n",
    "print 'R2: %s' % (scores,)\n",
    "print 'R2 average: %f' % (scores.mean(),)\n",
    "print 'R2 std: %f' % (scores.std(),)"
   ]
  },
  {
   "cell_type": "code",
   "execution_count": null,
   "metadata": {
    "collapsed": true
   },
   "outputs": [],
   "source": []
  },
  {
   "cell_type": "code",
   "execution_count": null,
   "metadata": {
    "collapsed": true
   },
   "outputs": [],
   "source": []
  }
 ],
 "metadata": {
  "kernelspec": {
   "display_name": "Python 2",
   "language": "python",
   "name": "python2"
  },
  "language_info": {
   "codemirror_mode": {
    "name": "ipython",
    "version": 2
   },
   "file_extension": ".py",
   "mimetype": "text/x-python",
   "name": "python",
   "nbconvert_exporter": "python",
   "pygments_lexer": "ipython2",
   "version": "2.7.10"
  }
 },
 "nbformat": 4,
 "nbformat_minor": 0
}
