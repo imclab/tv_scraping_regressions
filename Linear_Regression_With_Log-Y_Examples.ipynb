{
 "cells": [
  {
   "cell_type": "code",
   "execution_count": 30,
   "metadata": {
    "collapsed": true
   },
   "outputs": [],
   "source": [
    "import pandas as pd\n",
    "from patsy import dmatrices\n",
    "import statsmodels.api as sm\n",
    "import matplotlib.pyplot as plt\n",
    "%matplotlib inline\n",
    "import numpy as np\n",
    "import math\n",
    "from _py_helpers.generate_tv_training_df import tv_df\n",
    "from sklearn import cross_validation\n",
    "from sklearn.linear_model import LinearRegression"
   ]
  },
  {
   "cell_type": "markdown",
   "metadata": {},
   "source": [
    " "
   ]
  },
  {
   "cell_type": "markdown",
   "metadata": {},
   "source": [
    "##<font color='blue'>LOG-Y* MODELING using patsy, statsmodels AND CROSS-VALIDATION using scikit (Predicting # of seasons)</font>"
   ]
  },
  {
   "cell_type": "markdown",
   "metadata": {},
   "source": [
    "###*Note: Log-Y only used when modeling. Y is converted back to its original state after creating the model and for predictions"
   ]
  },
  {
   "cell_type": "markdown",
   "metadata": {},
   "source": [
    "####<font color='red'>Case 1: With 1 numeric predictor variable (User rating)</font>"
   ]
  },
  {
   "cell_type": "code",
   "execution_count": 4,
   "metadata": {
    "collapsed": false
   },
   "outputs": [
    {
     "data": {
      "text/html": [
       "<div>\n",
       "<table border=\"1\" class=\"dataframe\">\n",
       "  <thead>\n",
       "    <tr style=\"text-align: right;\">\n",
       "      <th></th>\n",
       "      <th>Ind</th>\n",
       "      <th>Title_SR</th>\n",
       "      <th>Genre</th>\n",
       "      <th>Tag</th>\n",
       "      <th>Title_Norm</th>\n",
       "      <th>Seasons</th>\n",
       "      <th>Episodes</th>\n",
       "      <th>Status</th>\n",
       "      <th>Duration</th>\n",
       "      <th>UserRating</th>\n",
       "      <th>Network</th>\n",
       "      <th>Title_Wiki</th>\n",
       "      <th>State</th>\n",
       "      <th>SeasonsLog</th>\n",
       "      <th>Network_Count</th>\n",
       "    </tr>\n",
       "  </thead>\n",
       "  <tbody>\n",
       "    <tr>\n",
       "      <th>576</th>\n",
       "      <td>584</td>\n",
       "      <td>The Job</td>\n",
       "      <td>Reality</td>\n",
       "      <td>/the_job</td>\n",
       "      <td>thejob</td>\n",
       "      <td>1</td>\n",
       "      <td>2</td>\n",
       "      <td>Concluded</td>\n",
       "      <td>60 min</td>\n",
       "      <td>1</td>\n",
       "      <td>CBS</td>\n",
       "      <td></td>\n",
       "      <td></td>\n",
       "      <td>0</td>\n",
       "      <td>3</td>\n",
       "    </tr>\n",
       "  </tbody>\n",
       "</table>\n",
       "</div>"
      ],
      "text/plain": [
       "     Ind Title_SR    Genre       Tag Title_Norm  Seasons  Episodes     Status  \\\n",
       "576  584  The Job  Reality  /the_job     thejob        1         2  Concluded   \n",
       "\n",
       "    Duration  UserRating Network Title_Wiki State  SeasonsLog  Network_Count  \n",
       "576   60 min           1     CBS                            0              3  "
      ]
     },
     "execution_count": 4,
     "metadata": {},
     "output_type": "execute_result"
    }
   ],
   "source": [
    "tv_df.head(1)"
   ]
  },
  {
   "cell_type": "code",
   "execution_count": 31,
   "metadata": {
    "collapsed": false
   },
   "outputs": [
    {
     "data": {
      "text/html": [
       "<table class=\"simpletable\">\n",
       "<caption>OLS Regression Results</caption>\n",
       "<tr>\n",
       "  <th>Dep. Variable:</th>       <td>SeasonsLog</td>    <th>  R-squared:         </th> <td>   0.223</td>\n",
       "</tr>\n",
       "<tr>\n",
       "  <th>Model:</th>                   <td>OLS</td>       <th>  Adj. R-squared:    </th> <td>   0.222</td>\n",
       "</tr>\n",
       "<tr>\n",
       "  <th>Method:</th>             <td>Least Squares</td>  <th>  F-statistic:       </th> <td>   189.8</td>\n",
       "</tr>\n",
       "<tr>\n",
       "  <th>Date:</th>             <td>Sat, 18 Jul 2015</td> <th>  Prob (F-statistic):</th> <td>3.82e-38</td>\n",
       "</tr>\n",
       "<tr>\n",
       "  <th>Time:</th>                 <td>22:11:05</td>     <th>  Log-Likelihood:    </th> <td> -731.98</td>\n",
       "</tr>\n",
       "<tr>\n",
       "  <th>No. Observations:</th>      <td>   664</td>      <th>  AIC:               </th> <td>   1468.</td>\n",
       "</tr>\n",
       "<tr>\n",
       "  <th>Df Residuals:</th>          <td>   662</td>      <th>  BIC:               </th> <td>   1477.</td>\n",
       "</tr>\n",
       "<tr>\n",
       "  <th>Df Model:</th>              <td>     1</td>      <th>                     </th>     <td> </td>   \n",
       "</tr>\n",
       "<tr>\n",
       "  <th>Covariance Type:</th>      <td>nonrobust</td>    <th>                     </th>     <td> </td>   \n",
       "</tr>\n",
       "</table>\n",
       "<table class=\"simpletable\">\n",
       "<tr>\n",
       "       <td></td>         <th>coef</th>     <th>std err</th>      <th>t</th>      <th>P>|t|</th> <th>[95.0% Conf. Int.]</th> \n",
       "</tr>\n",
       "<tr>\n",
       "  <th>Intercept</th>  <td>   -1.9317</td> <td>    0.197</td> <td>   -9.794</td> <td> 0.000</td> <td>   -2.319    -1.544</td>\n",
       "</tr>\n",
       "<tr>\n",
       "  <th>UserRating</th> <td>    0.7461</td> <td>    0.054</td> <td>   13.776</td> <td> 0.000</td> <td>    0.640     0.852</td>\n",
       "</tr>\n",
       "</table>\n",
       "<table class=\"simpletable\">\n",
       "<tr>\n",
       "  <th>Omnibus:</th>       <td>31.986</td> <th>  Durbin-Watson:     </th> <td>   1.131</td>\n",
       "</tr>\n",
       "<tr>\n",
       "  <th>Prob(Omnibus):</th> <td> 0.000</td> <th>  Jarque-Bera (JB):  </th> <td>  35.864</td>\n",
       "</tr>\n",
       "<tr>\n",
       "  <th>Skew:</th>          <td> 0.569</td> <th>  Prob(JB):          </th> <td>1.63e-08</td>\n",
       "</tr>\n",
       "<tr>\n",
       "  <th>Kurtosis:</th>      <td> 2.944</td> <th>  Cond. No.          </th> <td>    27.2</td>\n",
       "</tr>\n",
       "</table>"
      ],
      "text/plain": [
       "<class 'statsmodels.iolib.summary.Summary'>\n",
       "\"\"\"\n",
       "                            OLS Regression Results                            \n",
       "==============================================================================\n",
       "Dep. Variable:             SeasonsLog   R-squared:                       0.223\n",
       "Model:                            OLS   Adj. R-squared:                  0.222\n",
       "Method:                 Least Squares   F-statistic:                     189.8\n",
       "Date:                Sat, 18 Jul 2015   Prob (F-statistic):           3.82e-38\n",
       "Time:                        22:11:05   Log-Likelihood:                -731.98\n",
       "No. Observations:                 664   AIC:                             1468.\n",
       "Df Residuals:                     662   BIC:                             1477.\n",
       "Df Model:                           1                                         \n",
       "Covariance Type:            nonrobust                                         \n",
       "==============================================================================\n",
       "                 coef    std err          t      P>|t|      [95.0% Conf. Int.]\n",
       "------------------------------------------------------------------------------\n",
       "Intercept     -1.9317      0.197     -9.794      0.000        -2.319    -1.544\n",
       "UserRating     0.7461      0.054     13.776      0.000         0.640     0.852\n",
       "==============================================================================\n",
       "Omnibus:                       31.986   Durbin-Watson:                   1.131\n",
       "Prob(Omnibus):                  0.000   Jarque-Bera (JB):               35.864\n",
       "Skew:                           0.569   Prob(JB):                     1.63e-08\n",
       "Kurtosis:                       2.944   Cond. No.                         27.2\n",
       "==============================================================================\n",
       "\n",
       "Warnings:\n",
       "[1] Standard Errors assume that the covariance matrix of the errors is correctly specified.\n",
       "\"\"\""
      ]
     },
     "execution_count": 31,
     "metadata": {},
     "output_type": "execute_result"
    }
   ],
   "source": [
    "log_train1_y, log_train1_X = dmatrices('SeasonsLog ~ UserRating', data=tv_df, return_type='dataframe')\n",
    "log_train1_model = sm.OLS(log_train1_y, log_train1_X).fit()\n",
    "log_train1_model.summary()"
   ]
  },
  {
   "cell_type": "code",
   "execution_count": 32,
   "metadata": {
    "collapsed": false
   },
   "outputs": [
    {
     "data": {
      "text/plain": [
       "[0.5, 5.5, -5, 25]"
      ]
     },
     "execution_count": 32,
     "metadata": {},
     "output_type": "execute_result"
    },
    {
     "data": {
      "image/png": "[encoded data removed]",
      "text/plain": [
       "<matplotlib.figure.Figure at 0x10be2a450>"
      ]
     },
     "metadata": {},
     "output_type": "display_data"
    }
   ],
   "source": [
    "log_train1_Y_predict = log_train1_model.predict(log_train1_X).tolist()\n",
    "log_train1_Y_predict = np.array([math.exp(y) for y in log_train1_Y_predict])\n",
    "\n",
    "p = plt.figure(figsize=(15, 5))\n",
    "tv_df.plot(ax=p.gca(), kind='scatter', x='UserRating', y='Seasons', label='Observed', )\n",
    "plt.plot(log_train1_X['UserRating'], log_train1_Y_predict, c='red', label='Model', linewidth=3)\n",
    "plt.xlabel('User Rating', fontsize='16')\n",
    "plt.ylabel('Number of Seasons', fontsize='16')\n",
    "plt.title('Simple Linear Regression (Log-y)', fontsize='16')\n",
    "plt.legend(loc='upper left')\n",
    "plt.axis([0.5, 5.5, -5, 25])"
   ]
  },
  {
   "cell_type": "code",
   "execution_count": 10,
   "metadata": {
    "collapsed": false,
    "scrolled": true
   },
   "outputs": [
    {
     "data": {
      "text/plain": [
       "(array([   3.,   67.,  200.,  124.,  134.,   83.,   40.,   11.,    0.,    2.]),\n",
       " array([-1.79894504, -1.31396889, -0.82899275, -0.3440166 ,  0.14095955,\n",
       "         0.6259357 ,  1.11091185,  1.595888  ,  2.08086415,  2.56584029,\n",
       "         3.05081644]),\n",
       " <a list of 10 Patch objects>)"
      ]
     },
     "execution_count": 10,
     "metadata": {},
     "output_type": "execute_result"
    },
    {
     "data": {
      "image/png": "[encoded data removed]",
      "text/plain": [
       "<matplotlib.figure.Figure at 0x1094b8c50>"
      ]
     },
     "metadata": {},
     "output_type": "display_data"
    }
   ],
   "source": [
    "p = plt.figure(figsize=(15, 5))\n",
    "plt.hist(log_train1_model.resid)"
   ]
  },
  {
   "cell_type": "markdown",
   "metadata": {},
   "source": [
    " ####<font color='red'>Case 1: Cross-validation</font>"
   ]
  },
  {
   "cell_type": "code",
   "execution_count": 41,
   "metadata": {
    "collapsed": false
   },
   "outputs": [
    {
     "data": {
      "text/html": [
       "<div>\n",
       "<table border=\"1\" class=\"dataframe\">\n",
       "  <thead>\n",
       "    <tr style=\"text-align: right;\">\n",
       "      <th></th>\n",
       "      <th>Trial</th>\n",
       "      <th>Random1</th>\n",
       "      <th>Random2</th>\n",
       "      <th>Random3</th>\n",
       "      <th>Random4</th>\n",
       "      <th>Random5</th>\n",
       "      <th>Average</th>\n",
       "      <th>Std</th>\n",
       "    </tr>\n",
       "  </thead>\n",
       "  <tbody>\n",
       "    <tr>\n",
       "      <th>0</th>\n",
       "      <td>Trial 1</td>\n",
       "      <td>0.2519</td>\n",
       "      <td>0.1738</td>\n",
       "      <td>0.0969</td>\n",
       "      <td>0.2912</td>\n",
       "      <td>0.2426</td>\n",
       "      <td>0.2113</td>\n",
       "      <td>0.0686</td>\n",
       "    </tr>\n",
       "    <tr>\n",
       "      <th>1</th>\n",
       "      <td>Trial 2</td>\n",
       "      <td>0.1119</td>\n",
       "      <td>0.2645</td>\n",
       "      <td>0.1611</td>\n",
       "      <td>0.1763</td>\n",
       "      <td>0.2121</td>\n",
       "      <td>0.1852</td>\n",
       "      <td>0.0511</td>\n",
       "    </tr>\n",
       "    <tr>\n",
       "      <th>2</th>\n",
       "      <td>Trial 3</td>\n",
       "      <td>0.3450</td>\n",
       "      <td>0.3324</td>\n",
       "      <td>0.2935</td>\n",
       "      <td>0.3351</td>\n",
       "      <td>0.2364</td>\n",
       "      <td>0.3085</td>\n",
       "      <td>0.0401</td>\n",
       "    </tr>\n",
       "  </tbody>\n",
       "</table>\n",
       "</div>"
      ],
      "text/plain": [
       "     Trial Random1 Random2 Random3 Random4 Random5 Average     Std\n",
       "0  Trial 1  0.2519  0.1738  0.0969  0.2912  0.2426  0.2113  0.0686\n",
       "1  Trial 2  0.1119  0.2645  0.1611  0.1763  0.2121  0.1852  0.0511\n",
       "2  Trial 3  0.3450  0.3324  0.2935  0.3351  0.2364  0.3085  0.0401"
      ]
     },
     "execution_count": 41,
     "metadata": {},
     "output_type": "execute_result"
    }
   ],
   "source": [
    "log_cv1_y, log_cv1_X = dmatrices('SeasonsLog ~ UserRating', data=tv_df, return_type='dataframe')\n",
    "log_cv1_X_array = log_cv1_X.values\n",
    "log_cv1_y_array = log_cv1_y.values\n",
    "\n",
    "n_samples = log_cv1_X_array.shape[0]\n",
    "model = LinearRegression()\n",
    "\n",
    "cv1_metrics = []\n",
    "\n",
    "for i in range(3):\n",
    "    temp = []\n",
    "    cv = cross_validation.ShuffleSplit(n_samples, n_iter=5, random_state=i)\n",
    "    scores = cross_validation.cross_val_score(model, log_cv1_X_array, log_cv1_y_array, cv=cv)\n",
    "    temp.append('Trial ' + str(i+1))\n",
    "    for score in scores:\n",
    "        temp.append(\"%.4f\" % score)\n",
    "    temp.append(\"%.4f\" % scores.mean())\n",
    "    temp.append(\"%.4f\" % scores.std())\n",
    "    cv1_metrics.append(temp)\n",
    "    \n",
    "cols = ['Trial', 'Random1', 'Random2', 'Random3', 'Random4', 'Random5', 'Average', 'Std']\n",
    "pd.DataFrame(cv1_metrics, columns=cols)"
   ]
  },
  {
   "cell_type": "markdown",
   "metadata": {},
   "source": [
    "####<font color='red'>Test case 2: With 1 numeric predictor and 1 categorical predictor (User rating + Genre)</font>"
   ]
  },
  {
   "cell_type": "code",
   "execution_count": 36,
   "metadata": {
    "collapsed": false
   },
   "outputs": [
    {
     "data": {
      "text/html": [
       "<table class=\"simpletable\">\n",
       "<caption>OLS Regression Results</caption>\n",
       "<tr>\n",
       "  <th>Dep. Variable:</th>       <td>SeasonsLog</td>    <th>  R-squared:         </th> <td>   0.256</td>\n",
       "</tr>\n",
       "<tr>\n",
       "  <th>Model:</th>                   <td>OLS</td>       <th>  Adj. R-squared:    </th> <td>   0.247</td>\n",
       "</tr>\n",
       "<tr>\n",
       "  <th>Method:</th>             <td>Least Squares</td>  <th>  F-statistic:       </th> <td>   28.24</td>\n",
       "</tr>\n",
       "<tr>\n",
       "  <th>Date:</th>             <td>Sat, 18 Jul 2015</td> <th>  Prob (F-statistic):</th> <td>7.35e-38</td>\n",
       "</tr>\n",
       "<tr>\n",
       "  <th>Time:</th>                 <td>22:26:08</td>     <th>  Log-Likelihood:    </th> <td> -717.27</td>\n",
       "</tr>\n",
       "<tr>\n",
       "  <th>No. Observations:</th>      <td>   664</td>      <th>  AIC:               </th> <td>   1453.</td>\n",
       "</tr>\n",
       "<tr>\n",
       "  <th>Df Residuals:</th>          <td>   655</td>      <th>  BIC:               </th> <td>   1493.</td>\n",
       "</tr>\n",
       "<tr>\n",
       "  <th>Df Model:</th>              <td>     8</td>      <th>                     </th>     <td> </td>   \n",
       "</tr>\n",
       "<tr>\n",
       "  <th>Covariance Type:</th>      <td>nonrobust</td>    <th>                     </th>     <td> </td>   \n",
       "</tr>\n",
       "</table>\n",
       "<table class=\"simpletable\">\n",
       "<tr>\n",
       "              <td></td>                <th>coef</th>     <th>std err</th>      <th>t</th>      <th>P>|t|</th> <th>[95.0% Conf. Int.]</th> \n",
       "</tr>\n",
       "<tr>\n",
       "  <th>Intercept</th>                <td>   -2.4953</td> <td>    0.247</td> <td>  -10.092</td> <td> 0.000</td> <td>   -2.981    -2.010</td>\n",
       "</tr>\n",
       "<tr>\n",
       "  <th>Genre[T.Cartoons]</th>        <td>    0.4370</td> <td>    0.206</td> <td>    2.122</td> <td> 0.034</td> <td>    0.033     0.841</td>\n",
       "</tr>\n",
       "<tr>\n",
       "  <th>Genre[T.Comedy]</th>          <td>    0.2052</td> <td>    0.123</td> <td>    1.673</td> <td> 0.095</td> <td>   -0.036     0.446</td>\n",
       "</tr>\n",
       "<tr>\n",
       "  <th>Genre[T.Crime]</th>           <td>    0.0531</td> <td>    0.133</td> <td>    0.400</td> <td> 0.689</td> <td>   -0.207     0.313</td>\n",
       "</tr>\n",
       "<tr>\n",
       "  <th>Genre[T.Drama]</th>           <td>    0.0600</td> <td>    0.119</td> <td>    0.504</td> <td> 0.614</td> <td>   -0.174     0.294</td>\n",
       "</tr>\n",
       "<tr>\n",
       "  <th>Genre[T.Fantasy]</th>         <td>   -0.0117</td> <td>    0.174</td> <td>   -0.067</td> <td> 0.946</td> <td>   -0.352     0.329</td>\n",
       "</tr>\n",
       "<tr>\n",
       "  <th>Genre[T.Reality]</th>         <td>    0.4976</td> <td>    0.141</td> <td>    3.525</td> <td> 0.000</td> <td>    0.220     0.775</td>\n",
       "</tr>\n",
       "<tr>\n",
       "  <th>Genre[T.Science-Fiction]</th> <td>   -0.1514</td> <td>    0.187</td> <td>   -0.808</td> <td> 0.419</td> <td>   -0.519     0.217</td>\n",
       "</tr>\n",
       "<tr>\n",
       "  <th>UserRating</th>               <td>    0.8624</td> <td>    0.058</td> <td>   14.933</td> <td> 0.000</td> <td>    0.749     0.976</td>\n",
       "</tr>\n",
       "</table>\n",
       "<table class=\"simpletable\">\n",
       "<tr>\n",
       "  <th>Omnibus:</th>       <td>22.299</td> <th>  Durbin-Watson:     </th> <td>   1.119</td>\n",
       "</tr>\n",
       "<tr>\n",
       "  <th>Prob(Omnibus):</th> <td> 0.000</td> <th>  Jarque-Bera (JB):  </th> <td>  23.638</td>\n",
       "</tr>\n",
       "<tr>\n",
       "  <th>Skew:</th>          <td> 0.444</td> <th>  Prob(JB):          </th> <td>7.36e-06</td>\n",
       "</tr>\n",
       "<tr>\n",
       "  <th>Kurtosis:</th>      <td> 3.255</td> <th>  Cond. No.          </th> <td>    47.9</td>\n",
       "</tr>\n",
       "</table>"
      ],
      "text/plain": [
       "<class 'statsmodels.iolib.summary.Summary'>\n",
       "\"\"\"\n",
       "                            OLS Regression Results                            \n",
       "==============================================================================\n",
       "Dep. Variable:             SeasonsLog   R-squared:                       0.256\n",
       "Model:                            OLS   Adj. R-squared:                  0.247\n",
       "Method:                 Least Squares   F-statistic:                     28.24\n",
       "Date:                Sat, 18 Jul 2015   Prob (F-statistic):           7.35e-38\n",
       "Time:                        22:26:08   Log-Likelihood:                -717.27\n",
       "No. Observations:                 664   AIC:                             1453.\n",
       "Df Residuals:                     655   BIC:                             1493.\n",
       "Df Model:                           8                                         \n",
       "Covariance Type:            nonrobust                                         \n",
       "============================================================================================\n",
       "                               coef    std err          t      P>|t|      [95.0% Conf. Int.]\n",
       "--------------------------------------------------------------------------------------------\n",
       "Intercept                   -2.4953      0.247    -10.092      0.000        -2.981    -2.010\n",
       "Genre[T.Cartoons]            0.4370      0.206      2.122      0.034         0.033     0.841\n",
       "Genre[T.Comedy]              0.2052      0.123      1.673      0.095        -0.036     0.446\n",
       "Genre[T.Crime]               0.0531      0.133      0.400      0.689        -0.207     0.313\n",
       "Genre[T.Drama]               0.0600      0.119      0.504      0.614        -0.174     0.294\n",
       "Genre[T.Fantasy]            -0.0117      0.174     -0.067      0.946        -0.352     0.329\n",
       "Genre[T.Reality]             0.4976      0.141      3.525      0.000         0.220     0.775\n",
       "Genre[T.Science-Fiction]    -0.1514      0.187     -0.808      0.419        -0.519     0.217\n",
       "UserRating                   0.8624      0.058     14.933      0.000         0.749     0.976\n",
       "==============================================================================\n",
       "Omnibus:                       22.299   Durbin-Watson:                   1.119\n",
       "Prob(Omnibus):                  0.000   Jarque-Bera (JB):               23.638\n",
       "Skew:                           0.444   Prob(JB):                     7.36e-06\n",
       "Kurtosis:                       3.255   Cond. No.                         47.9\n",
       "==============================================================================\n",
       "\n",
       "Warnings:\n",
       "[1] Standard Errors assume that the covariance matrix of the errors is correctly specified.\n",
       "\"\"\""
      ]
     },
     "execution_count": 36,
     "metadata": {},
     "output_type": "execute_result"
    }
   ],
   "source": [
    "log_train2_y, log_train2_X = dmatrices('SeasonsLog ~ UserRating + Genre', data=tv_df, return_type='dataframe')\n",
    "log_train2_model = sm.OLS(log_train2_y, log_train2_X).fit()\n",
    "log_train2_model.summary()"
   ]
  },
  {
   "cell_type": "code",
   "execution_count": 37,
   "metadata": {
    "collapsed": true
   },
   "outputs": [],
   "source": [
    "log_train2_Y_predict = log_train2_model.predict(log_train2_X).tolist()\n",
    "log_train2_Y_predict = np.array([math.exp(y) for y in log_train2_Y_predict])"
   ]
  },
  {
   "cell_type": "code",
   "execution_count": 38,
   "metadata": {
    "collapsed": false
   },
   "outputs": [
    {
     "data": {
      "text/plain": [
       "[0.5, 5.5, -5, 25]"
      ]
     },
     "execution_count": 38,
     "metadata": {},
     "output_type": "execute_result"
    },
    {
     "data": {
      "image/png": "[encoded data removed]",
      "text/plain": [
       "<matplotlib.figure.Figure at 0x10c216410>"
      ]
     },
     "metadata": {},
     "output_type": "display_data"
    }
   ],
   "source": [
    "p = plt.figure(figsize=(15, 5))\n",
    "tv_df.plot(ax=p.gca(), kind='scatter', x='UserRating', y='Seasons', label='Observed', )\n",
    "plt.scatter(log_train2_X['UserRating'], log_train2_Y_predict, c='red', label='Model')\n",
    "plt.xlabel('User Rating', fontsize='16')\n",
    "plt.ylabel('Number of Seasons', fontsize='16')\n",
    "plt.title('Multiple Linear Regression (Log-y)', fontsize='16')\n",
    "plt.legend(loc='upper left')\n",
    "plt.axis([0.5, 5.5, -5, 25])"
   ]
  },
  {
   "cell_type": "code",
   "execution_count": 39,
   "metadata": {
    "collapsed": false,
    "scrolled": true
   },
   "outputs": [
    {
     "data": {
      "text/plain": [
       "(array([   3.,    7.,   93.,  225.,  146.,  122.,   53.,   12.,    1.,    2.]),\n",
       " array([-2.31425616, -1.772631  , -1.23100583, -0.68938067, -0.1477555 ,\n",
       "         0.39386966,  0.93549483,  1.47711999,  2.01874516,  2.56037032,\n",
       "         3.10199549]),\n",
       " <a list of 10 Patch objects>)"
      ]
     },
     "execution_count": 39,
     "metadata": {},
     "output_type": "execute_result"
    },
    {
     "data": {
      "image/png": "[encoded data removed]",
      "text/plain": [
       "<matplotlib.figure.Figure at 0x10c14bf10>"
      ]
     },
     "metadata": {},
     "output_type": "display_data"
    }
   ],
   "source": [
    "p = plt.figure(figsize=(15, 5))\n",
    "plt.hist(log_train2_model.resid)"
   ]
  },
  {
   "cell_type": "markdown",
   "metadata": {},
   "source": [
    "####<font color='red'>Case 2: Cross-validation</font>"
   ]
  },
  {
   "cell_type": "code",
   "execution_count": 61,
   "metadata": {
    "collapsed": false
   },
   "outputs": [
    {
     "data": {
      "text/html": [
       "<div>\n",
       "<table border=\"1\" class=\"dataframe\">\n",
       "  <thead>\n",
       "    <tr style=\"text-align: right;\">\n",
       "      <th></th>\n",
       "      <th>Trial</th>\n",
       "      <th>Random1</th>\n",
       "      <th>Random2</th>\n",
       "      <th>Random3</th>\n",
       "      <th>Random4</th>\n",
       "      <th>Random5</th>\n",
       "      <th>Average</th>\n",
       "      <th>Std</th>\n",
       "    </tr>\n",
       "  </thead>\n",
       "  <tbody>\n",
       "    <tr>\n",
       "      <th>0</th>\n",
       "      <td>Trial 1</td>\n",
       "      <td>0.2896</td>\n",
       "      <td>0.1597</td>\n",
       "      <td>0.1704</td>\n",
       "      <td>0.2509</td>\n",
       "      <td>0.2253</td>\n",
       "      <td>0.2192</td>\n",
       "      <td>0.0488</td>\n",
       "    </tr>\n",
       "    <tr>\n",
       "      <th>1</th>\n",
       "      <td>Trial 2</td>\n",
       "      <td>0.2201</td>\n",
       "      <td>0.3575</td>\n",
       "      <td>0.2179</td>\n",
       "      <td>0.2235</td>\n",
       "      <td>0.1971</td>\n",
       "      <td>0.2432</td>\n",
       "      <td>0.0579</td>\n",
       "    </tr>\n",
       "    <tr>\n",
       "      <th>2</th>\n",
       "      <td>Trial 3</td>\n",
       "      <td>0.3909</td>\n",
       "      <td>0.3255</td>\n",
       "      <td>0.3605</td>\n",
       "      <td>0.3717</td>\n",
       "      <td>0.2002</td>\n",
       "      <td>0.3298</td>\n",
       "      <td>0.0682</td>\n",
       "    </tr>\n",
       "  </tbody>\n",
       "</table>\n",
       "</div>"
      ],
      "text/plain": [
       "     Trial Random1 Random2 Random3 Random4 Random5 Average     Std\n",
       "0  Trial 1  0.2896  0.1597  0.1704  0.2509  0.2253  0.2192  0.0488\n",
       "1  Trial 2  0.2201  0.3575  0.2179  0.2235  0.1971  0.2432  0.0579\n",
       "2  Trial 3  0.3909  0.3255  0.3605  0.3717  0.2002  0.3298  0.0682"
      ]
     },
     "execution_count": 61,
     "metadata": {},
     "output_type": "execute_result"
    }
   ],
   "source": [
    "log_cv2_y, log_cv2_X = dmatrices('SeasonsLog ~ UserRating  + Genre', data=tv_df, return_type='dataframe')\n",
    "log_cv2_X_array = log_cv2_X.values\n",
    "log_cv2_y_array = log_cv2_y.values\n",
    "\n",
    "n_samples = log_cv2_X_array.shape[0]\n",
    "model = LinearRegression()\n",
    "\n",
    "cv2_metrics = []\n",
    "\n",
    "for i in range(3):\n",
    "    temp = []\n",
    "    cv = cross_validation.ShuffleSplit(n_samples, n_iter=5, random_state=i)\n",
    "    scores = cross_validation.cross_val_score(model, log_cv2_X_array, log_cv2_y_array, cv=cv)\n",
    "    temp.append('Trial ' + str(i+1))\n",
    "    for score in scores:\n",
    "        temp.append(\"%.4f\" % score)\n",
    "    temp.append(\"%.4f\" % scores.mean())\n",
    "    temp.append(\"%.4f\" % scores.std())\n",
    "    cv2_metrics.append(temp)\n",
    "    \n",
    "cols = ['Trial', 'Random1', 'Random2', 'Random3', 'Random4', 'Random5', 'Average', 'Std']\n",
    "pd.DataFrame(cv2_metrics, columns=cols)"
   ]
  },
  {
   "cell_type": "markdown",
   "metadata": {},
   "source": [
    "####<font color='red'>Test case 3: With 1 numeric predictor and 2 categorical predictors (User rating + Genre + Network)</font>"
   ]
  },
  {
   "cell_type": "code",
   "execution_count": 54,
   "metadata": {
    "collapsed": false
   },
   "outputs": [
    {
     "data": {
      "text/html": [
       "<table class=\"simpletable\">\n",
       "<caption>OLS Regression Results</caption>\n",
       "<tr>\n",
       "  <th>Dep. Variable:</th>       <td>SeasonsLog</td>    <th>  R-squared:         </th> <td>   0.395</td>\n",
       "</tr>\n",
       "<tr>\n",
       "  <th>Model:</th>                   <td>OLS</td>       <th>  Adj. R-squared:    </th> <td>   0.333</td>\n",
       "</tr>\n",
       "<tr>\n",
       "  <th>Method:</th>             <td>Least Squares</td>  <th>  F-statistic:       </th> <td>   6.342</td>\n",
       "</tr>\n",
       "<tr>\n",
       "  <th>Date:</th>             <td>Sat, 18 Jul 2015</td> <th>  Prob (F-statistic):</th> <td>7.20e-36</td>\n",
       "</tr>\n",
       "<tr>\n",
       "  <th>Time:</th>                 <td>22:30:45</td>     <th>  Log-Likelihood:    </th> <td> -648.54</td>\n",
       "</tr>\n",
       "<tr>\n",
       "  <th>No. Observations:</th>      <td>   664</td>      <th>  AIC:               </th> <td>   1423.</td>\n",
       "</tr>\n",
       "<tr>\n",
       "  <th>Df Residuals:</th>          <td>   601</td>      <th>  BIC:               </th> <td>   1706.</td>\n",
       "</tr>\n",
       "<tr>\n",
       "  <th>Df Model:</th>              <td>    62</td>      <th>                     </th>     <td> </td>   \n",
       "</tr>\n",
       "<tr>\n",
       "  <th>Covariance Type:</th>      <td>nonrobust</td>    <th>                     </th>     <td> </td>   \n",
       "</tr>\n",
       "</table>\n",
       "<table class=\"simpletable\">\n",
       "<tr>\n",
       "               <td></td>                 <th>coef</th>     <th>std err</th>      <th>t</th>      <th>P>|t|</th> <th>[95.0% Conf. Int.]</th> \n",
       "</tr>\n",
       "<tr>\n",
       "  <th>Intercept</th>                  <td>   -1.7293</td> <td>    0.321</td> <td>   -5.386</td> <td> 0.000</td> <td>   -2.360    -1.099</td>\n",
       "</tr>\n",
       "<tr>\n",
       "  <th>Genre[T.Cartoons]</th>          <td>    0.4886</td> <td>    0.212</td> <td>    2.300</td> <td> 0.022</td> <td>    0.071     0.906</td>\n",
       "</tr>\n",
       "<tr>\n",
       "  <th>Genre[T.Comedy]</th>            <td>    0.1729</td> <td>    0.122</td> <td>    1.419</td> <td> 0.157</td> <td>   -0.066     0.412</td>\n",
       "</tr>\n",
       "<tr>\n",
       "  <th>Genre[T.Crime]</th>             <td>   -0.0010</td> <td>    0.130</td> <td>   -0.008</td> <td> 0.994</td> <td>   -0.256     0.254</td>\n",
       "</tr>\n",
       "<tr>\n",
       "  <th>Genre[T.Drama]</th>             <td>    0.0153</td> <td>    0.116</td> <td>    0.132</td> <td> 0.895</td> <td>   -0.213     0.244</td>\n",
       "</tr>\n",
       "<tr>\n",
       "  <th>Genre[T.Fantasy]</th>           <td>   -0.0243</td> <td>    0.170</td> <td>   -0.143</td> <td> 0.887</td> <td>   -0.358     0.310</td>\n",
       "</tr>\n",
       "<tr>\n",
       "  <th>Genre[T.Reality]</th>           <td>    0.4185</td> <td>    0.143</td> <td>    2.930</td> <td> 0.004</td> <td>    0.138     0.699</td>\n",
       "</tr>\n",
       "<tr>\n",
       "  <th>Genre[T.Science-Fiction]</th>   <td>   -0.0612</td> <td>    0.182</td> <td>   -0.336</td> <td> 0.737</td> <td>   -0.419     0.296</td>\n",
       "</tr>\n",
       "<tr>\n",
       "  <th>Network[T.A&AMP;E]</th>         <td>    0.2110</td> <td>    0.442</td> <td>    0.478</td> <td> 0.633</td> <td>   -0.657     1.079</td>\n",
       "</tr>\n",
       "<tr>\n",
       "  <th>Network[T.A&E]</th>             <td>   -0.4854</td> <td>    0.297</td> <td>   -1.633</td> <td> 0.103</td> <td>   -1.069     0.098</td>\n",
       "</tr>\n",
       "<tr>\n",
       "  <th>Network[T.ABC]</th>             <td>   -0.5352</td> <td>    0.218</td> <td>   -2.452</td> <td> 0.015</td> <td>   -0.964    -0.106</td>\n",
       "</tr>\n",
       "<tr>\n",
       "  <th>Network[T.ABC Family]</th>      <td>   -0.5754</td> <td>    0.279</td> <td>   -2.065</td> <td> 0.039</td> <td>   -1.123    -0.028</td>\n",
       "</tr>\n",
       "<tr>\n",
       "  <th>Network[T.AMC]</th>             <td>   -0.2561</td> <td>    0.290</td> <td>   -0.882</td> <td> 0.378</td> <td>   -0.826     0.314</td>\n",
       "</tr>\n",
       "<tr>\n",
       "  <th>Network[T.Amazon]</th>          <td>   -1.2530</td> <td>    0.526</td> <td>   -2.382</td> <td> 0.018</td> <td>   -2.286    -0.220</td>\n",
       "</tr>\n",
       "<tr>\n",
       "  <th>Network[T.BBC America]</th>     <td>   -0.1675</td> <td>    0.271</td> <td>   -0.618</td> <td> 0.537</td> <td>   -0.700     0.365</td>\n",
       "</tr>\n",
       "<tr>\n",
       "  <th>Network[T.BET]</th>             <td>    0.1330</td> <td>    0.442</td> <td>    0.301</td> <td> 0.764</td> <td>   -0.735     1.001</td>\n",
       "</tr>\n",
       "<tr>\n",
       "  <th>Network[T.Bravo]</th>           <td>    0.9101</td> <td>    0.521</td> <td>    1.747</td> <td> 0.081</td> <td>   -0.113     1.933</td>\n",
       "</tr>\n",
       "<tr>\n",
       "  <th>Network[T.CBS]</th>             <td>   -0.3045</td> <td>    0.227</td> <td>   -1.343</td> <td> 0.180</td> <td>   -0.750     0.141</td>\n",
       "</tr>\n",
       "<tr>\n",
       "  <th>Network[T.CNNCCNNBCNNSCNN]</th> <td>    1.2301</td> <td>    0.707</td> <td>    1.739</td> <td> 0.083</td> <td>   -0.159     2.619</td>\n",
       "</tr>\n",
       "<tr>\n",
       "  <th>Network[T.Cartoon Network]</th> <td>   -0.7654</td> <td>    0.315</td> <td>   -2.429</td> <td> 0.015</td> <td>   -1.384    -0.146</td>\n",
       "</tr>\n",
       "<tr>\n",
       "  <th>Network[T.Channel 4 in UK]</th> <td>    0.9385</td> <td>    0.442</td> <td>    2.124</td> <td> 0.034</td> <td>    0.071     1.806</td>\n",
       "</tr>\n",
       "<tr>\n",
       "  <th>Network[T.Comedy Central]</th>  <td>   -0.1091</td> <td>    0.319</td> <td>   -0.342</td> <td> 0.733</td> <td>   -0.736     0.518</td>\n",
       "</tr>\n",
       "<tr>\n",
       "  <th>Network[T.DirecTV]</th>         <td>   -0.2216</td> <td>    0.346</td> <td>   -0.641</td> <td> 0.522</td> <td>   -0.900     0.457</td>\n",
       "</tr>\n",
       "<tr>\n",
       "  <th>Network[T.Discovery]</th>       <td>    0.1595</td> <td>    0.448</td> <td>    0.356</td> <td> 0.722</td> <td>   -0.720     1.038</td>\n",
       "</tr>\n",
       "<tr>\n",
       "  <th>Network[T.Disney Channel]</th>  <td>    0.0972</td> <td>    0.523</td> <td>    0.186</td> <td> 0.853</td> <td>   -0.930     1.125</td>\n",
       "</tr>\n",
       "<tr>\n",
       "  <th>Network[T.E]</th>               <td>    0.4837</td> <td>    0.710</td> <td>    0.681</td> <td> 0.496</td> <td>   -0.911     1.878</td>\n",
       "</tr>\n",
       "<tr>\n",
       "  <th>Network[T.E!]</th>              <td>   -0.5551</td> <td>    0.525</td> <td>   -1.057</td> <td> 0.291</td> <td>   -1.586     0.476</td>\n",
       "</tr>\n",
       "<tr>\n",
       "  <th>Network[T.FOX]</th>             <td>   -0.6323</td> <td>    0.221</td> <td>   -2.862</td> <td> 0.004</td> <td>   -1.066    -0.198</td>\n",
       "</tr>\n",
       "<tr>\n",
       "  <th>Network[T.FX]</th>              <td>   -0.5036</td> <td>    0.284</td> <td>   -1.774</td> <td> 0.077</td> <td>   -1.061     0.054</td>\n",
       "</tr>\n",
       "<tr>\n",
       "  <th>Network[T.FXX]</th>             <td>   -0.9907</td> <td>    0.524</td> <td>   -1.891</td> <td> 0.059</td> <td>   -2.019     0.038</td>\n",
       "</tr>\n",
       "<tr>\n",
       "  <th>Network[T.Fox]</th>             <td>   -1.2145</td> <td>    0.522</td> <td>   -2.328</td> <td> 0.020</td> <td>   -2.239    -0.190</td>\n",
       "</tr>\n",
       "<tr>\n",
       "  <th>Network[T.HBO]</th>             <td>   -0.0441</td> <td>    0.253</td> <td>   -0.175</td> <td> 0.862</td> <td>   -0.541     0.452</td>\n",
       "</tr>\n",
       "<tr>\n",
       "  <th>Network[T.Hulu]</th>            <td>   -0.3763</td> <td>    0.708</td> <td>   -0.532</td> <td> 0.595</td> <td>   -1.767     1.014</td>\n",
       "</tr>\n",
       "<tr>\n",
       "  <th>Network[T.IFC]</th>             <td>   -0.4430</td> <td>    0.522</td> <td>   -0.849</td> <td> 0.396</td> <td>   -1.468     0.582</td>\n",
       "</tr>\n",
       "<tr>\n",
       "  <th>Network[T.ION]</th>             <td>    0.1635</td> <td>    0.443</td> <td>    0.369</td> <td> 0.712</td> <td>   -0.707     1.034</td>\n",
       "</tr>\n",
       "<tr>\n",
       "  <th>Network[T.ITC]</th>             <td>   -0.3408</td> <td>    0.710</td> <td>   -0.480</td> <td> 0.632</td> <td>   -1.736     1.054</td>\n",
       "</tr>\n",
       "<tr>\n",
       "  <th>Network[T.Lifetime]</th>        <td>   -0.4142</td> <td>    0.284</td> <td>   -1.459</td> <td> 0.145</td> <td>   -0.972     0.143</td>\n",
       "</tr>\n",
       "<tr>\n",
       "  <th>Network[T.MTV]</th>             <td>   -0.3957</td> <td>    0.260</td> <td>   -1.524</td> <td> 0.128</td> <td>   -0.906     0.114</td>\n",
       "</tr>\n",
       "<tr>\n",
       "  <th>Network[T.N/A]</th>             <td>   -0.4791</td> <td>    0.238</td> <td>   -2.016</td> <td> 0.044</td> <td>   -0.946    -0.012</td>\n",
       "</tr>\n",
       "<tr>\n",
       "  <th>Network[T.NBC]</th>             <td>   -0.6156</td> <td>    0.217</td> <td>   -2.842</td> <td> 0.005</td> <td>   -1.041    -0.190</td>\n",
       "</tr>\n",
       "<tr>\n",
       "  <th>Network[T.Nat Geo Wild]</th>    <td>    0.8406</td> <td>    0.710</td> <td>    1.184</td> <td> 0.237</td> <td>   -0.554     2.235</td>\n",
       "</tr>\n",
       "<tr>\n",
       "  <th>Network[T.Netflix]</th>         <td>   -0.3867</td> <td>    0.523</td> <td>   -0.739</td> <td> 0.460</td> <td>   -1.414     0.641</td>\n",
       "</tr>\n",
       "<tr>\n",
       "  <th>Network[T.Nick at Nite]</th>    <td>   -0.1309</td> <td>    0.707</td> <td>   -0.185</td> <td> 0.853</td> <td>   -1.520     1.258</td>\n",
       "</tr>\n",
       "<tr>\n",
       "  <th>Network[T.Nickelodeon]</th>     <td>   -0.6074</td> <td>    0.346</td> <td>   -1.756</td> <td> 0.080</td> <td>   -1.287     0.072</td>\n",
       "</tr>\n",
       "<tr>\n",
       "  <th>Network[T.Oxygen]</th>          <td>   -0.5678</td> <td>    0.710</td> <td>   -0.800</td> <td> 0.424</td> <td>   -1.962     0.826</td>\n",
       "</tr>\n",
       "<tr>\n",
       "  <th>Network[T.Psych]</th>           <td>    0.4613</td> <td>    0.398</td> <td>    1.159</td> <td> 0.247</td> <td>   -0.320     1.243</td>\n",
       "</tr>\n",
       "<tr>\n",
       "  <th>Network[T.ReelzChannel]</th>    <td>   -0.5707</td> <td>    0.708</td> <td>   -0.807</td> <td> 0.420</td> <td>   -1.960     0.819</td>\n",
       "</tr>\n",
       "<tr>\n",
       "  <th>Network[T.Showcase]</th>        <td>   -0.1443</td> <td>    0.522</td> <td>   -0.276</td> <td> 0.782</td> <td>   -1.169     0.881</td>\n",
       "</tr>\n",
       "<tr>\n",
       "  <th>Network[T.Showtime]</th>        <td>    0.4083</td> <td>    0.280</td> <td>    1.460</td> <td> 0.145</td> <td>   -0.141     0.958</td>\n",
       "</tr>\n",
       "<tr>\n",
       "  <th>Network[T.Spike TV]</th>        <td>   -0.5923</td> <td>    0.709</td> <td>   -0.836</td> <td> 0.404</td> <td>   -1.985     0.800</td>\n",
       "</tr>\n",
       "<tr>\n",
       "  <th>Network[T.Starz]</th>           <td>   -0.6483</td> <td>    0.305</td> <td>   -2.122</td> <td> 0.034</td> <td>   -1.248    -0.048</td>\n",
       "</tr>\n",
       "<tr>\n",
       "  <th>Network[T.Syfy]</th>            <td>   -0.2529</td> <td>    0.256</td> <td>   -0.988</td> <td> 0.324</td> <td>   -0.756     0.250</td>\n",
       "</tr>\n",
       "<tr>\n",
       "  <th>Network[T.TBS]</th>             <td>   -0.4810</td> <td>    0.331</td> <td>   -1.455</td> <td> 0.146</td> <td>   -1.130     0.168</td>\n",
       "</tr>\n",
       "<tr>\n",
       "  <th>Network[T.TLC]</th>             <td>   -0.7769</td> <td>    0.529</td> <td>   -1.468</td> <td> 0.143</td> <td>   -1.816     0.262</td>\n",
       "</tr>\n",
       "<tr>\n",
       "  <th>Network[T.TNT]</th>             <td>   -0.1335</td> <td>    0.246</td> <td>   -0.543</td> <td> 0.587</td> <td>   -0.616     0.349</td>\n",
       "</tr>\n",
       "<tr>\n",
       "  <th>Network[T.TV Land]</th>         <td>   -0.0133</td> <td>    0.398</td> <td>   -0.033</td> <td> 0.973</td> <td>   -0.796     0.769</td>\n",
       "</tr>\n",
       "<tr>\n",
       "  <th>Network[T.The CW]</th>          <td>   -0.2695</td> <td>    0.236</td> <td>   -1.144</td> <td> 0.253</td> <td>   -0.732     0.193</td>\n",
       "</tr>\n",
       "<tr>\n",
       "  <th>Network[T.USA]</th>             <td>    0.3421</td> <td>    0.329</td> <td>    1.040</td> <td> 0.299</td> <td>   -0.304     0.988</td>\n",
       "</tr>\n",
       "<tr>\n",
       "  <th>Network[T.USA Network]</th>     <td>    0.0379</td> <td>    0.265</td> <td>    0.143</td> <td> 0.886</td> <td>   -0.483     0.558</td>\n",
       "</tr>\n",
       "<tr>\n",
       "  <th>Network[T.VH1]</th>             <td>   -0.3735</td> <td>    0.526</td> <td>   -0.710</td> <td> 0.478</td> <td>   -1.406     0.659</td>\n",
       "</tr>\n",
       "<tr>\n",
       "  <th>Network[T.WE tv]</th>           <td>    1.2166</td> <td>    0.710</td> <td>    1.714</td> <td> 0.087</td> <td>   -0.177     2.611</td>\n",
       "</tr>\n",
       "<tr>\n",
       "  <th>Network[T.syndicated]</th>      <td>   -0.4422</td> <td>    0.727</td> <td>   -0.608</td> <td> 0.543</td> <td>   -1.871     0.986</td>\n",
       "</tr>\n",
       "<tr>\n",
       "  <th>UserRating</th>                 <td>    0.7616</td> <td>    0.060</td> <td>   12.614</td> <td> 0.000</td> <td>    0.643     0.880</td>\n",
       "</tr>\n",
       "</table>\n",
       "<table class=\"simpletable\">\n",
       "<tr>\n",
       "  <th>Omnibus:</th>       <td>55.975</td> <th>  Durbin-Watson:     </th> <td>   1.188</td>\n",
       "</tr>\n",
       "<tr>\n",
       "  <th>Prob(Omnibus):</th> <td> 0.000</td> <th>  Jarque-Bera (JB):  </th> <td>  76.120</td>\n",
       "</tr>\n",
       "<tr>\n",
       "  <th>Skew:</th>          <td> 0.659</td> <th>  Prob(JB):          </th> <td>2.96e-17</td>\n",
       "</tr>\n",
       "<tr>\n",
       "  <th>Kurtosis:</th>      <td> 4.007</td> <th>  Cond. No.          </th> <td>    229.</td>\n",
       "</tr>\n",
       "</table>"
      ],
      "text/plain": [
       "<class 'statsmodels.iolib.summary.Summary'>\n",
       "\"\"\"\n",
       "                            OLS Regression Results                            \n",
       "==============================================================================\n",
       "Dep. Variable:             SeasonsLog   R-squared:                       0.395\n",
       "Model:                            OLS   Adj. R-squared:                  0.333\n",
       "Method:                 Least Squares   F-statistic:                     6.342\n",
       "Date:                Sat, 18 Jul 2015   Prob (F-statistic):           7.20e-36\n",
       "Time:                        22:30:45   Log-Likelihood:                -648.54\n",
       "No. Observations:                 664   AIC:                             1423.\n",
       "Df Residuals:                     601   BIC:                             1706.\n",
       "Df Model:                          62                                         \n",
       "Covariance Type:            nonrobust                                         \n",
       "==============================================================================================\n",
       "                                 coef    std err          t      P>|t|      [95.0% Conf. Int.]\n",
       "----------------------------------------------------------------------------------------------\n",
       "Intercept                     -1.7293      0.321     -5.386      0.000        -2.360    -1.099\n",
       "Genre[T.Cartoons]              0.4886      0.212      2.300      0.022         0.071     0.906\n",
       "Genre[T.Comedy]                0.1729      0.122      1.419      0.157        -0.066     0.412\n",
       "Genre[T.Crime]                -0.0010      0.130     -0.008      0.994        -0.256     0.254\n",
       "Genre[T.Drama]                 0.0153      0.116      0.132      0.895        -0.213     0.244\n",
       "Genre[T.Fantasy]              -0.0243      0.170     -0.143      0.887        -0.358     0.310\n",
       "Genre[T.Reality]               0.4185      0.143      2.930      0.004         0.138     0.699\n",
       "Genre[T.Science-Fiction]      -0.0612      0.182     -0.336      0.737        -0.419     0.296\n",
       "Network[T.A&AMP;E]             0.2110      0.442      0.478      0.633        -0.657     1.079\n",
       "Network[T.A&E]                -0.4854      0.297     -1.633      0.103        -1.069     0.098\n",
       "Network[T.ABC]                -0.5352      0.218     -2.452      0.015        -0.964    -0.106\n",
       "Network[T.ABC Family]         -0.5754      0.279     -2.065      0.039        -1.123    -0.028\n",
       "Network[T.AMC]                -0.2561      0.290     -0.882      0.378        -0.826     0.314\n",
       "Network[T.Amazon]             -1.2530      0.526     -2.382      0.018        -2.286    -0.220\n",
       "Network[T.BBC America]        -0.1675      0.271     -0.618      0.537        -0.700     0.365\n",
       "Network[T.BET]                 0.1330      0.442      0.301      0.764        -0.735     1.001\n",
       "Network[T.Bravo]               0.9101      0.521      1.747      0.081        -0.113     1.933\n",
       "Network[T.CBS]                -0.3045      0.227     -1.343      0.180        -0.750     0.141\n",
       "Network[T.CNNCCNNBCNNSCNN]     1.2301      0.707      1.739      0.083        -0.159     2.619\n",
       "Network[T.Cartoon Network]    -0.7654      0.315     -2.429      0.015        -1.384    -0.146\n",
       "Network[T.Channel 4 in UK]     0.9385      0.442      2.124      0.034         0.071     1.806\n",
       "Network[T.Comedy Central]     -0.1091      0.319     -0.342      0.733        -0.736     0.518\n",
       "Network[T.DirecTV]            -0.2216      0.346     -0.641      0.522        -0.900     0.457\n",
       "Network[T.Discovery]           0.1595      0.448      0.356      0.722        -0.720     1.038\n",
       "Network[T.Disney Channel]      0.0972      0.523      0.186      0.853        -0.930     1.125\n",
       "Network[T.E]                   0.4837      0.710      0.681      0.496        -0.911     1.878\n",
       "Network[T.E!]                 -0.5551      0.525     -1.057      0.291        -1.586     0.476\n",
       "Network[T.FOX]                -0.6323      0.221     -2.862      0.004        -1.066    -0.198\n",
       "Network[T.FX]                 -0.5036      0.284     -1.774      0.077        -1.061     0.054\n",
       "Network[T.FXX]                -0.9907      0.524     -1.891      0.059        -2.019     0.038\n",
       "Network[T.Fox]                -1.2145      0.522     -2.328      0.020        -2.239    -0.190\n",
       "Network[T.HBO]                -0.0441      0.253     -0.175      0.862        -0.541     0.452\n",
       "Network[T.Hulu]               -0.3763      0.708     -0.532      0.595        -1.767     1.014\n",
       "Network[T.IFC]                -0.4430      0.522     -0.849      0.396        -1.468     0.582\n",
       "Network[T.ION]                 0.1635      0.443      0.369      0.712        -0.707     1.034\n",
       "Network[T.ITC]                -0.3408      0.710     -0.480      0.632        -1.736     1.054\n",
       "Network[T.Lifetime]           -0.4142      0.284     -1.459      0.145        -0.972     0.143\n",
       "Network[T.MTV]                -0.3957      0.260     -1.524      0.128        -0.906     0.114\n",
       "Network[T.N/A]                -0.4791      0.238     -2.016      0.044        -0.946    -0.012\n",
       "Network[T.NBC]                -0.6156      0.217     -2.842      0.005        -1.041    -0.190\n",
       "Network[T.Nat Geo Wild]        0.8406      0.710      1.184      0.237        -0.554     2.235\n",
       "Network[T.Netflix]            -0.3867      0.523     -0.739      0.460        -1.414     0.641\n",
       "Network[T.Nick at Nite]       -0.1309      0.707     -0.185      0.853        -1.520     1.258\n",
       "Network[T.Nickelodeon]        -0.6074      0.346     -1.756      0.080        -1.287     0.072\n",
       "Network[T.Oxygen]             -0.5678      0.710     -0.800      0.424        -1.962     0.826\n",
       "Network[T.Psych]               0.4613      0.398      1.159      0.247        -0.320     1.243\n",
       "Network[T.ReelzChannel]       -0.5707      0.708     -0.807      0.420        -1.960     0.819\n",
       "Network[T.Showcase]           -0.1443      0.522     -0.276      0.782        -1.169     0.881\n",
       "Network[T.Showtime]            0.4083      0.280      1.460      0.145        -0.141     0.958\n",
       "Network[T.Spike TV]           -0.5923      0.709     -0.836      0.404        -1.985     0.800\n",
       "Network[T.Starz]              -0.6483      0.305     -2.122      0.034        -1.248    -0.048\n",
       "Network[T.Syfy]               -0.2529      0.256     -0.988      0.324        -0.756     0.250\n",
       "Network[T.TBS]                -0.4810      0.331     -1.455      0.146        -1.130     0.168\n",
       "Network[T.TLC]                -0.7769      0.529     -1.468      0.143        -1.816     0.262\n",
       "Network[T.TNT]                -0.1335      0.246     -0.543      0.587        -0.616     0.349\n",
       "Network[T.TV Land]            -0.0133      0.398     -0.033      0.973        -0.796     0.769\n",
       "Network[T.The CW]             -0.2695      0.236     -1.144      0.253        -0.732     0.193\n",
       "Network[T.USA]                 0.3421      0.329      1.040      0.299        -0.304     0.988\n",
       "Network[T.USA Network]         0.0379      0.265      0.143      0.886        -0.483     0.558\n",
       "Network[T.VH1]                -0.3735      0.526     -0.710      0.478        -1.406     0.659\n",
       "Network[T.WE tv]               1.2166      0.710      1.714      0.087        -0.177     2.611\n",
       "Network[T.syndicated]         -0.4422      0.727     -0.608      0.543        -1.871     0.986\n",
       "UserRating                     0.7616      0.060     12.614      0.000         0.643     0.880\n",
       "==============================================================================\n",
       "Omnibus:                       55.975   Durbin-Watson:                   1.188\n",
       "Prob(Omnibus):                  0.000   Jarque-Bera (JB):               76.120\n",
       "Skew:                           0.659   Prob(JB):                     2.96e-17\n",
       "Kurtosis:                       4.007   Cond. No.                         229.\n",
       "==============================================================================\n",
       "\n",
       "Warnings:\n",
       "[1] Standard Errors assume that the covariance matrix of the errors is correctly specified.\n",
       "\"\"\""
      ]
     },
     "execution_count": 54,
     "metadata": {},
     "output_type": "execute_result"
    }
   ],
   "source": [
    "log_train3_y, log_train3_X = dmatrices('SeasonsLog ~ UserRating + Genre + Network', data=tv_df, return_type='dataframe')\n",
    "log_train3_model = sm.OLS(log_train3_y, log_train3_X).fit()\n",
    "log_train3_model.summary()"
   ]
  },
  {
   "cell_type": "code",
   "execution_count": 55,
   "metadata": {
    "collapsed": false
   },
   "outputs": [
    {
     "data": {
      "text/plain": [
       "[0.5, 5.5, -5, 25]"
      ]
     },
     "execution_count": 55,
     "metadata": {},
     "output_type": "execute_result"
    },
    {
     "data": {
      "image/png": "[encoded data removed]",
      "text/plain": [
       "<matplotlib.figure.Figure at 0x10b6bb810>"
      ]
     },
     "metadata": {},
     "output_type": "display_data"
    }
   ],
   "source": [
    "log_train3_Y_predict = log_train3_model.predict(log_train3_X).tolist()\n",
    "log_train3_Y_predict = np.array([math.exp(y) for y in log_train3_Y_predict])\n",
    "p = plt.figure(figsize=(15, 5))\n",
    "tv_df.plot(ax=p.gca(), kind='scatter', x='UserRating', y='Seasons', label='Observed', )\n",
    "plt.scatter(log_train3_X['UserRating'], log_train3_Y_predict, c='red', label='Model')\n",
    "plt.xlabel('User Rating', fontsize='16')\n",
    "plt.ylabel('Number of Seasons', fontsize='16')\n",
    "plt.title('Multiple Linear Regression (Log-y)', fontsize='16')\n",
    "plt.legend(loc='upper left')\n",
    "plt.axis([0.5, 5.5, -5, 25])"
   ]
  },
  {
   "cell_type": "code",
   "execution_count": 48,
   "metadata": {
    "collapsed": false
   },
   "outputs": [
    {
     "data": {
      "text/plain": [
       "(array([   6.,   25.,  172.,  215.,  132.,   73.,   34.,    4.,    1.,    2.]),\n",
       " array([-1.88156403, -1.38203793, -0.88251184, -0.38298575,  0.11654034,\n",
       "         0.61606643,  1.11559252,  1.61511861,  2.11464471,  2.6141708 ,\n",
       "         3.11369689]),\n",
       " <a list of 10 Patch objects>)"
      ]
     },
     "execution_count": 48,
     "metadata": {},
     "output_type": "execute_result"
    },
    {
     "data": {
      "image/png": "[encoded data removed]",
      "text/plain": [
       "<matplotlib.figure.Figure at 0x10baf9a50>"
      ]
     },
     "metadata": {},
     "output_type": "display_data"
    }
   ],
   "source": [
    "p = plt.figure(figsize=(15, 5))\n",
    "plt.hist(log_train3_model.resid)"
   ]
  },
  {
   "cell_type": "markdown",
   "metadata": {},
   "source": [
    "####<font color='red'>Case 3: Cross-validation</font> "
   ]
  },
  {
   "cell_type": "code",
   "execution_count": 62,
   "metadata": {
    "collapsed": false
   },
   "outputs": [
    {
     "data": {
      "text/html": [
       "<div>\n",
       "<table border=\"1\" class=\"dataframe\">\n",
       "  <thead>\n",
       "    <tr style=\"text-align: right;\">\n",
       "      <th></th>\n",
       "      <th>Trial</th>\n",
       "      <th>Random1</th>\n",
       "      <th>Random2</th>\n",
       "      <th>Random3</th>\n",
       "      <th>Random4</th>\n",
       "      <th>Random5</th>\n",
       "      <th>Average</th>\n",
       "      <th>Std</th>\n",
       "    </tr>\n",
       "  </thead>\n",
       "  <tbody>\n",
       "    <tr>\n",
       "      <th>0</th>\n",
       "      <td>Trial 1</td>\n",
       "      <td>0.4145</td>\n",
       "      <td>0.0023</td>\n",
       "      <td>0.2128</td>\n",
       "      <td>0.2593</td>\n",
       "      <td>0.3350</td>\n",
       "      <td>0.2448</td>\n",
       "      <td>0.1393</td>\n",
       "    </tr>\n",
       "    <tr>\n",
       "      <th>1</th>\n",
       "      <td>Trial 2</td>\n",
       "      <td>0.1540</td>\n",
       "      <td>0.3669</td>\n",
       "      <td>0.1938</td>\n",
       "      <td>0.3478</td>\n",
       "      <td>0.2224</td>\n",
       "      <td>0.2570</td>\n",
       "      <td>0.0850</td>\n",
       "    </tr>\n",
       "    <tr>\n",
       "      <th>2</th>\n",
       "      <td>Trial 3</td>\n",
       "      <td>0.3776</td>\n",
       "      <td>0.3499</td>\n",
       "      <td>0.4815</td>\n",
       "      <td>0.3687</td>\n",
       "      <td>0.2068</td>\n",
       "      <td>0.3569</td>\n",
       "      <td>0.0880</td>\n",
       "    </tr>\n",
       "  </tbody>\n",
       "</table>\n",
       "</div>"
      ],
      "text/plain": [
       "     Trial Random1 Random2 Random3 Random4 Random5 Average     Std\n",
       "0  Trial 1  0.4145  0.0023  0.2128  0.2593  0.3350  0.2448  0.1393\n",
       "1  Trial 2  0.1540  0.3669  0.1938  0.3478  0.2224  0.2570  0.0850\n",
       "2  Trial 3  0.3776  0.3499  0.4815  0.3687  0.2068  0.3569  0.0880"
      ]
     },
     "execution_count": 62,
     "metadata": {},
     "output_type": "execute_result"
    }
   ],
   "source": [
    "log_cv3_y, log_cv3_X = dmatrices('SeasonsLog ~ UserRating + Genre + Network', data=tv_df, return_type='dataframe')\n",
    "log_cv3_X_array = log_cv3_X.values\n",
    "log_cv3_y_array = log_cv3_y.values\n",
    "\n",
    "n_samples = log_cv3_X_array.shape[0]\n",
    "model = LinearRegression()\n",
    "\n",
    "cv3_metrics = []\n",
    "\n",
    "for i in range(3):\n",
    "    temp = []\n",
    "    cv = cross_validation.ShuffleSplit(n_samples, n_iter=5, random_state=i)\n",
    "    scores = cross_validation.cross_val_score(model, log_cv3_X_array, log_cv3_y_array, cv=cv)\n",
    "    temp.append('Trial ' + str(i+1))\n",
    "    for score in scores:\n",
    "        temp.append(\"%.4f\" % score)\n",
    "    temp.append(\"%.4f\" % scores.mean())\n",
    "    temp.append(\"%.4f\" % scores.std())\n",
    "    cv3_metrics.append(temp)\n",
    "    \n",
    "cols = ['Trial', 'Random1', 'Random2', 'Random3', 'Random4', 'Random5', 'Average', 'Std']\n",
    "pd.DataFrame(cv3_metrics, columns=cols)"
   ]
  },
  {
   "cell_type": "markdown",
   "metadata": {},
   "source": [
    "####<font color='red'>Test case 4: With 1 numeric predictor and 3 categorical predictors (User rating + Genre + Network + Duration)</font>"
   ]
  },
  {
   "cell_type": "code",
   "execution_count": 57,
   "metadata": {
    "collapsed": false
   },
   "outputs": [
    {
     "data": {
      "text/html": [
       "<table class=\"simpletable\">\n",
       "<caption>OLS Regression Results</caption>\n",
       "<tr>\n",
       "  <th>Dep. Variable:</th>       <td>SeasonsLog</td>    <th>  R-squared:         </th> <td>   0.402</td>\n",
       "</tr>\n",
       "<tr>\n",
       "  <th>Model:</th>                   <td>OLS</td>       <th>  Adj. R-squared:    </th> <td>   0.336</td>\n",
       "</tr>\n",
       "<tr>\n",
       "  <th>Method:</th>             <td>Least Squares</td>  <th>  F-statistic:       </th> <td>   6.090</td>\n",
       "</tr>\n",
       "<tr>\n",
       "  <th>Date:</th>             <td>Sat, 18 Jul 2015</td> <th>  Prob (F-statistic):</th> <td>1.62e-35</td>\n",
       "</tr>\n",
       "<tr>\n",
       "  <th>Time:</th>                 <td>22:35:35</td>     <th>  Log-Likelihood:    </th> <td> -644.76</td>\n",
       "</tr>\n",
       "<tr>\n",
       "  <th>No. Observations:</th>      <td>   664</td>      <th>  AIC:               </th> <td>   1424.</td>\n",
       "</tr>\n",
       "<tr>\n",
       "  <th>Df Residuals:</th>          <td>   597</td>      <th>  BIC:               </th> <td>   1725.</td>\n",
       "</tr>\n",
       "<tr>\n",
       "  <th>Df Model:</th>              <td>    66</td>      <th>                     </th>     <td> </td>   \n",
       "</tr>\n",
       "<tr>\n",
       "  <th>Covariance Type:</th>      <td>nonrobust</td>    <th>                     </th>     <td> </td>   \n",
       "</tr>\n",
       "</table>\n",
       "<table class=\"simpletable\">\n",
       "<tr>\n",
       "               <td></td>                 <th>coef</th>     <th>std err</th>      <th>t</th>      <th>P>|t|</th> <th>[95.0% Conf. Int.]</th> \n",
       "</tr>\n",
       "<tr>\n",
       "  <th>Intercept</th>                  <td>   -0.8791</td> <td>    0.546</td> <td>   -1.610</td> <td> 0.108</td> <td>   -1.952     0.194</td>\n",
       "</tr>\n",
       "<tr>\n",
       "  <th>Genre[T.Cartoons]</th>          <td>    0.4138</td> <td>    0.226</td> <td>    1.830</td> <td> 0.068</td> <td>   -0.030     0.858</td>\n",
       "</tr>\n",
       "<tr>\n",
       "  <th>Genre[T.Comedy]</th>            <td>    0.1575</td> <td>    0.136</td> <td>    1.157</td> <td> 0.248</td> <td>   -0.110     0.425</td>\n",
       "</tr>\n",
       "<tr>\n",
       "  <th>Genre[T.Crime]</th>             <td>   -0.0001</td> <td>    0.129</td> <td>   -0.001</td> <td> 0.999</td> <td>   -0.254     0.254</td>\n",
       "</tr>\n",
       "<tr>\n",
       "  <th>Genre[T.Drama]</th>             <td>    0.0162</td> <td>    0.116</td> <td>    0.139</td> <td> 0.889</td> <td>   -0.212     0.245</td>\n",
       "</tr>\n",
       "<tr>\n",
       "  <th>Genre[T.Fantasy]</th>           <td>   -0.0109</td> <td>    0.170</td> <td>   -0.064</td> <td> 0.949</td> <td>   -0.344     0.323</td>\n",
       "</tr>\n",
       "<tr>\n",
       "  <th>Genre[T.Reality]</th>           <td>    0.4192</td> <td>    0.143</td> <td>    2.938</td> <td> 0.003</td> <td>    0.139     0.699</td>\n",
       "</tr>\n",
       "<tr>\n",
       "  <th>Genre[T.Science-Fiction]</th>   <td>   -0.0712</td> <td>    0.182</td> <td>   -0.392</td> <td> 0.696</td> <td>   -0.428     0.286</td>\n",
       "</tr>\n",
       "<tr>\n",
       "  <th>Network[T.A&AMP;E]</th>         <td>    0.4081</td> <td>    0.452</td> <td>    0.902</td> <td> 0.367</td> <td>   -0.480     1.297</td>\n",
       "</tr>\n",
       "<tr>\n",
       "  <th>Network[T.A&E]</th>             <td>   -0.3088</td> <td>    0.316</td> <td>   -0.978</td> <td> 0.328</td> <td>   -0.929     0.311</td>\n",
       "</tr>\n",
       "<tr>\n",
       "  <th>Network[T.ABC]</th>             <td>   -0.3473</td> <td>    0.240</td> <td>   -1.447</td> <td> 0.148</td> <td>   -0.819     0.124</td>\n",
       "</tr>\n",
       "<tr>\n",
       "  <th>Network[T.ABC Family]</th>      <td>   -0.4045</td> <td>    0.297</td> <td>   -1.360</td> <td> 0.174</td> <td>   -0.989     0.180</td>\n",
       "</tr>\n",
       "<tr>\n",
       "  <th>Network[T.AMC]</th>             <td>   -0.0574</td> <td>    0.306</td> <td>   -0.187</td> <td> 0.851</td> <td>   -0.659     0.544</td>\n",
       "</tr>\n",
       "<tr>\n",
       "  <th>Network[T.Amazon]</th>          <td>   -1.2588</td> <td>    0.549</td> <td>   -2.293</td> <td> 0.022</td> <td>   -2.337    -0.180</td>\n",
       "</tr>\n",
       "<tr>\n",
       "  <th>Network[T.BBC America]</th>     <td>   -0.0240</td> <td>    0.291</td> <td>   -0.082</td> <td> 0.934</td> <td>   -0.595     0.547</td>\n",
       "</tr>\n",
       "<tr>\n",
       "  <th>Network[T.BET]</th>             <td>    0.3192</td> <td>    0.452</td> <td>    0.707</td> <td> 0.480</td> <td>   -0.568     1.206</td>\n",
       "</tr>\n",
       "<tr>\n",
       "  <th>Network[T.Bravo]</th>           <td>    0.9236</td> <td>    0.545</td> <td>    1.695</td> <td> 0.091</td> <td>   -0.146     1.994</td>\n",
       "</tr>\n",
       "<tr>\n",
       "  <th>Network[T.CBS]</th>             <td>   -0.1061</td> <td>    0.248</td> <td>   -0.428</td> <td> 0.669</td> <td>   -0.593     0.381</td>\n",
       "</tr>\n",
       "<tr>\n",
       "  <th>Network[T.CNNCCNNBCNNSCNN]</th> <td>    1.4249</td> <td>    0.713</td> <td>    2.000</td> <td> 0.046</td> <td>    0.026     2.824</td>\n",
       "</tr>\n",
       "<tr>\n",
       "  <th>Network[T.Cartoon Network]</th> <td>   -0.5561</td> <td>    0.334</td> <td>   -1.665</td> <td> 0.096</td> <td>   -1.212     0.100</td>\n",
       "</tr>\n",
       "<tr>\n",
       "  <th>Network[T.Channel 4 in UK]</th> <td>    1.1392</td> <td>    0.455</td> <td>    2.502</td> <td> 0.013</td> <td>    0.245     2.033</td>\n",
       "</tr>\n",
       "<tr>\n",
       "  <th>Network[T.Comedy Central]</th>  <td>    0.0946</td> <td>    0.335</td> <td>    0.282</td> <td> 0.778</td> <td>   -0.564     0.753</td>\n",
       "</tr>\n",
       "<tr>\n",
       "  <th>Network[T.DirecTV]</th>         <td>   -0.0689</td> <td>    0.358</td> <td>   -0.192</td> <td> 0.848</td> <td>   -0.773     0.635</td>\n",
       "</tr>\n",
       "<tr>\n",
       "  <th>Network[T.Discovery]</th>       <td>    0.2922</td> <td>    0.459</td> <td>    0.637</td> <td> 0.524</td> <td>   -0.609     1.193</td>\n",
       "</tr>\n",
       "<tr>\n",
       "  <th>Network[T.Disney Channel]</th>  <td>    0.2744</td> <td>    0.531</td> <td>    0.516</td> <td> 0.606</td> <td>   -0.769     1.318</td>\n",
       "</tr>\n",
       "<tr>\n",
       "  <th>Network[T.E]</th>               <td>    0.6972</td> <td>    0.716</td> <td>    0.974</td> <td> 0.330</td> <td>   -0.709     2.103</td>\n",
       "</tr>\n",
       "<tr>\n",
       "  <th>Network[T.E!]</th>              <td>   -0.3567</td> <td>    0.532</td> <td>   -0.671</td> <td> 0.503</td> <td>   -1.401     0.688</td>\n",
       "</tr>\n",
       "<tr>\n",
       "  <th>Network[T.FOX]</th>             <td>   -0.4366</td> <td>    0.243</td> <td>   -1.794</td> <td> 0.073</td> <td>   -0.915     0.041</td>\n",
       "</tr>\n",
       "<tr>\n",
       "  <th>Network[T.FX]</th>              <td>   -0.3010</td> <td>    0.302</td> <td>   -0.995</td> <td> 0.320</td> <td>   -0.895     0.293</td>\n",
       "</tr>\n",
       "<tr>\n",
       "  <th>Network[T.FXX]</th>             <td>   -0.8062</td> <td>    0.532</td> <td>   -1.517</td> <td> 0.130</td> <td>   -1.850     0.238</td>\n",
       "</tr>\n",
       "<tr>\n",
       "  <th>Network[T.Fox]</th>             <td>   -1.0184</td> <td>    0.530</td> <td>   -1.920</td> <td> 0.055</td> <td>   -2.060     0.023</td>\n",
       "</tr>\n",
       "<tr>\n",
       "  <th>Network[T.HBO]</th>             <td>    0.1547</td> <td>    0.271</td> <td>    0.570</td> <td> 0.569</td> <td>   -0.378     0.687</td>\n",
       "</tr>\n",
       "<tr>\n",
       "  <th>Network[T.Hulu]</th>            <td>   -0.1868</td> <td>    0.713</td> <td>   -0.262</td> <td> 0.793</td> <td>   -1.587     1.214</td>\n",
       "</tr>\n",
       "<tr>\n",
       "  <th>Network[T.IFC]</th>             <td>   -0.2454</td> <td>    0.530</td> <td>   -0.463</td> <td> 0.643</td> <td>   -1.286     0.795</td>\n",
       "</tr>\n",
       "<tr>\n",
       "  <th>Network[T.ION]</th>             <td>    0.3543</td> <td>    0.453</td> <td>    0.781</td> <td> 0.435</td> <td>   -0.536     1.245</td>\n",
       "</tr>\n",
       "<tr>\n",
       "  <th>Network[T.ITC]</th>             <td>   -0.1401</td> <td>    0.716</td> <td>   -0.196</td> <td> 0.845</td> <td>   -1.546     1.266</td>\n",
       "</tr>\n",
       "<tr>\n",
       "  <th>Network[T.Lifetime]</th>        <td>   -0.2105</td> <td>    0.303</td> <td>   -0.695</td> <td> 0.487</td> <td>   -0.805     0.384</td>\n",
       "</tr>\n",
       "<tr>\n",
       "  <th>Network[T.MTV]</th>             <td>   -0.1843</td> <td>    0.279</td> <td>   -0.660</td> <td> 0.509</td> <td>   -0.733     0.364</td>\n",
       "</tr>\n",
       "<tr>\n",
       "  <th>Network[T.N/A]</th>             <td>   -0.2893</td> <td>    0.258</td> <td>   -1.120</td> <td> 0.263</td> <td>   -0.797     0.218</td>\n",
       "</tr>\n",
       "<tr>\n",
       "  <th>Network[T.NBC]</th>             <td>   -0.4332</td> <td>    0.240</td> <td>   -1.808</td> <td> 0.071</td> <td>   -0.904     0.037</td>\n",
       "</tr>\n",
       "<tr>\n",
       "  <th>Network[T.Nat Geo Wild]</th>    <td>    1.0254</td> <td>    0.717</td> <td>    1.431</td> <td> 0.153</td> <td>   -0.382     2.433</td>\n",
       "</tr>\n",
       "<tr>\n",
       "  <th>Network[T.Netflix]</th>         <td>   -0.1940</td> <td>    0.532</td> <td>   -0.365</td> <td> 0.716</td> <td>   -1.239     0.851</td>\n",
       "</tr>\n",
       "<tr>\n",
       "  <th>Network[T.Nick at Nite]</th>    <td>    0.0645</td> <td>    0.712</td> <td>    0.091</td> <td> 0.928</td> <td>   -1.335     1.464</td>\n",
       "</tr>\n",
       "<tr>\n",
       "  <th>Network[T.Nickelodeon]</th>     <td>   -0.4483</td> <td>    0.359</td> <td>   -1.248</td> <td> 0.213</td> <td>   -1.154     0.257</td>\n",
       "</tr>\n",
       "<tr>\n",
       "  <th>Network[T.Oxygen]</th>          <td>   -0.3628</td> <td>    0.715</td> <td>   -0.507</td> <td> 0.612</td> <td>   -1.768     1.042</td>\n",
       "</tr>\n",
       "<tr>\n",
       "  <th>Network[T.Psych]</th>           <td>    0.6529</td> <td>    0.411</td> <td>    1.587</td> <td> 0.113</td> <td>   -0.155     1.461</td>\n",
       "</tr>\n",
       "<tr>\n",
       "  <th>Network[T.ReelzChannel]</th>    <td>   -0.3756</td> <td>    0.713</td> <td>   -0.527</td> <td> 0.599</td> <td>   -1.777     1.025</td>\n",
       "</tr>\n",
       "<tr>\n",
       "  <th>Network[T.Showcase]</th>        <td>    0.0608</td> <td>    0.531</td> <td>    0.114</td> <td> 0.909</td> <td>   -0.982     1.104</td>\n",
       "</tr>\n",
       "<tr>\n",
       "  <th>Network[T.Showtime]</th>        <td>    0.5906</td> <td>    0.295</td> <td>    1.999</td> <td> 0.046</td> <td>    0.010     1.171</td>\n",
       "</tr>\n",
       "<tr>\n",
       "  <th>Network[T.Spike TV]</th>        <td>   -0.3873</td> <td>    0.721</td> <td>   -0.537</td> <td> 0.591</td> <td>   -1.803     1.028</td>\n",
       "</tr>\n",
       "<tr>\n",
       "  <th>Network[T.Starz]</th>           <td>   -0.5115</td> <td>    0.326</td> <td>   -1.569</td> <td> 0.117</td> <td>   -1.152     0.129</td>\n",
       "</tr>\n",
       "<tr>\n",
       "  <th>Network[T.Syfy]</th>            <td>   -0.0564</td> <td>    0.277</td> <td>   -0.204</td> <td> 0.839</td> <td>   -0.600     0.487</td>\n",
       "</tr>\n",
       "<tr>\n",
       "  <th>Network[T.TBS]</th>             <td>   -0.3316</td> <td>    0.350</td> <td>   -0.947</td> <td> 0.344</td> <td>   -1.020     0.356</td>\n",
       "</tr>\n",
       "<tr>\n",
       "  <th>Network[T.TLC]</th>             <td>   -0.5879</td> <td>    0.537</td> <td>   -1.095</td> <td> 0.274</td> <td>   -1.642     0.467</td>\n",
       "</tr>\n",
       "<tr>\n",
       "  <th>Network[T.TNT]</th>             <td>    0.0652</td> <td>    0.268</td> <td>    0.244</td> <td> 0.808</td> <td>   -0.460     0.591</td>\n",
       "</tr>\n",
       "<tr>\n",
       "  <th>Network[T.TV Land]</th>         <td>    0.1921</td> <td>    0.409</td> <td>    0.469</td> <td> 0.639</td> <td>   -0.612     0.996</td>\n",
       "</tr>\n",
       "<tr>\n",
       "  <th>Network[T.The CW]</th>          <td>   -0.0656</td> <td>    0.257</td> <td>   -0.255</td> <td> 0.799</td> <td>   -0.571     0.440</td>\n",
       "</tr>\n",
       "<tr>\n",
       "  <th>Network[T.USA]</th>             <td>    0.5337</td> <td>    0.342</td> <td>    1.562</td> <td> 0.119</td> <td>   -0.137     1.205</td>\n",
       "</tr>\n",
       "<tr>\n",
       "  <th>Network[T.USA Network]</th>     <td>    0.2305</td> <td>    0.284</td> <td>    0.813</td> <td> 0.417</td> <td>   -0.327     0.788</td>\n",
       "</tr>\n",
       "<tr>\n",
       "  <th>Network[T.VH1]</th>             <td>   -0.1557</td> <td>    0.535</td> <td>   -0.291</td> <td> 0.771</td> <td>   -1.207     0.895</td>\n",
       "</tr>\n",
       "<tr>\n",
       "  <th>Network[T.WE tv]</th>           <td>    1.4257</td> <td>    0.716</td> <td>    1.993</td> <td> 0.047</td> <td>    0.021     2.831</td>\n",
       "</tr>\n",
       "<tr>\n",
       "  <th>Network[T.syndicated]</th>      <td>   -1.2910</td> <td>    0.833</td> <td>   -1.550</td> <td> 0.122</td> <td>   -2.927     0.344</td>\n",
       "</tr>\n",
       "<tr>\n",
       "  <th>Duration[T.30 min]</th>         <td>   -1.0967</td> <td>    0.537</td> <td>   -2.043</td> <td> 0.041</td> <td>   -2.151    -0.043</td>\n",
       "</tr>\n",
       "<tr>\n",
       "  <th>Duration[T.45 min]</th>         <td>   -0.9411</td> <td>    0.674</td> <td>   -1.395</td> <td> 0.163</td> <td>   -2.266     0.383</td>\n",
       "</tr>\n",
       "<tr>\n",
       "  <th>Duration[T.60 min]</th>         <td>   -1.1173</td> <td>    0.548</td> <td>   -2.038</td> <td> 0.042</td> <td>   -2.194    -0.040</td>\n",
       "</tr>\n",
       "<tr>\n",
       "  <th>Duration[T.None]</th>           <td>   -0.9116</td> <td>    0.559</td> <td>   -1.632</td> <td> 0.103</td> <td>   -2.009     0.185</td>\n",
       "</tr>\n",
       "<tr>\n",
       "  <th>UserRating</th>                 <td>    0.7798</td> <td>    0.061</td> <td>   12.687</td> <td> 0.000</td> <td>    0.659     0.900</td>\n",
       "</tr>\n",
       "</table>\n",
       "<table class=\"simpletable\">\n",
       "<tr>\n",
       "  <th>Omnibus:</th>       <td>60.116</td> <th>  Durbin-Watson:     </th> <td>   1.175</td>\n",
       "</tr>\n",
       "<tr>\n",
       "  <th>Prob(Omnibus):</th> <td> 0.000</td> <th>  Jarque-Bera (JB):  </th> <td>  86.156</td>\n",
       "</tr>\n",
       "<tr>\n",
       "  <th>Skew:</th>          <td> 0.673</td> <th>  Prob(JB):          </th> <td>1.96e-19</td>\n",
       "</tr>\n",
       "<tr>\n",
       "  <th>Kurtosis:</th>      <td> 4.142</td> <th>  Cond. No.          </th> <td>    267.</td>\n",
       "</tr>\n",
       "</table>"
      ],
      "text/plain": [
       "<class 'statsmodels.iolib.summary.Summary'>\n",
       "\"\"\"\n",
       "                            OLS Regression Results                            \n",
       "==============================================================================\n",
       "Dep. Variable:             SeasonsLog   R-squared:                       0.402\n",
       "Model:                            OLS   Adj. R-squared:                  0.336\n",
       "Method:                 Least Squares   F-statistic:                     6.090\n",
       "Date:                Sat, 18 Jul 2015   Prob (F-statistic):           1.62e-35\n",
       "Time:                        22:35:35   Log-Likelihood:                -644.76\n",
       "No. Observations:                 664   AIC:                             1424.\n",
       "Df Residuals:                     597   BIC:                             1725.\n",
       "Df Model:                          66                                         \n",
       "Covariance Type:            nonrobust                                         \n",
       "==============================================================================================\n",
       "                                 coef    std err          t      P>|t|      [95.0% Conf. Int.]\n",
       "----------------------------------------------------------------------------------------------\n",
       "Intercept                     -0.8791      0.546     -1.610      0.108        -1.952     0.194\n",
       "Genre[T.Cartoons]              0.4138      0.226      1.830      0.068        -0.030     0.858\n",
       "Genre[T.Comedy]                0.1575      0.136      1.157      0.248        -0.110     0.425\n",
       "Genre[T.Crime]                -0.0001      0.129     -0.001      0.999        -0.254     0.254\n",
       "Genre[T.Drama]                 0.0162      0.116      0.139      0.889        -0.212     0.245\n",
       "Genre[T.Fantasy]              -0.0109      0.170     -0.064      0.949        -0.344     0.323\n",
       "Genre[T.Reality]               0.4192      0.143      2.938      0.003         0.139     0.699\n",
       "Genre[T.Science-Fiction]      -0.0712      0.182     -0.392      0.696        -0.428     0.286\n",
       "Network[T.A&AMP;E]             0.4081      0.452      0.902      0.367        -0.480     1.297\n",
       "Network[T.A&E]                -0.3088      0.316     -0.978      0.328        -0.929     0.311\n",
       "Network[T.ABC]                -0.3473      0.240     -1.447      0.148        -0.819     0.124\n",
       "Network[T.ABC Family]         -0.4045      0.297     -1.360      0.174        -0.989     0.180\n",
       "Network[T.AMC]                -0.0574      0.306     -0.187      0.851        -0.659     0.544\n",
       "Network[T.Amazon]             -1.2588      0.549     -2.293      0.022        -2.337    -0.180\n",
       "Network[T.BBC America]        -0.0240      0.291     -0.082      0.934        -0.595     0.547\n",
       "Network[T.BET]                 0.3192      0.452      0.707      0.480        -0.568     1.206\n",
       "Network[T.Bravo]               0.9236      0.545      1.695      0.091        -0.146     1.994\n",
       "Network[T.CBS]                -0.1061      0.248     -0.428      0.669        -0.593     0.381\n",
       "Network[T.CNNCCNNBCNNSCNN]     1.4249      0.713      2.000      0.046         0.026     2.824\n",
       "Network[T.Cartoon Network]    -0.5561      0.334     -1.665      0.096        -1.212     0.100\n",
       "Network[T.Channel 4 in UK]     1.1392      0.455      2.502      0.013         0.245     2.033\n",
       "Network[T.Comedy Central]      0.0946      0.335      0.282      0.778        -0.564     0.753\n",
       "Network[T.DirecTV]            -0.0689      0.358     -0.192      0.848        -0.773     0.635\n",
       "Network[T.Discovery]           0.2922      0.459      0.637      0.524        -0.609     1.193\n",
       "Network[T.Disney Channel]      0.2744      0.531      0.516      0.606        -0.769     1.318\n",
       "Network[T.E]                   0.6972      0.716      0.974      0.330        -0.709     2.103\n",
       "Network[T.E!]                 -0.3567      0.532     -0.671      0.503        -1.401     0.688\n",
       "Network[T.FOX]                -0.4366      0.243     -1.794      0.073        -0.915     0.041\n",
       "Network[T.FX]                 -0.3010      0.302     -0.995      0.320        -0.895     0.293\n",
       "Network[T.FXX]                -0.8062      0.532     -1.517      0.130        -1.850     0.238\n",
       "Network[T.Fox]                -1.0184      0.530     -1.920      0.055        -2.060     0.023\n",
       "Network[T.HBO]                 0.1547      0.271      0.570      0.569        -0.378     0.687\n",
       "Network[T.Hulu]               -0.1868      0.713     -0.262      0.793        -1.587     1.214\n",
       "Network[T.IFC]                -0.2454      0.530     -0.463      0.643        -1.286     0.795\n",
       "Network[T.ION]                 0.3543      0.453      0.781      0.435        -0.536     1.245\n",
       "Network[T.ITC]                -0.1401      0.716     -0.196      0.845        -1.546     1.266\n",
       "Network[T.Lifetime]           -0.2105      0.303     -0.695      0.487        -0.805     0.384\n",
       "Network[T.MTV]                -0.1843      0.279     -0.660      0.509        -0.733     0.364\n",
       "Network[T.N/A]                -0.2893      0.258     -1.120      0.263        -0.797     0.218\n",
       "Network[T.NBC]                -0.4332      0.240     -1.808      0.071        -0.904     0.037\n",
       "Network[T.Nat Geo Wild]        1.0254      0.717      1.431      0.153        -0.382     2.433\n",
       "Network[T.Netflix]            -0.1940      0.532     -0.365      0.716        -1.239     0.851\n",
       "Network[T.Nick at Nite]        0.0645      0.712      0.091      0.928        -1.335     1.464\n",
       "Network[T.Nickelodeon]        -0.4483      0.359     -1.248      0.213        -1.154     0.257\n",
       "Network[T.Oxygen]             -0.3628      0.715     -0.507      0.612        -1.768     1.042\n",
       "Network[T.Psych]               0.6529      0.411      1.587      0.113        -0.155     1.461\n",
       "Network[T.ReelzChannel]       -0.3756      0.713     -0.527      0.599        -1.777     1.025\n",
       "Network[T.Showcase]            0.0608      0.531      0.114      0.909        -0.982     1.104\n",
       "Network[T.Showtime]            0.5906      0.295      1.999      0.046         0.010     1.171\n",
       "Network[T.Spike TV]           -0.3873      0.721     -0.537      0.591        -1.803     1.028\n",
       "Network[T.Starz]              -0.5115      0.326     -1.569      0.117        -1.152     0.129\n",
       "Network[T.Syfy]               -0.0564      0.277     -0.204      0.839        -0.600     0.487\n",
       "Network[T.TBS]                -0.3316      0.350     -0.947      0.344        -1.020     0.356\n",
       "Network[T.TLC]                -0.5879      0.537     -1.095      0.274        -1.642     0.467\n",
       "Network[T.TNT]                 0.0652      0.268      0.244      0.808        -0.460     0.591\n",
       "Network[T.TV Land]             0.1921      0.409      0.469      0.639        -0.612     0.996\n",
       "Network[T.The CW]             -0.0656      0.257     -0.255      0.799        -0.571     0.440\n",
       "Network[T.USA]                 0.5337      0.342      1.562      0.119        -0.137     1.205\n",
       "Network[T.USA Network]         0.2305      0.284      0.813      0.417        -0.327     0.788\n",
       "Network[T.VH1]                -0.1557      0.535     -0.291      0.771        -1.207     0.895\n",
       "Network[T.WE tv]               1.4257      0.716      1.993      0.047         0.021     2.831\n",
       "Network[T.syndicated]         -1.2910      0.833     -1.550      0.122        -2.927     0.344\n",
       "Duration[T.30 min]            -1.0967      0.537     -2.043      0.041        -2.151    -0.043\n",
       "Duration[T.45 min]            -0.9411      0.674     -1.395      0.163        -2.266     0.383\n",
       "Duration[T.60 min]            -1.1173      0.548     -2.038      0.042        -2.194    -0.040\n",
       "Duration[T.None]              -0.9116      0.559     -1.632      0.103        -2.009     0.185\n",
       "UserRating                     0.7798      0.061     12.687      0.000         0.659     0.900\n",
       "==============================================================================\n",
       "Omnibus:                       60.116   Durbin-Watson:                   1.175\n",
       "Prob(Omnibus):                  0.000   Jarque-Bera (JB):               86.156\n",
       "Skew:                           0.673   Prob(JB):                     1.96e-19\n",
       "Kurtosis:                       4.142   Cond. No.                         267.\n",
       "==============================================================================\n",
       "\n",
       "Warnings:\n",
       "[1] Standard Errors assume that the covariance matrix of the errors is correctly specified.\n",
       "\"\"\""
      ]
     },
     "execution_count": 57,
     "metadata": {},
     "output_type": "execute_result"
    }
   ],
   "source": [
    "log_train4_y, log_train4_X = dmatrices('SeasonsLog ~ UserRating + Genre + Network + Duration', data=tv_df, return_type='dataframe')\n",
    "log_train4_model = sm.OLS(log_train4_y, log_train4_X).fit()\n",
    "log_train4_model.summary()"
   ]
  },
  {
   "cell_type": "code",
   "execution_count": 58,
   "metadata": {
    "collapsed": false
   },
   "outputs": [
    {
     "data": {
      "text/plain": [
       "[0.5, 5.5, -5, 25]"
      ]
     },
     "execution_count": 58,
     "metadata": {},
     "output_type": "execute_result"
    },
    {
     "data": {
      "image/png": "[encoded data removed]",
      "text/plain": [
       "<matplotlib.figure.Figure at 0x10c162ed0>"
      ]
     },
     "metadata": {},
     "output_type": "display_data"
    }
   ],
   "source": [
    "log_train4_Y_predict = log_train4_model.predict(log_train4_X).tolist()\n",
    "log_train4_Y_predict = np.array([math.exp(y) for y in log_train4_Y_predict])\n",
    "\n",
    "p = plt.figure(figsize=(15, 5))\n",
    "tv_df.plot(ax=p.gca(), kind='scatter', x='UserRating', y='Seasons', label='Observed', )\n",
    "plt.scatter(log_train4_X['UserRating'], log_train4_Y_predict, c='red', label='Model')\n",
    "plt.xlabel('User Rating', fontsize='16')\n",
    "plt.ylabel('Number of Seasons', fontsize='16')\n",
    "plt.title('Multiple Linear Regression (Log-y)', fontsize='16')\n",
    "plt.legend(loc='upper left')\n",
    "plt.axis([0.5, 5.5, -5, 25])"
   ]
  },
  {
   "cell_type": "code",
   "execution_count": 53,
   "metadata": {
    "collapsed": false,
    "scrolled": true
   },
   "outputs": [
    {
     "data": {
      "text/plain": [
       "(array([   6.,   25.,  174.,  216.,  135.,   69.,   32.,    4.,    1.,    2.]),\n",
       " array([-1.88854215, -1.3838558 , -0.87916945, -0.3744831 ,  0.13020325,\n",
       "         0.6348896 ,  1.13957595,  1.6442623 ,  2.14894865,  2.653635  ,\n",
       "         3.15832135]),\n",
       " <a list of 10 Patch objects>)"
      ]
     },
     "execution_count": 53,
     "metadata": {},
     "output_type": "execute_result"
    },
    {
     "data": {
      "image/png": "[encoded data removed]",
      "text/plain": [
       "<matplotlib.figure.Figure at 0x10b707050>"
      ]
     },
     "metadata": {},
     "output_type": "display_data"
    }
   ],
   "source": [
    "p = plt.figure(figsize=(15, 5))\n",
    "plt.hist(log_train4_model.resid)"
   ]
  },
  {
   "cell_type": "markdown",
   "metadata": {
    "collapsed": true
   },
   "source": [
    "####<font color='red'>Case 4: Cross-validation</font> "
   ]
  },
  {
   "cell_type": "code",
   "execution_count": 63,
   "metadata": {
    "collapsed": false
   },
   "outputs": [
    {
     "data": {
      "text/html": [
       "<div>\n",
       "<table border=\"1\" class=\"dataframe\">\n",
       "  <thead>\n",
       "    <tr style=\"text-align: right;\">\n",
       "      <th></th>\n",
       "      <th>Trial</th>\n",
       "      <th>Random1</th>\n",
       "      <th>Random2</th>\n",
       "      <th>Random3</th>\n",
       "      <th>Random4</th>\n",
       "      <th>Random5</th>\n",
       "      <th>Average</th>\n",
       "      <th>Std</th>\n",
       "    </tr>\n",
       "  </thead>\n",
       "  <tbody>\n",
       "    <tr>\n",
       "      <th>0</th>\n",
       "      <td>Trial 1</td>\n",
       "      <td>0.4305</td>\n",
       "      <td>0.0183</td>\n",
       "      <td>0.2012</td>\n",
       "      <td>0.2815</td>\n",
       "      <td>0.3171</td>\n",
       "      <td>0.2497</td>\n",
       "      <td>0.1372</td>\n",
       "    </tr>\n",
       "    <tr>\n",
       "      <th>1</th>\n",
       "      <td>Trial 2</td>\n",
       "      <td>0.1412</td>\n",
       "      <td>0.3576</td>\n",
       "      <td>0.1881</td>\n",
       "      <td>0.3135</td>\n",
       "      <td>0.1771</td>\n",
       "      <td>0.2355</td>\n",
       "      <td>0.0843</td>\n",
       "    </tr>\n",
       "    <tr>\n",
       "      <th>2</th>\n",
       "      <td>Trial 3</td>\n",
       "      <td>0.3584</td>\n",
       "      <td>0.3538</td>\n",
       "      <td>0.4301</td>\n",
       "      <td>0.3516</td>\n",
       "      <td>0.2371</td>\n",
       "      <td>0.3462</td>\n",
       "      <td>0.0619</td>\n",
       "    </tr>\n",
       "  </tbody>\n",
       "</table>\n",
       "</div>"
      ],
      "text/plain": [
       "     Trial Random1 Random2 Random3 Random4 Random5 Average     Std\n",
       "0  Trial 1  0.4305  0.0183  0.2012  0.2815  0.3171  0.2497  0.1372\n",
       "1  Trial 2  0.1412  0.3576  0.1881  0.3135  0.1771  0.2355  0.0843\n",
       "2  Trial 3  0.3584  0.3538  0.4301  0.3516  0.2371  0.3462  0.0619"
      ]
     },
     "execution_count": 63,
     "metadata": {},
     "output_type": "execute_result"
    }
   ],
   "source": [
    "log_cv4_y, log_cv4_X = dmatrices('SeasonsLog ~ UserRating + Genre + Network + Duration', data=tv_df, return_type='dataframe')\n",
    "log_cv4_X_array = log_cv4_X.values\n",
    "log_cv4_y_array = log_cv4_y.values\n",
    "\n",
    "n_samples = log_cv4_X_array.shape[0]\n",
    "model = LinearRegression()\n",
    "\n",
    "cv4_metrics = []\n",
    "\n",
    "for i in range(3):\n",
    "    temp = []\n",
    "    cv = cross_validation.ShuffleSplit(n_samples, n_iter=5, random_state=i)\n",
    "    scores = cross_validation.cross_val_score(model, log_cv4_X_array, log_cv4_y_array, cv=cv)\n",
    "    temp.append('Trial ' + str(i+1))\n",
    "    for score in scores:\n",
    "        temp.append(\"%.4f\" % score)\n",
    "    temp.append(\"%.4f\" % scores.mean())\n",
    "    temp.append(\"%.4f\" % scores.std())\n",
    "    cv4_metrics.append(temp)\n",
    "    \n",
    "cols = ['Trial', 'Random1', 'Random2', 'Random3', 'Random4', 'Random5', 'Average', 'Std']\n",
    "pd.DataFrame(cv4_metrics, columns=cols)"
   ]
  },
  {
   "cell_type": "code",
   "execution_count": null,
   "metadata": {
    "collapsed": true
   },
   "outputs": [],
   "source": []
  }
 ],
 "metadata": {
  "kernelspec": {
   "display_name": "Python 2",
   "language": "python",
   "name": "python2"
  },
  "language_info": {
   "codemirror_mode": {
    "name": "ipython",
    "version": 2
   },
   "file_extension": ".py",
   "mimetype": "text/x-python",
   "name": "python",
   "nbconvert_exporter": "python",
   "pygments_lexer": "ipython2",
   "version": "2.7.10"
  }
 },
 "nbformat": 4,
 "nbformat_minor": 0
}
