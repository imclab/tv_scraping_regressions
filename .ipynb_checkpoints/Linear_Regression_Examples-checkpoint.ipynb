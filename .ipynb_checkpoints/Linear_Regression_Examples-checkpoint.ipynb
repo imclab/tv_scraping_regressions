{
 "cells": [
  {
   "cell_type": "code",
   "execution_count": 14,
   "metadata": {
    "collapsed": false
   },
   "outputs": [],
   "source": [
    "import pandas as pd\n",
    "from patsy import dmatrices\n",
    "import statsmodels.api as sm\n",
    "import matplotlib.pyplot as plt\n",
    "%matplotlib inline\n",
    "import numpy as np\n",
    "from _py_helpers.generate_tv_training_df import tv_df"
   ]
  },
  {
   "cell_type": "markdown",
   "metadata": {},
   "source": [
    " "
   ]
  },
  {
   "cell_type": "markdown",
   "metadata": {},
   "source": [
    "##<font color='blue'>DATA</font>"
   ]
  },
  {
   "cell_type": "code",
   "execution_count": 15,
   "metadata": {
    "collapsed": false
   },
   "outputs": [
    {
     "data": {
      "text/html": [
       "<div>\n",
       "<table border=\"1\" class=\"dataframe\">\n",
       "  <thead>\n",
       "    <tr style=\"text-align: right;\">\n",
       "      <th></th>\n",
       "      <th>Ind</th>\n",
       "      <th>Title_SR</th>\n",
       "      <th>Genre</th>\n",
       "      <th>Tag</th>\n",
       "      <th>Title_Norm</th>\n",
       "      <th>Seasons</th>\n",
       "      <th>Episodes</th>\n",
       "      <th>Status</th>\n",
       "      <th>Duration</th>\n",
       "      <th>UserRating</th>\n",
       "      <th>Network</th>\n",
       "      <th>Title_Wiki</th>\n",
       "      <th>State</th>\n",
       "      <th>SeasonsLog</th>\n",
       "      <th>Network_Count</th>\n",
       "    </tr>\n",
       "  </thead>\n",
       "  <tbody>\n",
       "    <tr>\n",
       "      <th>576</th>\n",
       "      <td>584</td>\n",
       "      <td>The Job</td>\n",
       "      <td>Reality</td>\n",
       "      <td>/the_job</td>\n",
       "      <td>thejob</td>\n",
       "      <td>1</td>\n",
       "      <td>2</td>\n",
       "      <td>Concluded</td>\n",
       "      <td>60 min</td>\n",
       "      <td>1</td>\n",
       "      <td>CBS</td>\n",
       "      <td></td>\n",
       "      <td></td>\n",
       "      <td>0</td>\n",
       "      <td>3</td>\n",
       "    </tr>\n",
       "  </tbody>\n",
       "</table>\n",
       "</div>"
      ],
      "text/plain": [
       "     Ind Title_SR    Genre       Tag Title_Norm  Seasons  Episodes     Status  \\\n",
       "576  584  The Job  Reality  /the_job     thejob        1         2  Concluded   \n",
       "\n",
       "    Duration  UserRating Network Title_Wiki State  SeasonsLog  Network_Count  \n",
       "576   60 min           1     CBS                            0              3  "
      ]
     },
     "execution_count": 15,
     "metadata": {},
     "output_type": "execute_result"
    }
   ],
   "source": [
    "tv_df.head(1)"
   ]
  },
  {
   "cell_type": "code",
   "execution_count": 16,
   "metadata": {
    "collapsed": false
   },
   "outputs": [
    {
     "data": {
      "text/plain": [
       "[0.5, 5.5, 0, 25]"
      ]
     },
     "execution_count": 16,
     "metadata": {},
     "output_type": "execute_result"
    },
    {
     "data": {
      "image/png": "[encoded data removed]",
      "text/plain": [
       "<matplotlib.figure.Figure at 0x10ac9ec50>"
      ]
     },
     "metadata": {},
     "output_type": "display_data"
    }
   ],
   "source": [
    "p = plt.figure(figsize=(15, 5))\n",
    "tv_df.plot(ax=p.gca(), kind='scatter', x='UserRating', y='Seasons', label='Observed')\n",
    "plt.xlabel('User Rating', fontsize='16')\n",
    "plt.ylabel('Number of Seasons', fontsize='16')\n",
    "plt.title('Training Set', fontsize='16')\n",
    "plt.legend(loc='upper left')\n",
    "plt.axis([0.5, 5.5, 0, 25])"
   ]
  },
  {
   "cell_type": "markdown",
   "metadata": {},
   "source": [
    " "
   ]
  },
  {
   "cell_type": "markdown",
   "metadata": {},
   "source": [
    "##<font color='blue'>MODELING (Predicting # of seasons)</font>"
   ]
  },
  {
   "cell_type": "markdown",
   "metadata": {},
   "source": [
    "####<font color='red'>Case 1: With 1 numeric predictor variable (User rating)</font>"
   ]
  },
  {
   "cell_type": "code",
   "execution_count": 51,
   "metadata": {
    "collapsed": false
   },
   "outputs": [
    {
     "data": {
      "text/html": [
       "<table class=\"simpletable\">\n",
       "<caption>OLS Regression Results</caption>\n",
       "<tr>\n",
       "  <th>Dep. Variable:</th>         <td>Seasons</td>     <th>  R-squared:         </th> <td>   0.137</td>\n",
       "</tr>\n",
       "<tr>\n",
       "  <th>Model:</th>                   <td>OLS</td>       <th>  Adj. R-squared:    </th> <td>   0.136</td>\n",
       "</tr>\n",
       "<tr>\n",
       "  <th>Method:</th>             <td>Least Squares</td>  <th>  F-statistic:       </th> <td>   105.5</td>\n",
       "</tr>\n",
       "<tr>\n",
       "  <th>Date:</th>             <td>Sat, 18 Jul 2015</td> <th>  Prob (F-statistic):</th> <td>4.64e-23</td>\n",
       "</tr>\n",
       "<tr>\n",
       "  <th>Time:</th>                 <td>22:12:07</td>     <th>  Log-Likelihood:    </th> <td> -1587.9</td>\n",
       "</tr>\n",
       "<tr>\n",
       "  <th>No. Observations:</th>      <td>   664</td>      <th>  AIC:               </th> <td>   3180.</td>\n",
       "</tr>\n",
       "<tr>\n",
       "  <th>Df Residuals:</th>          <td>   662</td>      <th>  BIC:               </th> <td>   3189.</td>\n",
       "</tr>\n",
       "<tr>\n",
       "  <th>Df Model:</th>              <td>     1</td>      <th>                     </th>     <td> </td>   \n",
       "</tr>\n",
       "<tr>\n",
       "  <th>Covariance Type:</th>      <td>nonrobust</td>    <th>                     </th>     <td> </td>   \n",
       "</tr>\n",
       "</table>\n",
       "<table class=\"simpletable\">\n",
       "<tr>\n",
       "       <td></td>         <th>coef</th>     <th>std err</th>      <th>t</th>      <th>P>|t|</th> <th>[95.0% Conf. Int.]</th> \n",
       "</tr>\n",
       "<tr>\n",
       "  <th>Intercept</th>  <td>   -4.2088</td> <td>    0.716</td> <td>   -5.880</td> <td> 0.000</td> <td>   -5.614    -2.803</td>\n",
       "</tr>\n",
       "<tr>\n",
       "  <th>UserRating</th> <td>    2.0187</td> <td>    0.197</td> <td>   10.270</td> <td> 0.000</td> <td>    1.633     2.405</td>\n",
       "</tr>\n",
       "</table>\n",
       "<table class=\"simpletable\">\n",
       "<tr>\n",
       "  <th>Omnibus:</th>       <td>372.195</td> <th>  Durbin-Watson:     </th> <td>   1.231</td>\n",
       "</tr>\n",
       "<tr>\n",
       "  <th>Prob(Omnibus):</th> <td> 0.000</td>  <th>  Jarque-Bera (JB):  </th> <td>3831.678</td>\n",
       "</tr>\n",
       "<tr>\n",
       "  <th>Skew:</th>          <td> 2.314</td>  <th>  Prob(JB):          </th> <td>    0.00</td>\n",
       "</tr>\n",
       "<tr>\n",
       "  <th>Kurtosis:</th>      <td>13.820</td>  <th>  Cond. No.          </th> <td>    27.2</td>\n",
       "</tr>\n",
       "</table>"
      ],
      "text/plain": [
       "<class 'statsmodels.iolib.summary.Summary'>\n",
       "\"\"\"\n",
       "                            OLS Regression Results                            \n",
       "==============================================================================\n",
       "Dep. Variable:                Seasons   R-squared:                       0.137\n",
       "Model:                            OLS   Adj. R-squared:                  0.136\n",
       "Method:                 Least Squares   F-statistic:                     105.5\n",
       "Date:                Sat, 18 Jul 2015   Prob (F-statistic):           4.64e-23\n",
       "Time:                        22:12:07   Log-Likelihood:                -1587.9\n",
       "No. Observations:                 664   AIC:                             3180.\n",
       "Df Residuals:                     662   BIC:                             3189.\n",
       "Df Model:                           1                                         \n",
       "Covariance Type:            nonrobust                                         \n",
       "==============================================================================\n",
       "                 coef    std err          t      P>|t|      [95.0% Conf. Int.]\n",
       "------------------------------------------------------------------------------\n",
       "Intercept     -4.2088      0.716     -5.880      0.000        -5.614    -2.803\n",
       "UserRating     2.0187      0.197     10.270      0.000         1.633     2.405\n",
       "==============================================================================\n",
       "Omnibus:                      372.195   Durbin-Watson:                   1.231\n",
       "Prob(Omnibus):                  0.000   Jarque-Bera (JB):             3831.678\n",
       "Skew:                           2.314   Prob(JB):                         0.00\n",
       "Kurtosis:                      13.820   Cond. No.                         27.2\n",
       "==============================================================================\n",
       "\n",
       "Warnings:\n",
       "[1] Standard Errors assume that the covariance matrix of the errors is correctly specified.\n",
       "\"\"\""
      ]
     },
     "execution_count": 51,
     "metadata": {},
     "output_type": "execute_result"
    }
   ],
   "source": [
    "ols_train1_y, ols_train1_X = dmatrices('Seasons ~ UserRating', data=tv_df, return_type='dataframe')\n",
    "ols_train1_model = sm.OLS(ols_train1_y, ols_train1_X).fit()\n",
    "ols_train1_model.summary()"
   ]
  },
  {
   "cell_type": "code",
   "execution_count": 52,
   "metadata": {
    "collapsed": false
   },
   "outputs": [
    {
     "data": {
      "text/plain": [
       "[0.5, 5.5, -5, 25]"
      ]
     },
     "execution_count": 52,
     "metadata": {},
     "output_type": "execute_result"
    },
    {
     "data": {
      "image/png": "[encoded data removed]",
      "text/plain": [
       "<matplotlib.figure.Figure at 0x10cba2450>"
      ]
     },
     "metadata": {},
     "output_type": "display_data"
    }
   ],
   "source": [
    "ols_train1_Y_predict = ols_train1_model.predict(ols_train1_X)\n",
    "\n",
    "p = plt.figure(figsize=(15, 5))\n",
    "tv_df.plot(ax=p.gca(), kind='scatter', x='UserRating', y='Seasons', label='Observed')\n",
    "plt.plot(ols_train1_X['UserRating'], ols_train1_Y_predict, c='red', label='Model', linewidth=3)\n",
    "plt.xlabel('User Rating', fontsize='16')\n",
    "plt.ylabel('Number of Seasons', fontsize='16')\n",
    "plt.title('Simple Linear Model', fontsize='16')\n",
    "plt.legend(loc='upper left')\n",
    "plt.axis([0.5, 5.5, -5, 25])"
   ]
  },
  {
   "cell_type": "code",
   "execution_count": 21,
   "metadata": {
    "collapsed": false
   },
   "outputs": [
    {
     "data": {
      "text/plain": [
       "(array([  69.,  369.,  134.,   59.,   29.,    2.,    0.,    0.,    0.,    2.]),\n",
       " array([ -4.8848735 ,  -2.30902915,   0.26681519,   2.84265954,\n",
       "          5.41850388,   7.99434823,  10.57019257,  13.14603692,\n",
       "         15.72188126,  18.29772561,  20.87356995]),\n",
       " <a list of 10 Patch objects>)"
      ]
     },
     "execution_count": 21,
     "metadata": {},
     "output_type": "execute_result"
    },
    {
     "data": {
      "image/png": "[encoded data removed]",
      "text/plain": [
       "<matplotlib.figure.Figure at 0x10b2f9d50>"
      ]
     },
     "metadata": {},
     "output_type": "display_data"
    }
   ],
   "source": [
    "p = plt.figure(figsize=(15, 5))\n",
    "plt.hist(ols_train1_model.resid) #histogram of residuals (error of training set relative to model)"
   ]
  },
  {
   "cell_type": "markdown",
   "metadata": {},
   "source": [
    " "
   ]
  },
  {
   "cell_type": "markdown",
   "metadata": {},
   "source": [
    "####<font color='red'>Case 2: With 1 numeric predictor and 1 categorical predictor (User rating + Genre)</font>"
   ]
  },
  {
   "cell_type": "code",
   "execution_count": 53,
   "metadata": {
    "collapsed": false
   },
   "outputs": [
    {
     "data": {
      "text/html": [
       "<table class=\"simpletable\">\n",
       "<caption>OLS Regression Results</caption>\n",
       "<tr>\n",
       "  <th>Dep. Variable:</th>         <td>Seasons</td>     <th>  R-squared:         </th> <td>   0.162</td>\n",
       "</tr>\n",
       "<tr>\n",
       "  <th>Model:</th>                   <td>OLS</td>       <th>  Adj. R-squared:    </th> <td>   0.152</td>\n",
       "</tr>\n",
       "<tr>\n",
       "  <th>Method:</th>             <td>Least Squares</td>  <th>  F-statistic:       </th> <td>   15.82</td>\n",
       "</tr>\n",
       "<tr>\n",
       "  <th>Date:</th>             <td>Sat, 18 Jul 2015</td> <th>  Prob (F-statistic):</th> <td>1.97e-21</td>\n",
       "</tr>\n",
       "<tr>\n",
       "  <th>Time:</th>                 <td>22:12:34</td>     <th>  Log-Likelihood:    </th> <td> -1578.3</td>\n",
       "</tr>\n",
       "<tr>\n",
       "  <th>No. Observations:</th>      <td>   664</td>      <th>  AIC:               </th> <td>   3175.</td>\n",
       "</tr>\n",
       "<tr>\n",
       "  <th>Df Residuals:</th>          <td>   655</td>      <th>  BIC:               </th> <td>   3215.</td>\n",
       "</tr>\n",
       "<tr>\n",
       "  <th>Df Model:</th>              <td>     8</td>      <th>                     </th>     <td> </td>   \n",
       "</tr>\n",
       "<tr>\n",
       "  <th>Covariance Type:</th>      <td>nonrobust</td>    <th>                     </th>     <td> </td>   \n",
       "</tr>\n",
       "</table>\n",
       "<table class=\"simpletable\">\n",
       "<tr>\n",
       "              <td></td>                <th>coef</th>     <th>std err</th>      <th>t</th>      <th>P>|t|</th> <th>[95.0% Conf. Int.]</th> \n",
       "</tr>\n",
       "<tr>\n",
       "  <th>Intercept</th>                <td>   -5.9279</td> <td>    0.904</td> <td>   -6.555</td> <td> 0.000</td> <td>   -7.704    -4.152</td>\n",
       "</tr>\n",
       "<tr>\n",
       "  <th>Genre[T.Cartoons]</th>        <td>    1.0192</td> <td>    0.753</td> <td>    1.353</td> <td> 0.177</td> <td>   -0.460     2.498</td>\n",
       "</tr>\n",
       "<tr>\n",
       "  <th>Genre[T.Comedy]</th>          <td>    0.6913</td> <td>    0.449</td> <td>    1.541</td> <td> 0.124</td> <td>   -0.190     1.572</td>\n",
       "</tr>\n",
       "<tr>\n",
       "  <th>Genre[T.Crime]</th>           <td>    0.1821</td> <td>    0.485</td> <td>    0.376</td> <td> 0.707</td> <td>   -0.770     1.134</td>\n",
       "</tr>\n",
       "<tr>\n",
       "  <th>Genre[T.Drama]</th>           <td>    0.2394</td> <td>    0.436</td> <td>    0.549</td> <td> 0.583</td> <td>   -0.616     1.095</td>\n",
       "</tr>\n",
       "<tr>\n",
       "  <th>Genre[T.Fantasy]</th>         <td>   -0.2608</td> <td>    0.635</td> <td>   -0.411</td> <td> 0.681</td> <td>   -1.507     0.986</td>\n",
       "</tr>\n",
       "<tr>\n",
       "  <th>Genre[T.Reality]</th>         <td>    1.5097</td> <td>    0.516</td> <td>    2.924</td> <td> 0.004</td> <td>    0.496     2.523</td>\n",
       "</tr>\n",
       "<tr>\n",
       "  <th>Genre[T.Science-Fiction]</th> <td>   -0.2578</td> <td>    0.685</td> <td>   -0.376</td> <td> 0.707</td> <td>   -1.603     1.088</td>\n",
       "</tr>\n",
       "<tr>\n",
       "  <th>UserRating</th>               <td>    2.3661</td> <td>    0.211</td> <td>   11.203</td> <td> 0.000</td> <td>    1.951     2.781</td>\n",
       "</tr>\n",
       "</table>\n",
       "<table class=\"simpletable\">\n",
       "<tr>\n",
       "  <th>Omnibus:</th>       <td>376.122</td> <th>  Durbin-Watson:     </th> <td>   1.220</td>\n",
       "</tr>\n",
       "<tr>\n",
       "  <th>Prob(Omnibus):</th> <td> 0.000</td>  <th>  Jarque-Bera (JB):  </th> <td>4325.769</td>\n",
       "</tr>\n",
       "<tr>\n",
       "  <th>Skew:</th>          <td> 2.302</td>  <th>  Prob(JB):          </th> <td>    0.00</td>\n",
       "</tr>\n",
       "<tr>\n",
       "  <th>Kurtosis:</th>      <td>14.626</td>  <th>  Cond. No.          </th> <td>    47.9</td>\n",
       "</tr>\n",
       "</table>"
      ],
      "text/plain": [
       "<class 'statsmodels.iolib.summary.Summary'>\n",
       "\"\"\"\n",
       "                            OLS Regression Results                            \n",
       "==============================================================================\n",
       "Dep. Variable:                Seasons   R-squared:                       0.162\n",
       "Model:                            OLS   Adj. R-squared:                  0.152\n",
       "Method:                 Least Squares   F-statistic:                     15.82\n",
       "Date:                Sat, 18 Jul 2015   Prob (F-statistic):           1.97e-21\n",
       "Time:                        22:12:34   Log-Likelihood:                -1578.3\n",
       "No. Observations:                 664   AIC:                             3175.\n",
       "Df Residuals:                     655   BIC:                             3215.\n",
       "Df Model:                           8                                         \n",
       "Covariance Type:            nonrobust                                         \n",
       "============================================================================================\n",
       "                               coef    std err          t      P>|t|      [95.0% Conf. Int.]\n",
       "--------------------------------------------------------------------------------------------\n",
       "Intercept                   -5.9279      0.904     -6.555      0.000        -7.704    -4.152\n",
       "Genre[T.Cartoons]            1.0192      0.753      1.353      0.177        -0.460     2.498\n",
       "Genre[T.Comedy]              0.6913      0.449      1.541      0.124        -0.190     1.572\n",
       "Genre[T.Crime]               0.1821      0.485      0.376      0.707        -0.770     1.134\n",
       "Genre[T.Drama]               0.2394      0.436      0.549      0.583        -0.616     1.095\n",
       "Genre[T.Fantasy]            -0.2608      0.635     -0.411      0.681        -1.507     0.986\n",
       "Genre[T.Reality]             1.5097      0.516      2.924      0.004         0.496     2.523\n",
       "Genre[T.Science-Fiction]    -0.2578      0.685     -0.376      0.707        -1.603     1.088\n",
       "UserRating                   2.3661      0.211     11.203      0.000         1.951     2.781\n",
       "==============================================================================\n",
       "Omnibus:                      376.122   Durbin-Watson:                   1.220\n",
       "Prob(Omnibus):                  0.000   Jarque-Bera (JB):             4325.769\n",
       "Skew:                           2.302   Prob(JB):                         0.00\n",
       "Kurtosis:                      14.626   Cond. No.                         47.9\n",
       "==============================================================================\n",
       "\n",
       "Warnings:\n",
       "[1] Standard Errors assume that the covariance matrix of the errors is correctly specified.\n",
       "\"\"\""
      ]
     },
     "execution_count": 53,
     "metadata": {},
     "output_type": "execute_result"
    }
   ],
   "source": [
    "ols_train2_y, ols_train2_X = dmatrices('Seasons ~ UserRating + Genre', data=tv_df, return_type='dataframe')\n",
    "ols_train2_model = sm.OLS(ols_train2_y, ols_train2_X).fit()\n",
    "ols_train2_model.summary()"
   ]
  },
  {
   "cell_type": "code",
   "execution_count": 54,
   "metadata": {
    "collapsed": false
   },
   "outputs": [
    {
     "data": {
      "text/plain": [
       "[0.5, 5.5, -5, 25]"
      ]
     },
     "execution_count": 54,
     "metadata": {},
     "output_type": "execute_result"
    },
    {
     "data": {
      "image/png": "[encoded data removed]",
      "text/plain": [
       "<matplotlib.figure.Figure at 0x10a53a610>"
      ]
     },
     "metadata": {},
     "output_type": "display_data"
    }
   ],
   "source": [
    "ols_train2_Y_predict = ols_train2_model.predict(ols_train2_X)\n",
    "\n",
    "p = plt.figure(figsize=(15, 5))\n",
    "tv_df.plot(ax=p.gca(), kind='scatter', x='UserRating', y='Seasons', label='Observed')\n",
    "plt.scatter(ols_train2_X['UserRating'], ols_train2_Y_predict, c='red', label='Model')\n",
    "plt.xlabel('User Rating', fontsize='16')\n",
    "plt.ylabel('Number of Seasons', fontsize='16')\n",
    "plt.title('Multiple Linear Regression', fontsize='16')\n",
    "plt.legend(loc='upper left')\n",
    "plt.axis([0.5, 5.5, -5, 25])"
   ]
  },
  {
   "cell_type": "code",
   "execution_count": 39,
   "metadata": {
    "collapsed": false
   },
   "outputs": [
    {
     "data": {
      "text/plain": [
       "(array([   7.,  304.,  231.,   84.,   31.,    4.,    1.,    0.,    0.,    2.]),\n",
       " array([ -6.41236832,  -3.67280016,  -0.933232  ,   1.80633617,\n",
       "          4.54590433,   7.28547249,  10.02504065,  12.76460881,\n",
       "         15.50417697,  18.24374514,  20.9833133 ]),\n",
       " <a list of 10 Patch objects>)"
      ]
     },
     "execution_count": 39,
     "metadata": {},
     "output_type": "execute_result"
    },
    {
     "data": {
      "image/png": "[encoded data removed]",
      "text/plain": [
       "<matplotlib.figure.Figure at 0x10cfd2e90>"
      ]
     },
     "metadata": {},
     "output_type": "display_data"
    }
   ],
   "source": [
    "p = plt.figure(figsize=(15, 5))\n",
    "plt.hist(ols_train2_model.resid) #histogram of residuals (error of training set relative to model)"
   ]
  },
  {
   "cell_type": "markdown",
   "metadata": {},
   "source": [
    " "
   ]
  },
  {
   "cell_type": "markdown",
   "metadata": {},
   "source": [
    "####<font color='red'>Test case 3: With 1 numeric predictor and 2 categorical predictors (User rating + Genre + Network)</font>"
   ]
  },
  {
   "cell_type": "code",
   "execution_count": 55,
   "metadata": {
    "collapsed": false
   },
   "outputs": [
    {
     "data": {
      "text/html": [
       "<table class=\"simpletable\">\n",
       "<caption>OLS Regression Results</caption>\n",
       "<tr>\n",
       "  <th>Dep. Variable:</th>         <td>Seasons</td>     <th>  R-squared:         </th> <td>   0.309</td>\n",
       "</tr>\n",
       "<tr>\n",
       "  <th>Model:</th>                   <td>OLS</td>       <th>  Adj. R-squared:    </th> <td>   0.238</td>\n",
       "</tr>\n",
       "<tr>\n",
       "  <th>Method:</th>             <td>Least Squares</td>  <th>  F-statistic:       </th> <td>   4.333</td>\n",
       "</tr>\n",
       "<tr>\n",
       "  <th>Date:</th>             <td>Sat, 18 Jul 2015</td> <th>  Prob (F-statistic):</th> <td>1.39e-21</td>\n",
       "</tr>\n",
       "<tr>\n",
       "  <th>Time:</th>                 <td>22:13:06</td>     <th>  Log-Likelihood:    </th> <td> -1514.3</td>\n",
       "</tr>\n",
       "<tr>\n",
       "  <th>No. Observations:</th>      <td>   664</td>      <th>  AIC:               </th> <td>   3155.</td>\n",
       "</tr>\n",
       "<tr>\n",
       "  <th>Df Residuals:</th>          <td>   601</td>      <th>  BIC:               </th> <td>   3438.</td>\n",
       "</tr>\n",
       "<tr>\n",
       "  <th>Df Model:</th>              <td>    62</td>      <th>                     </th>     <td> </td>   \n",
       "</tr>\n",
       "<tr>\n",
       "  <th>Covariance Type:</th>      <td>nonrobust</td>    <th>                     </th>     <td> </td>   \n",
       "</tr>\n",
       "</table>\n",
       "<table class=\"simpletable\">\n",
       "<tr>\n",
       "               <td></td>                 <th>coef</th>     <th>std err</th>      <th>t</th>      <th>P>|t|</th> <th>[95.0% Conf. Int.]</th> \n",
       "</tr>\n",
       "<tr>\n",
       "  <th>Intercept</th>                  <td>   -3.4083</td> <td>    1.183</td> <td>   -2.882</td> <td> 0.004</td> <td>   -5.731    -1.086</td>\n",
       "</tr>\n",
       "<tr>\n",
       "  <th>Genre[T.Cartoons]</th>          <td>    1.2323</td> <td>    0.782</td> <td>    1.575</td> <td> 0.116</td> <td>   -0.304     2.769</td>\n",
       "</tr>\n",
       "<tr>\n",
       "  <th>Genre[T.Comedy]</th>            <td>    0.5902</td> <td>    0.449</td> <td>    1.314</td> <td> 0.189</td> <td>   -0.292     1.472</td>\n",
       "</tr>\n",
       "<tr>\n",
       "  <th>Genre[T.Crime]</th>             <td>   -0.0301</td> <td>    0.478</td> <td>   -0.063</td> <td> 0.950</td> <td>   -0.968     0.908</td>\n",
       "</tr>\n",
       "<tr>\n",
       "  <th>Genre[T.Drama]</th>             <td>    0.0687</td> <td>    0.429</td> <td>    0.160</td> <td> 0.873</td> <td>   -0.774     0.911</td>\n",
       "</tr>\n",
       "<tr>\n",
       "  <th>Genre[T.Fantasy]</th>           <td>   -0.2247</td> <td>    0.627</td> <td>   -0.359</td> <td> 0.720</td> <td>   -1.456     1.006</td>\n",
       "</tr>\n",
       "<tr>\n",
       "  <th>Genre[T.Reality]</th>           <td>    1.1775</td> <td>    0.526</td> <td>    2.239</td> <td> 0.026</td> <td>    0.144     2.211</td>\n",
       "</tr>\n",
       "<tr>\n",
       "  <th>Genre[T.Science-Fiction]</th>   <td>    0.0553</td> <td>    0.671</td> <td>    0.082</td> <td> 0.934</td> <td>   -1.262     1.373</td>\n",
       "</tr>\n",
       "<tr>\n",
       "  <th>Network[T.A&AMP;E]</th>         <td>   -0.3129</td> <td>    1.628</td> <td>   -0.192</td> <td> 0.848</td> <td>   -3.509     2.884</td>\n",
       "</tr>\n",
       "<tr>\n",
       "  <th>Network[T.A&E]</th>             <td>   -1.9038</td> <td>    1.094</td> <td>   -1.740</td> <td> 0.082</td> <td>   -4.053     0.246</td>\n",
       "</tr>\n",
       "<tr>\n",
       "  <th>Network[T.ABC]</th>             <td>   -1.8982</td> <td>    0.804</td> <td>   -2.361</td> <td> 0.019</td> <td>   -3.477    -0.319</td>\n",
       "</tr>\n",
       "<tr>\n",
       "  <th>Network[T.ABC Family]</th>      <td>   -2.3300</td> <td>    1.026</td> <td>   -2.270</td> <td> 0.024</td> <td>   -4.345    -0.315</td>\n",
       "</tr>\n",
       "<tr>\n",
       "  <th>Network[T.AMC]</th>             <td>   -1.4238</td> <td>    1.069</td> <td>   -1.332</td> <td> 0.183</td> <td>   -3.523     0.676</td>\n",
       "</tr>\n",
       "<tr>\n",
       "  <th>Network[T.Amazon]</th>          <td>   -3.9388</td> <td>    1.938</td> <td>   -2.033</td> <td> 0.043</td> <td>   -7.745    -0.133</td>\n",
       "</tr>\n",
       "<tr>\n",
       "  <th>Network[T.BBC America]</th>     <td>   -1.0501</td> <td>    0.998</td> <td>   -1.052</td> <td> 0.293</td> <td>   -3.010     0.910</td>\n",
       "</tr>\n",
       "<tr>\n",
       "  <th>Network[T.BET]</th>             <td>    1.2180</td> <td>    1.628</td> <td>    0.748</td> <td> 0.455</td> <td>   -1.979     4.415</td>\n",
       "</tr>\n",
       "<tr>\n",
       "  <th>Network[T.Bravo]</th>           <td>    2.1415</td> <td>    1.919</td> <td>    1.116</td> <td> 0.265</td> <td>   -1.628     5.911</td>\n",
       "</tr>\n",
       "<tr>\n",
       "  <th>Network[T.CBS]</th>             <td>   -0.6781</td> <td>    0.835</td> <td>   -0.812</td> <td> 0.417</td> <td>   -2.318     0.961</td>\n",
       "</tr>\n",
       "<tr>\n",
       "  <th>Network[T.CNNCCNNBCNNSCNN]</th> <td>    7.0680</td> <td>    2.606</td> <td>    2.712</td> <td> 0.007</td> <td>    1.950    12.186</td>\n",
       "</tr>\n",
       "<tr>\n",
       "  <th>Network[T.Cartoon Network]</th> <td>   -2.8736</td> <td>    1.161</td> <td>   -2.476</td> <td> 0.014</td> <td>   -5.153    -0.594</td>\n",
       "</tr>\n",
       "<tr>\n",
       "  <th>Network[T.Channel 4 in UK]</th> <td>    4.6439</td> <td>    1.627</td> <td>    2.853</td> <td> 0.004</td> <td>    1.448     7.840</td>\n",
       "</tr>\n",
       "<tr>\n",
       "  <th>Network[T.Comedy Central]</th>  <td>   -0.6306</td> <td>    1.176</td> <td>   -0.536</td> <td> 0.592</td> <td>   -2.940     1.678</td>\n",
       "</tr>\n",
       "<tr>\n",
       "  <th>Network[T.DirecTV]</th>         <td>   -1.5731</td> <td>    1.273</td> <td>   -1.236</td> <td> 0.217</td> <td>   -4.072     0.926</td>\n",
       "</tr>\n",
       "<tr>\n",
       "  <th>Network[T.Discovery]</th>       <td>    0.3871</td> <td>    1.649</td> <td>    0.235</td> <td> 0.814</td> <td>   -2.850     3.625</td>\n",
       "</tr>\n",
       "<tr>\n",
       "  <th>Network[T.Disney Channel]</th>  <td>   -0.8909</td> <td>    1.927</td> <td>   -0.462</td> <td> 0.644</td> <td>   -4.675     2.893</td>\n",
       "</tr>\n",
       "<tr>\n",
       "  <th>Network[T.E]</th>               <td>    0.1286</td> <td>    2.615</td> <td>    0.049</td> <td> 0.961</td> <td>   -5.007     5.264</td>\n",
       "</tr>\n",
       "<tr>\n",
       "  <th>Network[T.E!]</th>              <td>   -2.4277</td> <td>    1.934</td> <td>   -1.255</td> <td> 0.210</td> <td>   -6.226     1.371</td>\n",
       "</tr>\n",
       "<tr>\n",
       "  <th>Network[T.FOX]</th>             <td>   -2.1663</td> <td>    0.814</td> <td>   -2.663</td> <td> 0.008</td> <td>   -3.764    -0.568</td>\n",
       "</tr>\n",
       "<tr>\n",
       "  <th>Network[T.FX]</th>              <td>   -1.7947</td> <td>    1.046</td> <td>   -1.716</td> <td> 0.087</td> <td>   -3.849     0.259</td>\n",
       "</tr>\n",
       "<tr>\n",
       "  <th>Network[T.FXX]</th>             <td>   -4.1149</td> <td>    1.929</td> <td>   -2.133</td> <td> 0.033</td> <td>   -7.904    -0.326</td>\n",
       "</tr>\n",
       "<tr>\n",
       "  <th>Network[T.Fox]</th>             <td>   -3.7069</td> <td>    1.921</td> <td>   -1.930</td> <td> 0.054</td> <td>   -7.480     0.066</td>\n",
       "</tr>\n",
       "<tr>\n",
       "  <th>Network[T.HBO]</th>             <td>   -0.9143</td> <td>    0.931</td> <td>   -0.982</td> <td> 0.327</td> <td>   -2.743     0.915</td>\n",
       "</tr>\n",
       "<tr>\n",
       "  <th>Network[T.Hulu]</th>            <td>   -2.5388</td> <td>    2.608</td> <td>   -0.974</td> <td> 0.331</td> <td>   -7.660     2.583</td>\n",
       "</tr>\n",
       "<tr>\n",
       "  <th>Network[T.IFC]</th>             <td>   -2.6050</td> <td>    1.922</td> <td>   -1.355</td> <td> 0.176</td> <td>   -6.379     1.169</td>\n",
       "</tr>\n",
       "<tr>\n",
       "  <th>Network[T.ION]</th>             <td>   -0.3452</td> <td>    1.632</td> <td>   -0.212</td> <td> 0.833</td> <td>   -3.550     2.860</td>\n",
       "</tr>\n",
       "<tr>\n",
       "  <th>Network[T.ITC]</th>             <td>   -2.3513</td> <td>    2.616</td> <td>   -0.899</td> <td> 0.369</td> <td>   -7.490     2.787</td>\n",
       "</tr>\n",
       "<tr>\n",
       "  <th>Network[T.Lifetime]</th>        <td>   -1.6156</td> <td>    1.046</td> <td>   -1.545</td> <td> 0.123</td> <td>   -3.669     0.438</td>\n",
       "</tr>\n",
       "<tr>\n",
       "  <th>Network[T.MTV]</th>             <td>   -1.5789</td> <td>    0.956</td> <td>   -1.651</td> <td> 0.099</td> <td>   -3.457     0.299</td>\n",
       "</tr>\n",
       "<tr>\n",
       "  <th>Network[T.N/A]</th>             <td>   -1.6167</td> <td>    0.875</td> <td>   -1.847</td> <td> 0.065</td> <td>   -3.336     0.102</td>\n",
       "</tr>\n",
       "<tr>\n",
       "  <th>Network[T.NBC]</th>             <td>   -2.1441</td> <td>    0.798</td> <td>   -2.687</td> <td> 0.007</td> <td>   -3.711    -0.577</td>\n",
       "</tr>\n",
       "<tr>\n",
       "  <th>Network[T.Nat Geo Wild]</th>    <td>    3.2015</td> <td>    2.615</td> <td>    1.224</td> <td> 0.221</td> <td>   -1.934     8.337</td>\n",
       "</tr>\n",
       "<tr>\n",
       "  <th>Network[T.Netflix]</th>         <td>   -2.2706</td> <td>    1.928</td> <td>   -1.178</td> <td> 0.239</td> <td>   -6.056     1.515</td>\n",
       "</tr>\n",
       "<tr>\n",
       "  <th>Network[T.Nick at Nite]</th>    <td>   -1.8622</td> <td>    2.606</td> <td>   -0.715</td> <td> 0.475</td> <td>   -6.980     3.255</td>\n",
       "</tr>\n",
       "<tr>\n",
       "  <th>Network[T.Nickelodeon]</th>     <td>   -2.4268</td> <td>    1.274</td> <td>   -1.905</td> <td> 0.057</td> <td>   -4.929     0.076</td>\n",
       "</tr>\n",
       "<tr>\n",
       "  <th>Network[T.Oxygen]</th>          <td>   -2.8592</td> <td>    2.615</td> <td>   -1.093</td> <td> 0.275</td> <td>   -7.995     2.276</td>\n",
       "</tr>\n",
       "<tr>\n",
       "  <th>Network[T.Psych]</th>           <td>    2.1515</td> <td>    1.465</td> <td>    1.468</td> <td> 0.143</td> <td>   -0.726     5.030</td>\n",
       "</tr>\n",
       "<tr>\n",
       "  <th>Network[T.ReelzChannel]</th>    <td>   -2.8701</td> <td>    2.606</td> <td>   -1.101</td> <td> 0.271</td> <td>   -7.988     2.248</td>\n",
       "</tr>\n",
       "<tr>\n",
       "  <th>Network[T.Showcase]</th>        <td>   -1.6675</td> <td>    1.922</td> <td>   -0.867</td> <td> 0.386</td> <td>   -5.443     2.108</td>\n",
       "</tr>\n",
       "<tr>\n",
       "  <th>Network[T.Showtime]</th>        <td>    1.1356</td> <td>    1.030</td> <td>    1.102</td> <td> 0.271</td> <td>   -0.888     3.159</td>\n",
       "</tr>\n",
       "<tr>\n",
       "  <th>Network[T.Spike TV]</th>        <td>   -3.1344</td> <td>    2.611</td> <td>   -1.200</td> <td> 0.230</td> <td>   -8.262     1.994</td>\n",
       "</tr>\n",
       "<tr>\n",
       "  <th>Network[T.Starz]</th>           <td>   -2.5706</td> <td>    1.125</td> <td>   -2.285</td> <td> 0.023</td> <td>   -4.780    -0.361</td>\n",
       "</tr>\n",
       "<tr>\n",
       "  <th>Network[T.Syfy]</th>            <td>   -1.6920</td> <td>    0.943</td> <td>   -1.793</td> <td> 0.073</td> <td>   -3.545     0.161</td>\n",
       "</tr>\n",
       "<tr>\n",
       "  <th>Network[T.TBS]</th>             <td>   -2.1845</td> <td>    1.218</td> <td>   -1.794</td> <td> 0.073</td> <td>   -4.576     0.207</td>\n",
       "</tr>\n",
       "<tr>\n",
       "  <th>Network[T.TLC]</th>             <td>   -1.1990</td> <td>    1.949</td> <td>   -0.615</td> <td> 0.539</td> <td>   -5.027     2.629</td>\n",
       "</tr>\n",
       "<tr>\n",
       "  <th>Network[T.TNT]</th>             <td>   -1.1774</td> <td>    0.905</td> <td>   -1.301</td> <td> 0.194</td> <td>   -2.955     0.600</td>\n",
       "</tr>\n",
       "<tr>\n",
       "  <th>Network[T.TV Land]</th>         <td>   -0.9497</td> <td>    1.467</td> <td>   -0.647</td> <td> 0.518</td> <td>   -3.831     1.932</td>\n",
       "</tr>\n",
       "<tr>\n",
       "  <th>Network[T.The CW]</th>          <td>   -0.8804</td> <td>    0.867</td> <td>   -1.015</td> <td> 0.311</td> <td>   -2.584     0.823</td>\n",
       "</tr>\n",
       "<tr>\n",
       "  <th>Network[T.USA]</th>             <td>    1.0000</td> <td>    1.212</td> <td>    0.825</td> <td> 0.410</td> <td>   -1.380     3.381</td>\n",
       "</tr>\n",
       "<tr>\n",
       "  <th>Network[T.USA Network]</th>     <td>   -0.2828</td> <td>    0.976</td> <td>   -0.290</td> <td> 0.772</td> <td>   -2.200     1.635</td>\n",
       "</tr>\n",
       "<tr>\n",
       "  <th>Network[T.VH1]</th>             <td>   -1.8683</td> <td>    1.937</td> <td>   -0.964</td> <td> 0.335</td> <td>   -5.673     1.936</td>\n",
       "</tr>\n",
       "<tr>\n",
       "  <th>Network[T.WE tv]</th>           <td>    5.6230</td> <td>    2.614</td> <td>    2.151</td> <td> 0.032</td> <td>    0.488    10.758</td>\n",
       "</tr>\n",
       "<tr>\n",
       "  <th>Network[T.syndicated]</th>      <td>   -2.2857</td> <td>    2.679</td> <td>   -0.853</td> <td> 0.394</td> <td>   -7.548     2.977</td>\n",
       "</tr>\n",
       "<tr>\n",
       "  <th>UserRating</th>                 <td>    2.0996</td> <td>    0.222</td> <td>    9.441</td> <td> 0.000</td> <td>    1.663     2.536</td>\n",
       "</tr>\n",
       "</table>\n",
       "<table class=\"simpletable\">\n",
       "<tr>\n",
       "  <th>Omnibus:</th>       <td>425.338</td> <th>  Durbin-Watson:     </th> <td>   1.285</td>\n",
       "</tr>\n",
       "<tr>\n",
       "  <th>Prob(Omnibus):</th> <td> 0.000</td>  <th>  Jarque-Bera (JB):  </th> <td>7432.247</td>\n",
       "</tr>\n",
       "<tr>\n",
       "  <th>Skew:</th>          <td> 2.554</td>  <th>  Prob(JB):          </th> <td>    0.00</td>\n",
       "</tr>\n",
       "<tr>\n",
       "  <th>Kurtosis:</th>      <td>18.574</td>  <th>  Cond. No.          </th> <td>    229.</td>\n",
       "</tr>\n",
       "</table>"
      ],
      "text/plain": [
       "<class 'statsmodels.iolib.summary.Summary'>\n",
       "\"\"\"\n",
       "                            OLS Regression Results                            \n",
       "==============================================================================\n",
       "Dep. Variable:                Seasons   R-squared:                       0.309\n",
       "Model:                            OLS   Adj. R-squared:                  0.238\n",
       "Method:                 Least Squares   F-statistic:                     4.333\n",
       "Date:                Sat, 18 Jul 2015   Prob (F-statistic):           1.39e-21\n",
       "Time:                        22:13:06   Log-Likelihood:                -1514.3\n",
       "No. Observations:                 664   AIC:                             3155.\n",
       "Df Residuals:                     601   BIC:                             3438.\n",
       "Df Model:                          62                                         \n",
       "Covariance Type:            nonrobust                                         \n",
       "==============================================================================================\n",
       "                                 coef    std err          t      P>|t|      [95.0% Conf. Int.]\n",
       "----------------------------------------------------------------------------------------------\n",
       "Intercept                     -3.4083      1.183     -2.882      0.004        -5.731    -1.086\n",
       "Genre[T.Cartoons]              1.2323      0.782      1.575      0.116        -0.304     2.769\n",
       "Genre[T.Comedy]                0.5902      0.449      1.314      0.189        -0.292     1.472\n",
       "Genre[T.Crime]                -0.0301      0.478     -0.063      0.950        -0.968     0.908\n",
       "Genre[T.Drama]                 0.0687      0.429      0.160      0.873        -0.774     0.911\n",
       "Genre[T.Fantasy]              -0.2247      0.627     -0.359      0.720        -1.456     1.006\n",
       "Genre[T.Reality]               1.1775      0.526      2.239      0.026         0.144     2.211\n",
       "Genre[T.Science-Fiction]       0.0553      0.671      0.082      0.934        -1.262     1.373\n",
       "Network[T.A&AMP;E]            -0.3129      1.628     -0.192      0.848        -3.509     2.884\n",
       "Network[T.A&E]                -1.9038      1.094     -1.740      0.082        -4.053     0.246\n",
       "Network[T.ABC]                -1.8982      0.804     -2.361      0.019        -3.477    -0.319\n",
       "Network[T.ABC Family]         -2.3300      1.026     -2.270      0.024        -4.345    -0.315\n",
       "Network[T.AMC]                -1.4238      1.069     -1.332      0.183        -3.523     0.676\n",
       "Network[T.Amazon]             -3.9388      1.938     -2.033      0.043        -7.745    -0.133\n",
       "Network[T.BBC America]        -1.0501      0.998     -1.052      0.293        -3.010     0.910\n",
       "Network[T.BET]                 1.2180      1.628      0.748      0.455        -1.979     4.415\n",
       "Network[T.Bravo]               2.1415      1.919      1.116      0.265        -1.628     5.911\n",
       "Network[T.CBS]                -0.6781      0.835     -0.812      0.417        -2.318     0.961\n",
       "Network[T.CNNCCNNBCNNSCNN]     7.0680      2.606      2.712      0.007         1.950    12.186\n",
       "Network[T.Cartoon Network]    -2.8736      1.161     -2.476      0.014        -5.153    -0.594\n",
       "Network[T.Channel 4 in UK]     4.6439      1.627      2.853      0.004         1.448     7.840\n",
       "Network[T.Comedy Central]     -0.6306      1.176     -0.536      0.592        -2.940     1.678\n",
       "Network[T.DirecTV]            -1.5731      1.273     -1.236      0.217        -4.072     0.926\n",
       "Network[T.Discovery]           0.3871      1.649      0.235      0.814        -2.850     3.625\n",
       "Network[T.Disney Channel]     -0.8909      1.927     -0.462      0.644        -4.675     2.893\n",
       "Network[T.E]                   0.1286      2.615      0.049      0.961        -5.007     5.264\n",
       "Network[T.E!]                 -2.4277      1.934     -1.255      0.210        -6.226     1.371\n",
       "Network[T.FOX]                -2.1663      0.814     -2.663      0.008        -3.764    -0.568\n",
       "Network[T.FX]                 -1.7947      1.046     -1.716      0.087        -3.849     0.259\n",
       "Network[T.FXX]                -4.1149      1.929     -2.133      0.033        -7.904    -0.326\n",
       "Network[T.Fox]                -3.7069      1.921     -1.930      0.054        -7.480     0.066\n",
       "Network[T.HBO]                -0.9143      0.931     -0.982      0.327        -2.743     0.915\n",
       "Network[T.Hulu]               -2.5388      2.608     -0.974      0.331        -7.660     2.583\n",
       "Network[T.IFC]                -2.6050      1.922     -1.355      0.176        -6.379     1.169\n",
       "Network[T.ION]                -0.3452      1.632     -0.212      0.833        -3.550     2.860\n",
       "Network[T.ITC]                -2.3513      2.616     -0.899      0.369        -7.490     2.787\n",
       "Network[T.Lifetime]           -1.6156      1.046     -1.545      0.123        -3.669     0.438\n",
       "Network[T.MTV]                -1.5789      0.956     -1.651      0.099        -3.457     0.299\n",
       "Network[T.N/A]                -1.6167      0.875     -1.847      0.065        -3.336     0.102\n",
       "Network[T.NBC]                -2.1441      0.798     -2.687      0.007        -3.711    -0.577\n",
       "Network[T.Nat Geo Wild]        3.2015      2.615      1.224      0.221        -1.934     8.337\n",
       "Network[T.Netflix]            -2.2706      1.928     -1.178      0.239        -6.056     1.515\n",
       "Network[T.Nick at Nite]       -1.8622      2.606     -0.715      0.475        -6.980     3.255\n",
       "Network[T.Nickelodeon]        -2.4268      1.274     -1.905      0.057        -4.929     0.076\n",
       "Network[T.Oxygen]             -2.8592      2.615     -1.093      0.275        -7.995     2.276\n",
       "Network[T.Psych]               2.1515      1.465      1.468      0.143        -0.726     5.030\n",
       "Network[T.ReelzChannel]       -2.8701      2.606     -1.101      0.271        -7.988     2.248\n",
       "Network[T.Showcase]           -1.6675      1.922     -0.867      0.386        -5.443     2.108\n",
       "Network[T.Showtime]            1.1356      1.030      1.102      0.271        -0.888     3.159\n",
       "Network[T.Spike TV]           -3.1344      2.611     -1.200      0.230        -8.262     1.994\n",
       "Network[T.Starz]              -2.5706      1.125     -2.285      0.023        -4.780    -0.361\n",
       "Network[T.Syfy]               -1.6920      0.943     -1.793      0.073        -3.545     0.161\n",
       "Network[T.TBS]                -2.1845      1.218     -1.794      0.073        -4.576     0.207\n",
       "Network[T.TLC]                -1.1990      1.949     -0.615      0.539        -5.027     2.629\n",
       "Network[T.TNT]                -1.1774      0.905     -1.301      0.194        -2.955     0.600\n",
       "Network[T.TV Land]            -0.9497      1.467     -0.647      0.518        -3.831     1.932\n",
       "Network[T.The CW]             -0.8804      0.867     -1.015      0.311        -2.584     0.823\n",
       "Network[T.USA]                 1.0000      1.212      0.825      0.410        -1.380     3.381\n",
       "Network[T.USA Network]        -0.2828      0.976     -0.290      0.772        -2.200     1.635\n",
       "Network[T.VH1]                -1.8683      1.937     -0.964      0.335        -5.673     1.936\n",
       "Network[T.WE tv]               5.6230      2.614      2.151      0.032         0.488    10.758\n",
       "Network[T.syndicated]         -2.2857      2.679     -0.853      0.394        -7.548     2.977\n",
       "UserRating                     2.0996      0.222      9.441      0.000         1.663     2.536\n",
       "==============================================================================\n",
       "Omnibus:                      425.338   Durbin-Watson:                   1.285\n",
       "Prob(Omnibus):                  0.000   Jarque-Bera (JB):             7432.247\n",
       "Skew:                           2.554   Prob(JB):                         0.00\n",
       "Kurtosis:                      18.574   Cond. No.                         229.\n",
       "==============================================================================\n",
       "\n",
       "Warnings:\n",
       "[1] Standard Errors assume that the covariance matrix of the errors is correctly specified.\n",
       "\"\"\""
      ]
     },
     "execution_count": 55,
     "metadata": {},
     "output_type": "execute_result"
    }
   ],
   "source": [
    "ols_train3_y, ols_train3_X = dmatrices('Seasons ~ UserRating + Genre + Network', data=tv_df, return_type='dataframe')\n",
    "ols_train3_model = sm.OLS(ols_train3_y, ols_train3_X).fit()\n",
    "ols_train3_model.summary()"
   ]
  },
  {
   "cell_type": "code",
   "execution_count": 56,
   "metadata": {
    "collapsed": false
   },
   "outputs": [
    {
     "data": {
      "text/plain": [
       "[0.5, 5.5, -5, 25]"
      ]
     },
     "execution_count": 56,
     "metadata": {},
     "output_type": "execute_result"
    },
    {
     "data": {
      "image/png": "[encoded data removed]",
      "text/plain": [
       "<matplotlib.figure.Figure at 0x10cfd2cd0>"
      ]
     },
     "metadata": {},
     "output_type": "display_data"
    }
   ],
   "source": [
    "ols_train3_Y_predict = ols_train3_model.predict(ols_train3_X)\n",
    "\n",
    "p = plt.figure(figsize=(15, 5))\n",
    "tv_df.plot(ax=p.gca(), kind='scatter', x='UserRating', y='Seasons', label='Observed')\n",
    "plt.scatter(ols_train3_X['UserRating'], ols_train3_Y_predict, c='red', label='Model')\n",
    "plt.xlabel('User Rating', fontsize='16')\n",
    "plt.ylabel('Number of Seasons', fontsize='16')\n",
    "plt.title('Multiple Linear Regression', fontsize='16')\n",
    "plt.legend(loc='upper left')\n",
    "plt.axis([0.5, 5.5, -5, 25])"
   ]
  },
  {
   "cell_type": "code",
   "execution_count": 44,
   "metadata": {
    "collapsed": false
   },
   "outputs": [
    {
     "data": {
      "text/plain": [
       "(array([  18.,  318.,  244.,   57.,   22.,    3.,    0.,    0.,    0.,    2.]),\n",
       " array([ -5.798507  ,  -3.13008479,  -0.46166257,   2.20675965,\n",
       "          4.87518186,   7.54360408,  10.21202629,  12.88044851,\n",
       "         15.54887072,  18.21729294,  20.88571515]),\n",
       " <a list of 10 Patch objects>)"
      ]
     },
     "execution_count": 44,
     "metadata": {},
     "output_type": "execute_result"
    },
    {
     "data": {
      "image/png": "[encoded data removed]",
      "text/plain": [
       "<matplotlib.figure.Figure at 0x10cf42e10>"
      ]
     },
     "metadata": {},
     "output_type": "display_data"
    }
   ],
   "source": [
    "p = plt.figure(figsize=(15, 5))\n",
    "plt.hist(ols_train3_model.resid)"
   ]
  },
  {
   "cell_type": "markdown",
   "metadata": {},
   "source": [
    " "
   ]
  },
  {
   "cell_type": "markdown",
   "metadata": {},
   "source": [
    "####<font color='red'>Test case 4: With 1 numeric predictor and 3 categorical predictors (User rating + Genre + Network + Duration)</font>"
   ]
  },
  {
   "cell_type": "code",
   "execution_count": 57,
   "metadata": {
    "collapsed": false
   },
   "outputs": [
    {
     "data": {
      "text/html": [
       "<table class=\"simpletable\">\n",
       "<caption>OLS Regression Results</caption>\n",
       "<tr>\n",
       "  <th>Dep. Variable:</th>         <td>Seasons</td>     <th>  R-squared:         </th> <td>   0.315</td>\n",
       "</tr>\n",
       "<tr>\n",
       "  <th>Model:</th>                   <td>OLS</td>       <th>  Adj. R-squared:    </th> <td>   0.239</td>\n",
       "</tr>\n",
       "<tr>\n",
       "  <th>Method:</th>             <td>Least Squares</td>  <th>  F-statistic:       </th> <td>   4.161</td>\n",
       "</tr>\n",
       "<tr>\n",
       "  <th>Date:</th>             <td>Sat, 18 Jul 2015</td> <th>  Prob (F-statistic):</th> <td>3.34e-21</td>\n",
       "</tr>\n",
       "<tr>\n",
       "  <th>Time:</th>                 <td>22:13:39</td>     <th>  Log-Likelihood:    </th> <td> -1511.3</td>\n",
       "</tr>\n",
       "<tr>\n",
       "  <th>No. Observations:</th>      <td>   664</td>      <th>  AIC:               </th> <td>   3157.</td>\n",
       "</tr>\n",
       "<tr>\n",
       "  <th>Df Residuals:</th>          <td>   597</td>      <th>  BIC:               </th> <td>   3458.</td>\n",
       "</tr>\n",
       "<tr>\n",
       "  <th>Df Model:</th>              <td>    66</td>      <th>                     </th>     <td> </td>   \n",
       "</tr>\n",
       "<tr>\n",
       "  <th>Covariance Type:</th>      <td>nonrobust</td>    <th>                     </th>     <td> </td>   \n",
       "</tr>\n",
       "</table>\n",
       "<table class=\"simpletable\">\n",
       "<tr>\n",
       "               <td></td>                 <th>coef</th>     <th>std err</th>      <th>t</th>      <th>P>|t|</th> <th>[95.0% Conf. Int.]</th> \n",
       "</tr>\n",
       "<tr>\n",
       "  <th>Intercept</th>                  <td>   -0.9271</td> <td>    2.014</td> <td>   -0.460</td> <td> 0.645</td> <td>   -4.883     3.029</td>\n",
       "</tr>\n",
       "<tr>\n",
       "  <th>Genre[T.Cartoons]</th>          <td>    1.2706</td> <td>    0.834</td> <td>    1.524</td> <td> 0.128</td> <td>   -0.367     2.908</td>\n",
       "</tr>\n",
       "<tr>\n",
       "  <th>Genre[T.Comedy]</th>            <td>    0.7746</td> <td>    0.502</td> <td>    1.543</td> <td> 0.123</td> <td>   -0.211     1.761</td>\n",
       "</tr>\n",
       "<tr>\n",
       "  <th>Genre[T.Crime]</th>             <td>   -0.0380</td> <td>    0.477</td> <td>   -0.080</td> <td> 0.937</td> <td>   -0.976     0.899</td>\n",
       "</tr>\n",
       "<tr>\n",
       "  <th>Genre[T.Drama]</th>             <td>    0.0750</td> <td>    0.429</td> <td>    0.175</td> <td> 0.861</td> <td>   -0.767     0.917</td>\n",
       "</tr>\n",
       "<tr>\n",
       "  <th>Genre[T.Fantasy]</th>           <td>   -0.1842</td> <td>    0.626</td> <td>   -0.294</td> <td> 0.769</td> <td>   -1.415     1.046</td>\n",
       "</tr>\n",
       "<tr>\n",
       "  <th>Genre[T.Reality]</th>           <td>    1.1632</td> <td>    0.526</td> <td>    2.210</td> <td> 0.027</td> <td>    0.130     2.197</td>\n",
       "</tr>\n",
       "<tr>\n",
       "  <th>Genre[T.Science-Fiction]</th>   <td>    0.0480</td> <td>    0.671</td> <td>    0.072</td> <td> 0.943</td> <td>   -1.269     1.365</td>\n",
       "</tr>\n",
       "<tr>\n",
       "  <th>Network[T.A&AMP;E]</th>         <td>    0.1347</td> <td>    1.668</td> <td>    0.081</td> <td> 0.936</td> <td>   -3.142     3.411</td>\n",
       "</tr>\n",
       "<tr>\n",
       "  <th>Network[T.A&E]</th>             <td>   -1.5327</td> <td>    1.164</td> <td>   -1.317</td> <td> 0.188</td> <td>   -3.819     0.754</td>\n",
       "</tr>\n",
       "<tr>\n",
       "  <th>Network[T.ABC]</th>             <td>   -1.4550</td> <td>    0.885</td> <td>   -1.643</td> <td> 0.101</td> <td>   -3.194     0.284</td>\n",
       "</tr>\n",
       "<tr>\n",
       "  <th>Network[T.ABC Family]</th>      <td>   -1.9545</td> <td>    1.097</td> <td>   -1.782</td> <td> 0.075</td> <td>   -4.109     0.200</td>\n",
       "</tr>\n",
       "<tr>\n",
       "  <th>Network[T.AMC]</th>             <td>   -0.9438</td> <td>    1.129</td> <td>   -0.836</td> <td> 0.404</td> <td>   -3.161     1.273</td>\n",
       "</tr>\n",
       "<tr>\n",
       "  <th>Network[T.Amazon]</th>          <td>   -3.9710</td> <td>    2.025</td> <td>   -1.961</td> <td> 0.050</td> <td>   -7.948     0.006</td>\n",
       "</tr>\n",
       "<tr>\n",
       "  <th>Network[T.BBC America]</th>     <td>   -0.7383</td> <td>    1.072</td> <td>   -0.689</td> <td> 0.491</td> <td>   -2.843     1.366</td>\n",
       "</tr>\n",
       "<tr>\n",
       "  <th>Network[T.BET]</th>             <td>    1.8704</td> <td>    1.666</td> <td>    1.123</td> <td> 0.262</td> <td>   -1.401     5.142</td>\n",
       "</tr>\n",
       "<tr>\n",
       "  <th>Network[T.Bravo]</th>           <td>    2.0425</td> <td>    2.009</td> <td>    1.017</td> <td> 0.310</td> <td>   -1.904     5.989</td>\n",
       "</tr>\n",
       "<tr>\n",
       "  <th>Network[T.CBS]</th>             <td>   -0.2155</td> <td>    0.915</td> <td>   -0.236</td> <td> 0.814</td> <td>   -2.013     1.581</td>\n",
       "</tr>\n",
       "<tr>\n",
       "  <th>Network[T.CNNCCNNBCNNSCNN]</th> <td>    7.6646</td> <td>    2.628</td> <td>    2.917</td> <td> 0.004</td> <td>    2.504    12.825</td>\n",
       "</tr>\n",
       "<tr>\n",
       "  <th>Network[T.Cartoon Network]</th> <td>   -2.1361</td> <td>    1.231</td> <td>   -1.735</td> <td> 0.083</td> <td>   -4.554     0.282</td>\n",
       "</tr>\n",
       "<tr>\n",
       "  <th>Network[T.Channel 4 in UK]</th> <td>    5.0185</td> <td>    1.679</td> <td>    2.989</td> <td> 0.003</td> <td>    1.721     8.316</td>\n",
       "</tr>\n",
       "<tr>\n",
       "  <th>Network[T.Comedy Central]</th>  <td>    0.0205</td> <td>    1.237</td> <td>    0.017</td> <td> 0.987</td> <td>   -2.409     2.450</td>\n",
       "</tr>\n",
       "<tr>\n",
       "  <th>Network[T.DirecTV]</th>         <td>   -1.1105</td> <td>    1.322</td> <td>   -0.840</td> <td> 0.401</td> <td>   -3.707     1.486</td>\n",
       "</tr>\n",
       "<tr>\n",
       "  <th>Network[T.Discovery]</th>       <td>    0.6911</td> <td>    1.692</td> <td>    0.409</td> <td> 0.683</td> <td>   -2.631     4.013</td>\n",
       "</tr>\n",
       "<tr>\n",
       "  <th>Network[T.Disney Channel]</th>  <td>   -0.2260</td> <td>    1.959</td> <td>   -0.115</td> <td> 0.908</td> <td>   -4.074     3.622</td>\n",
       "</tr>\n",
       "<tr>\n",
       "  <th>Network[T.E]</th>               <td>    0.6038</td> <td>    2.640</td> <td>    0.229</td> <td> 0.819</td> <td>   -4.581     5.789</td>\n",
       "</tr>\n",
       "<tr>\n",
       "  <th>Network[T.E!]</th>              <td>   -1.7898</td> <td>    1.962</td> <td>   -0.912</td> <td> 0.362</td> <td>   -5.643     2.063</td>\n",
       "</tr>\n",
       "<tr>\n",
       "  <th>Network[T.FOX]</th>             <td>   -1.7038</td> <td>    0.898</td> <td>   -1.898</td> <td> 0.058</td> <td>   -3.467     0.059</td>\n",
       "</tr>\n",
       "<tr>\n",
       "  <th>Network[T.FX]</th>              <td>   -1.3302</td> <td>    1.115</td> <td>   -1.193</td> <td> 0.233</td> <td>   -3.520     0.860</td>\n",
       "</tr>\n",
       "<tr>\n",
       "  <th>Network[T.FXX]</th>             <td>   -3.5299</td> <td>    1.960</td> <td>   -1.801</td> <td> 0.072</td> <td>   -7.380     0.320</td>\n",
       "</tr>\n",
       "<tr>\n",
       "  <th>Network[T.Fox]</th>             <td>   -3.2649</td> <td>    1.956</td> <td>   -1.669</td> <td> 0.096</td> <td>   -7.106     0.576</td>\n",
       "</tr>\n",
       "<tr>\n",
       "  <th>Network[T.HBO]</th>             <td>   -0.3873</td> <td>    1.000</td> <td>   -0.387</td> <td> 0.699</td> <td>   -2.352     1.577</td>\n",
       "</tr>\n",
       "<tr>\n",
       "  <th>Network[T.Hulu]</th>            <td>   -1.9482</td> <td>    2.630</td> <td>   -0.741</td> <td> 0.459</td> <td>   -7.112     3.216</td>\n",
       "</tr>\n",
       "<tr>\n",
       "  <th>Network[T.IFC]</th>             <td>   -2.0052</td> <td>    1.953</td> <td>   -1.027</td> <td> 0.305</td> <td>   -5.841     1.831</td>\n",
       "</tr>\n",
       "<tr>\n",
       "  <th>Network[T.ION]</th>             <td>    0.0902</td> <td>    1.672</td> <td>    0.054</td> <td> 0.957</td> <td>   -3.194     3.375</td>\n",
       "</tr>\n",
       "<tr>\n",
       "  <th>Network[T.ITC]</th>             <td>   -1.8907</td> <td>    2.640</td> <td>   -0.716</td> <td> 0.474</td> <td>   -7.075     3.293</td>\n",
       "</tr>\n",
       "<tr>\n",
       "  <th>Network[T.Lifetime]</th>        <td>   -1.1859</td> <td>    1.117</td> <td>   -1.062</td> <td> 0.289</td> <td>   -3.379     1.007</td>\n",
       "</tr>\n",
       "<tr>\n",
       "  <th>Network[T.MTV]</th>             <td>   -1.0524</td> <td>    1.030</td> <td>   -1.022</td> <td> 0.307</td> <td>   -3.075     0.970</td>\n",
       "</tr>\n",
       "<tr>\n",
       "  <th>Network[T.N/A]</th>             <td>   -1.1478</td> <td>    0.953</td> <td>   -1.205</td> <td> 0.229</td> <td>   -3.019     0.723</td>\n",
       "</tr>\n",
       "<tr>\n",
       "  <th>Network[T.NBC]</th>             <td>   -1.7344</td> <td>    0.884</td> <td>   -1.962</td> <td> 0.050</td> <td>   -3.470     0.001</td>\n",
       "</tr>\n",
       "<tr>\n",
       "  <th>Network[T.Nat Geo Wild]</th>    <td>    4.0039</td> <td>    2.643</td> <td>    1.515</td> <td> 0.130</td> <td>   -1.187     9.195</td>\n",
       "</tr>\n",
       "<tr>\n",
       "  <th>Network[T.Netflix]</th>         <td>   -1.8495</td> <td>    1.962</td> <td>   -0.943</td> <td> 0.346</td> <td>   -5.703     2.004</td>\n",
       "</tr>\n",
       "<tr>\n",
       "  <th>Network[T.Nick at Nite]</th>    <td>   -1.2649</td> <td>    2.628</td> <td>   -0.481</td> <td> 0.630</td> <td>   -6.425     3.896</td>\n",
       "</tr>\n",
       "<tr>\n",
       "  <th>Network[T.Nickelodeon]</th>     <td>   -1.9367</td> <td>    1.325</td> <td>   -1.461</td> <td> 0.144</td> <td>   -4.539     0.666</td>\n",
       "</tr>\n",
       "<tr>\n",
       "  <th>Network[T.Oxygen]</th>          <td>   -2.3938</td> <td>    2.639</td> <td>   -0.907</td> <td> 0.365</td> <td>   -7.576     2.788</td>\n",
       "</tr>\n",
       "<tr>\n",
       "  <th>Network[T.Psych]</th>           <td>    2.5372</td> <td>    1.517</td> <td>    1.672</td> <td> 0.095</td> <td>   -0.443     5.517</td>\n",
       "</tr>\n",
       "<tr>\n",
       "  <th>Network[T.ReelzChannel]</th>    <td>   -2.4363</td> <td>    2.631</td> <td>   -0.926</td> <td> 0.355</td> <td>   -7.603     2.730</td>\n",
       "</tr>\n",
       "<tr>\n",
       "  <th>Network[T.Showcase]</th>        <td>   -1.2153</td> <td>    1.959</td> <td>   -0.620</td> <td> 0.535</td> <td>   -5.062     2.631</td>\n",
       "</tr>\n",
       "<tr>\n",
       "  <th>Network[T.Showtime]</th>        <td>    1.7732</td> <td>    1.089</td> <td>    1.628</td> <td> 0.104</td> <td>   -0.366     3.913</td>\n",
       "</tr>\n",
       "<tr>\n",
       "  <th>Network[T.Spike TV]</th>        <td>   -2.8859</td> <td>    2.658</td> <td>   -1.086</td> <td> 0.278</td> <td>   -8.107     2.335</td>\n",
       "</tr>\n",
       "<tr>\n",
       "  <th>Network[T.Starz]</th>           <td>   -2.3268</td> <td>    1.202</td> <td>   -1.936</td> <td> 0.053</td> <td>   -4.687     0.034</td>\n",
       "</tr>\n",
       "<tr>\n",
       "  <th>Network[T.Syfy]</th>            <td>   -1.2761</td> <td>    1.020</td> <td>   -1.251</td> <td> 0.212</td> <td>   -3.280     0.728</td>\n",
       "</tr>\n",
       "<tr>\n",
       "  <th>Network[T.TBS]</th>             <td>   -1.9132</td> <td>    1.292</td> <td>   -1.481</td> <td> 0.139</td> <td>   -4.450     0.624</td>\n",
       "</tr>\n",
       "<tr>\n",
       "  <th>Network[T.TLC]</th>             <td>   -0.7516</td> <td>    1.980</td> <td>   -0.380</td> <td> 0.704</td> <td>   -4.641     3.137</td>\n",
       "</tr>\n",
       "<tr>\n",
       "  <th>Network[T.TNT]</th>             <td>   -0.7650</td> <td>    0.987</td> <td>   -0.775</td> <td> 0.439</td> <td>   -2.704     1.174</td>\n",
       "</tr>\n",
       "<tr>\n",
       "  <th>Network[T.TV Land]</th>         <td>   -0.3410</td> <td>    1.510</td> <td>   -0.226</td> <td> 0.821</td> <td>   -3.306     2.624</td>\n",
       "</tr>\n",
       "<tr>\n",
       "  <th>Network[T.The CW]</th>          <td>   -0.4337</td> <td>    0.949</td> <td>   -0.457</td> <td> 0.648</td> <td>   -2.298     1.430</td>\n",
       "</tr>\n",
       "<tr>\n",
       "  <th>Network[T.USA]</th>             <td>    1.5374</td> <td>    1.260</td> <td>    1.220</td> <td> 0.223</td> <td>   -0.938     4.012</td>\n",
       "</tr>\n",
       "<tr>\n",
       "  <th>Network[T.USA Network]</th>     <td>    0.1516</td> <td>    1.046</td> <td>    0.145</td> <td> 0.885</td> <td>   -1.903     2.206</td>\n",
       "</tr>\n",
       "<tr>\n",
       "  <th>Network[T.VH1]</th>             <td>   -1.3882</td> <td>    1.973</td> <td>   -0.703</td> <td> 0.482</td> <td>   -5.264     2.487</td>\n",
       "</tr>\n",
       "<tr>\n",
       "  <th>Network[T.WE tv]</th>           <td>    6.0932</td> <td>    2.639</td> <td>    2.309</td> <td> 0.021</td> <td>    0.911    11.276</td>\n",
       "</tr>\n",
       "<tr>\n",
       "  <th>Network[T.syndicated]</th>      <td>   -4.8882</td> <td>    3.071</td> <td>   -1.592</td> <td> 0.112</td> <td>  -10.920     1.143</td>\n",
       "</tr>\n",
       "<tr>\n",
       "  <th>Duration[T.30 min]</th>         <td>   -3.3383</td> <td>    1.979</td> <td>   -1.687</td> <td> 0.092</td> <td>   -7.226     0.549</td>\n",
       "</tr>\n",
       "<tr>\n",
       "  <th>Duration[T.45 min]</th>         <td>   -2.3173</td> <td>    2.487</td> <td>   -0.932</td> <td> 0.352</td> <td>   -7.202     2.567</td>\n",
       "</tr>\n",
       "<tr>\n",
       "  <th>Duration[T.60 min]</th>         <td>   -3.0019</td> <td>    2.022</td> <td>   -1.485</td> <td> 0.138</td> <td>   -6.973     0.969</td>\n",
       "</tr>\n",
       "<tr>\n",
       "  <th>Duration[T.None]</th>           <td>   -2.5300</td> <td>    2.060</td> <td>   -1.228</td> <td> 0.220</td> <td>   -6.575     1.516</td>\n",
       "</tr>\n",
       "<tr>\n",
       "  <th>UserRating</th>                 <td>    2.1203</td> <td>    0.227</td> <td>    9.354</td> <td> 0.000</td> <td>    1.675     2.565</td>\n",
       "</tr>\n",
       "</table>\n",
       "<table class=\"simpletable\">\n",
       "<tr>\n",
       "  <th>Omnibus:</th>       <td>425.490</td> <th>  Durbin-Watson:     </th> <td>   1.280</td>\n",
       "</tr>\n",
       "<tr>\n",
       "  <th>Prob(Omnibus):</th> <td> 0.000</td>  <th>  Jarque-Bera (JB):  </th> <td>7348.456</td>\n",
       "</tr>\n",
       "<tr>\n",
       "  <th>Skew:</th>          <td> 2.560</td>  <th>  Prob(JB):          </th> <td>    0.00</td>\n",
       "</tr>\n",
       "<tr>\n",
       "  <th>Kurtosis:</th>      <td>18.472</td>  <th>  Cond. No.          </th> <td>    267.</td>\n",
       "</tr>\n",
       "</table>"
      ],
      "text/plain": [
       "<class 'statsmodels.iolib.summary.Summary'>\n",
       "\"\"\"\n",
       "                            OLS Regression Results                            \n",
       "==============================================================================\n",
       "Dep. Variable:                Seasons   R-squared:                       0.315\n",
       "Model:                            OLS   Adj. R-squared:                  0.239\n",
       "Method:                 Least Squares   F-statistic:                     4.161\n",
       "Date:                Sat, 18 Jul 2015   Prob (F-statistic):           3.34e-21\n",
       "Time:                        22:13:39   Log-Likelihood:                -1511.3\n",
       "No. Observations:                 664   AIC:                             3157.\n",
       "Df Residuals:                     597   BIC:                             3458.\n",
       "Df Model:                          66                                         \n",
       "Covariance Type:            nonrobust                                         \n",
       "==============================================================================================\n",
       "                                 coef    std err          t      P>|t|      [95.0% Conf. Int.]\n",
       "----------------------------------------------------------------------------------------------\n",
       "Intercept                     -0.9271      2.014     -0.460      0.645        -4.883     3.029\n",
       "Genre[T.Cartoons]              1.2706      0.834      1.524      0.128        -0.367     2.908\n",
       "Genre[T.Comedy]                0.7746      0.502      1.543      0.123        -0.211     1.761\n",
       "Genre[T.Crime]                -0.0380      0.477     -0.080      0.937        -0.976     0.899\n",
       "Genre[T.Drama]                 0.0750      0.429      0.175      0.861        -0.767     0.917\n",
       "Genre[T.Fantasy]              -0.1842      0.626     -0.294      0.769        -1.415     1.046\n",
       "Genre[T.Reality]               1.1632      0.526      2.210      0.027         0.130     2.197\n",
       "Genre[T.Science-Fiction]       0.0480      0.671      0.072      0.943        -1.269     1.365\n",
       "Network[T.A&AMP;E]             0.1347      1.668      0.081      0.936        -3.142     3.411\n",
       "Network[T.A&E]                -1.5327      1.164     -1.317      0.188        -3.819     0.754\n",
       "Network[T.ABC]                -1.4550      0.885     -1.643      0.101        -3.194     0.284\n",
       "Network[T.ABC Family]         -1.9545      1.097     -1.782      0.075        -4.109     0.200\n",
       "Network[T.AMC]                -0.9438      1.129     -0.836      0.404        -3.161     1.273\n",
       "Network[T.Amazon]             -3.9710      2.025     -1.961      0.050        -7.948     0.006\n",
       "Network[T.BBC America]        -0.7383      1.072     -0.689      0.491        -2.843     1.366\n",
       "Network[T.BET]                 1.8704      1.666      1.123      0.262        -1.401     5.142\n",
       "Network[T.Bravo]               2.0425      2.009      1.017      0.310        -1.904     5.989\n",
       "Network[T.CBS]                -0.2155      0.915     -0.236      0.814        -2.013     1.581\n",
       "Network[T.CNNCCNNBCNNSCNN]     7.6646      2.628      2.917      0.004         2.504    12.825\n",
       "Network[T.Cartoon Network]    -2.1361      1.231     -1.735      0.083        -4.554     0.282\n",
       "Network[T.Channel 4 in UK]     5.0185      1.679      2.989      0.003         1.721     8.316\n",
       "Network[T.Comedy Central]      0.0205      1.237      0.017      0.987        -2.409     2.450\n",
       "Network[T.DirecTV]            -1.1105      1.322     -0.840      0.401        -3.707     1.486\n",
       "Network[T.Discovery]           0.6911      1.692      0.409      0.683        -2.631     4.013\n",
       "Network[T.Disney Channel]     -0.2260      1.959     -0.115      0.908        -4.074     3.622\n",
       "Network[T.E]                   0.6038      2.640      0.229      0.819        -4.581     5.789\n",
       "Network[T.E!]                 -1.7898      1.962     -0.912      0.362        -5.643     2.063\n",
       "Network[T.FOX]                -1.7038      0.898     -1.898      0.058        -3.467     0.059\n",
       "Network[T.FX]                 -1.3302      1.115     -1.193      0.233        -3.520     0.860\n",
       "Network[T.FXX]                -3.5299      1.960     -1.801      0.072        -7.380     0.320\n",
       "Network[T.Fox]                -3.2649      1.956     -1.669      0.096        -7.106     0.576\n",
       "Network[T.HBO]                -0.3873      1.000     -0.387      0.699        -2.352     1.577\n",
       "Network[T.Hulu]               -1.9482      2.630     -0.741      0.459        -7.112     3.216\n",
       "Network[T.IFC]                -2.0052      1.953     -1.027      0.305        -5.841     1.831\n",
       "Network[T.ION]                 0.0902      1.672      0.054      0.957        -3.194     3.375\n",
       "Network[T.ITC]                -1.8907      2.640     -0.716      0.474        -7.075     3.293\n",
       "Network[T.Lifetime]           -1.1859      1.117     -1.062      0.289        -3.379     1.007\n",
       "Network[T.MTV]                -1.0524      1.030     -1.022      0.307        -3.075     0.970\n",
       "Network[T.N/A]                -1.1478      0.953     -1.205      0.229        -3.019     0.723\n",
       "Network[T.NBC]                -1.7344      0.884     -1.962      0.050        -3.470     0.001\n",
       "Network[T.Nat Geo Wild]        4.0039      2.643      1.515      0.130        -1.187     9.195\n",
       "Network[T.Netflix]            -1.8495      1.962     -0.943      0.346        -5.703     2.004\n",
       "Network[T.Nick at Nite]       -1.2649      2.628     -0.481      0.630        -6.425     3.896\n",
       "Network[T.Nickelodeon]        -1.9367      1.325     -1.461      0.144        -4.539     0.666\n",
       "Network[T.Oxygen]             -2.3938      2.639     -0.907      0.365        -7.576     2.788\n",
       "Network[T.Psych]               2.5372      1.517      1.672      0.095        -0.443     5.517\n",
       "Network[T.ReelzChannel]       -2.4363      2.631     -0.926      0.355        -7.603     2.730\n",
       "Network[T.Showcase]           -1.2153      1.959     -0.620      0.535        -5.062     2.631\n",
       "Network[T.Showtime]            1.7732      1.089      1.628      0.104        -0.366     3.913\n",
       "Network[T.Spike TV]           -2.8859      2.658     -1.086      0.278        -8.107     2.335\n",
       "Network[T.Starz]              -2.3268      1.202     -1.936      0.053        -4.687     0.034\n",
       "Network[T.Syfy]               -1.2761      1.020     -1.251      0.212        -3.280     0.728\n",
       "Network[T.TBS]                -1.9132      1.292     -1.481      0.139        -4.450     0.624\n",
       "Network[T.TLC]                -0.7516      1.980     -0.380      0.704        -4.641     3.137\n",
       "Network[T.TNT]                -0.7650      0.987     -0.775      0.439        -2.704     1.174\n",
       "Network[T.TV Land]            -0.3410      1.510     -0.226      0.821        -3.306     2.624\n",
       "Network[T.The CW]             -0.4337      0.949     -0.457      0.648        -2.298     1.430\n",
       "Network[T.USA]                 1.5374      1.260      1.220      0.223        -0.938     4.012\n",
       "Network[T.USA Network]         0.1516      1.046      0.145      0.885        -1.903     2.206\n",
       "Network[T.VH1]                -1.3882      1.973     -0.703      0.482        -5.264     2.487\n",
       "Network[T.WE tv]               6.0932      2.639      2.309      0.021         0.911    11.276\n",
       "Network[T.syndicated]         -4.8882      3.071     -1.592      0.112       -10.920     1.143\n",
       "Duration[T.30 min]            -3.3383      1.979     -1.687      0.092        -7.226     0.549\n",
       "Duration[T.45 min]            -2.3173      2.487     -0.932      0.352        -7.202     2.567\n",
       "Duration[T.60 min]            -3.0019      2.022     -1.485      0.138        -6.973     0.969\n",
       "Duration[T.None]              -2.5300      2.060     -1.228      0.220        -6.575     1.516\n",
       "UserRating                     2.1203      0.227      9.354      0.000         1.675     2.565\n",
       "==============================================================================\n",
       "Omnibus:                      425.490   Durbin-Watson:                   1.280\n",
       "Prob(Omnibus):                  0.000   Jarque-Bera (JB):             7348.456\n",
       "Skew:                           2.560   Prob(JB):                         0.00\n",
       "Kurtosis:                      18.472   Cond. No.                         267.\n",
       "==============================================================================\n",
       "\n",
       "Warnings:\n",
       "[1] Standard Errors assume that the covariance matrix of the errors is correctly specified.\n",
       "\"\"\""
      ]
     },
     "execution_count": 57,
     "metadata": {},
     "output_type": "execute_result"
    }
   ],
   "source": [
    "ols_train4_y, ols_train4_X = dmatrices('Seasons ~ UserRating + Genre + Network + Duration', data=tv_df, return_type='dataframe')\n",
    "ols_train4_model = sm.OLS(ols_train4_y, ols_train4_X).fit()\n",
    "ols_train4_model.summary()"
   ]
  },
  {
   "cell_type": "code",
   "execution_count": 58,
   "metadata": {
    "collapsed": false
   },
   "outputs": [
    {
     "data": {
      "text/plain": [
       "[0.5, 5.5, -5, 25]"
      ]
     },
     "execution_count": 58,
     "metadata": {},
     "output_type": "execute_result"
    },
    {
     "data": {
      "image/png": "[encoded data removed]",
      "text/plain": [
       "<matplotlib.figure.Figure at 0x10b75c590>"
      ]
     },
     "metadata": {},
     "output_type": "display_data"
    }
   ],
   "source": [
    "ols_train4_Y_predict = ols_train4_model.predict(ols_train4_X)\n",
    "\n",
    "p = plt.figure(figsize=(15, 5))\n",
    "tv_df.plot(ax=p.gca(), kind='scatter', x='UserRating', y='Seasons', label='Observed')\n",
    "plt.scatter(ols_train3_X['UserRating'], ols_train3_Y_predict, c='red', label='Model')\n",
    "plt.xlabel('User Rating', fontsize='16')\n",
    "plt.ylabel('Number of Seasons', fontsize='16')\n",
    "plt.title('Multiple Linear Regression', fontsize='16')\n",
    "plt.legend(loc='upper left')\n",
    "plt.axis([0.5, 5.5, -5, 25])"
   ]
  },
  {
   "cell_type": "code",
   "execution_count": 50,
   "metadata": {
    "collapsed": false
   },
   "outputs": [
    {
     "data": {
      "text/plain": [
       "(array([  18.,  299.,  263.,   52.,   27.,    3.,    0.,    0.,    0.,    2.]),\n",
       " array([ -5.86071899,  -3.20478416,  -0.54884932,   2.10708551,\n",
       "          4.76302034,   7.41895517,  10.07489   ,  12.73082483,\n",
       "         15.38675967,  18.0426945 ,  20.69862933]),\n",
       " <a list of 10 Patch objects>)"
      ]
     },
     "execution_count": 50,
     "metadata": {},
     "output_type": "execute_result"
    },
    {
     "data": {
      "image/png": "[encoded data removed]",
      "text/plain": [
       "<matplotlib.figure.Figure at 0x10b5b0290>"
      ]
     },
     "metadata": {},
     "output_type": "display_data"
    }
   ],
   "source": [
    "p = plt.figure(figsize=(15, 5))\n",
    "plt.hist(ols_train4_model.resid)"
   ]
  },
  {
   "cell_type": "markdown",
   "metadata": {},
   "source": [
    " "
   ]
  },
  {
   "cell_type": "code",
   "execution_count": null,
   "metadata": {
    "collapsed": true
   },
   "outputs": [],
   "source": []
  }
 ],
 "metadata": {
  "kernelspec": {
   "display_name": "Python 2",
   "language": "python",
   "name": "python2"
  },
  "language_info": {
   "codemirror_mode": {
    "name": "ipython",
    "version": 2
   },
   "file_extension": ".py",
   "mimetype": "text/x-python",
   "name": "python",
   "nbconvert_exporter": "python",
   "pygments_lexer": "ipython2",
   "version": "2.7.10"
  }
 },
 "nbformat": 4,
 "nbformat_minor": 0
}
