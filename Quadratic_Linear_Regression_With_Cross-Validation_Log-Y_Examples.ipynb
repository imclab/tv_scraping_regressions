{
 "cells": [
  {
   "cell_type": "code",
   "execution_count": 1,
   "metadata": {
    "collapsed": false
   },
   "outputs": [],
   "source": [
    "import pandas as pd\n",
    "from patsy import dmatrices\n",
    "import statsmodels.api as sm\n",
    "import matplotlib.pyplot as plt\n",
    "%matplotlib inline\n",
    "import math\n",
    "import numpy as np\n",
    "from _py_helpers.generate_tv_training_df import tv_df\n",
    "from sklearn import cross_validation\n",
    "from sklearn.linear_model import LinearRegression"
   ]
  },
  {
   "cell_type": "markdown",
   "metadata": {},
   "source": [
    " "
   ]
  },
  {
   "cell_type": "markdown",
   "metadata": {},
   "source": [
    "##<font color='blue'>POLYNOMIAL MODELING using patsy, statsmodels AND CROSS-VALIDATION using scikit (Predicting # of seasons)</font>"
   ]
  },
  {
   "cell_type": "markdown",
   "metadata": {},
   "source": [
    "####<font color='red'>Case 1: With 2 numeric predictor variable (User rating and User rating squared)</font>"
   ]
  },
  {
   "cell_type": "code",
   "execution_count": 3,
   "metadata": {
    "collapsed": false
   },
   "outputs": [
    {
     "data": {
      "text/html": [
       "<table class=\"simpletable\">\n",
       "<caption>OLS Regression Results</caption>\n",
       "<tr>\n",
       "  <th>Dep. Variable:</th>       <td>SeasonsLog</td>    <th>  R-squared:         </th> <td>   0.263</td>\n",
       "</tr>\n",
       "<tr>\n",
       "  <th>Model:</th>                   <td>OLS</td>       <th>  Adj. R-squared:    </th> <td>   0.261</td>\n",
       "</tr>\n",
       "<tr>\n",
       "  <th>Method:</th>             <td>Least Squares</td>  <th>  F-statistic:       </th> <td>   118.0</td>\n",
       "</tr>\n",
       "<tr>\n",
       "  <th>Date:</th>             <td>Sat, 18 Jul 2015</td> <th>  Prob (F-statistic):</th> <td>1.50e-44</td>\n",
       "</tr>\n",
       "<tr>\n",
       "  <th>Time:</th>                 <td>23:14:23</td>     <th>  Log-Likelihood:    </th> <td> -714.29</td>\n",
       "</tr>\n",
       "<tr>\n",
       "  <th>No. Observations:</th>      <td>   664</td>      <th>  AIC:               </th> <td>   1435.</td>\n",
       "</tr>\n",
       "<tr>\n",
       "  <th>Df Residuals:</th>          <td>   661</td>      <th>  BIC:               </th> <td>   1448.</td>\n",
       "</tr>\n",
       "<tr>\n",
       "  <th>Df Model:</th>              <td>     2</td>      <th>                     </th>     <td> </td>   \n",
       "</tr>\n",
       "<tr>\n",
       "  <th>Covariance Type:</th>      <td>nonrobust</td>    <th>                     </th>     <td> </td>   \n",
       "</tr>\n",
       "</table>\n",
       "<table class=\"simpletable\">\n",
       "<tr>\n",
       "           <td></td>             <th>coef</th>     <th>std err</th>      <th>t</th>      <th>P>|t|</th> <th>[95.0% Conf. Int.]</th> \n",
       "</tr>\n",
       "<tr>\n",
       "  <th>Intercept</th>          <td>    1.9045</td> <td>    0.666</td> <td>    2.859</td> <td> 0.004</td> <td>    0.596     3.213</td>\n",
       "</tr>\n",
       "<tr>\n",
       "  <th>UserRating</th>         <td>   -1.6091</td> <td>    0.395</td> <td>   -4.072</td> <td> 0.000</td> <td>   -2.385    -0.833</td>\n",
       "</tr>\n",
       "<tr>\n",
       "  <th>I(UserRating ** 2)</th> <td>    0.3508</td> <td>    0.058</td> <td>    6.014</td> <td> 0.000</td> <td>    0.236     0.465</td>\n",
       "</tr>\n",
       "</table>\n",
       "<table class=\"simpletable\">\n",
       "<tr>\n",
       "  <th>Omnibus:</th>       <td>45.131</td> <th>  Durbin-Watson:     </th> <td>   1.195</td>\n",
       "</tr>\n",
       "<tr>\n",
       "  <th>Prob(Omnibus):</th> <td> 0.000</td> <th>  Jarque-Bera (JB):  </th> <td>  58.488</td>\n",
       "</tr>\n",
       "<tr>\n",
       "  <th>Skew:</th>          <td> 0.578</td> <th>  Prob(JB):          </th> <td>1.99e-13</td>\n",
       "</tr>\n",
       "<tr>\n",
       "  <th>Kurtosis:</th>      <td> 3.881</td> <th>  Cond. No.          </th> <td>    399.</td>\n",
       "</tr>\n",
       "</table>"
      ],
      "text/plain": [
       "<class 'statsmodels.iolib.summary.Summary'>\n",
       "\"\"\"\n",
       "                            OLS Regression Results                            \n",
       "==============================================================================\n",
       "Dep. Variable:             SeasonsLog   R-squared:                       0.263\n",
       "Model:                            OLS   Adj. R-squared:                  0.261\n",
       "Method:                 Least Squares   F-statistic:                     118.0\n",
       "Date:                Sat, 18 Jul 2015   Prob (F-statistic):           1.50e-44\n",
       "Time:                        23:14:23   Log-Likelihood:                -714.29\n",
       "No. Observations:                 664   AIC:                             1435.\n",
       "Df Residuals:                     661   BIC:                             1448.\n",
       "Df Model:                           2                                         \n",
       "Covariance Type:            nonrobust                                         \n",
       "======================================================================================\n",
       "                         coef    std err          t      P>|t|      [95.0% Conf. Int.]\n",
       "--------------------------------------------------------------------------------------\n",
       "Intercept              1.9045      0.666      2.859      0.004         0.596     3.213\n",
       "UserRating            -1.6091      0.395     -4.072      0.000        -2.385    -0.833\n",
       "I(UserRating ** 2)     0.3508      0.058      6.014      0.000         0.236     0.465\n",
       "==============================================================================\n",
       "Omnibus:                       45.131   Durbin-Watson:                   1.195\n",
       "Prob(Omnibus):                  0.000   Jarque-Bera (JB):               58.488\n",
       "Skew:                           0.578   Prob(JB):                     1.99e-13\n",
       "Kurtosis:                       3.881   Cond. No.                         399.\n",
       "==============================================================================\n",
       "\n",
       "Warnings:\n",
       "[1] Standard Errors assume that the covariance matrix of the errors is correctly specified.\n",
       "\"\"\""
      ]
     },
     "execution_count": 3,
     "metadata": {},
     "output_type": "execute_result"
    }
   ],
   "source": [
    "poly_train1_y, poly_train1_X = dmatrices('SeasonsLog ~ UserRating + I(UserRating**2)', data=tv_df, return_type='dataframe')\n",
    "poly_train1_model = sm.OLS(poly_train1_y, poly_train1_X).fit()\n",
    "poly_train1_model.summary()"
   ]
  },
  {
   "cell_type": "code",
   "execution_count": 4,
   "metadata": {
    "collapsed": false
   },
   "outputs": [
    {
     "data": {
      "text/plain": [
       "[0.5, 5.5, -5, 25]"
      ]
     },
     "execution_count": 4,
     "metadata": {},
     "output_type": "execute_result"
    },
    {
     "data": {
      "image/png": "[encoded data removed]",
      "text/plain": [
       "<matplotlib.figure.Figure at 0x10a1aed50>"
      ]
     },
     "metadata": {},
     "output_type": "display_data"
    }
   ],
   "source": [
    "poly_train1_Y_predict = poly_train1_model.predict(poly_train1_X).tolist()\n",
    "poly_train1_Y_predict = np.array([math.exp(y) for y in poly_train1_Y_predict])\n",
    "\n",
    "p = plt.figure(figsize=(15, 5))\n",
    "tv_df.plot(ax=p.gca(), kind='scatter', x='UserRating', y='Seasons', label='Observed', )\n",
    "plt.plot(poly_train1_X['UserRating'], poly_train1_Y_predict, c='red', label='Model', linewidth=3)\n",
    "plt.xlabel('User Rating', fontsize='16')\n",
    "plt.ylabel('Number of Seasons', fontsize='16')\n",
    "plt.title('Quadratic Linear Regression (Poly Log-y)', fontsize='16')\n",
    "plt.legend(loc='upper left')\n",
    "plt.axis([0.5, 5.5, -5, 25])"
   ]
  },
  {
   "cell_type": "code",
   "execution_count": 5,
   "metadata": {
    "collapsed": false
   },
   "outputs": [
    {
     "data": {
      "text/plain": [
       "(array([   2.,    2.,   23.,  199.,  202.,  134.,   66.,   32.,    2.,    2.]),\n",
       " array([-2.62851548, -2.06675264, -1.50498979, -0.94322694, -0.3814641 ,\n",
       "         0.18029875,  0.74206159,  1.30382444,  1.86558728,  2.42735013,\n",
       "         2.98911297]),\n",
       " <a list of 10 Patch objects>)"
      ]
     },
     "execution_count": 5,
     "metadata": {},
     "output_type": "execute_result"
    },
    {
     "data": {
      "image/png": "[encoded data removed]",
      "text/plain": [
       "<matplotlib.figure.Figure at 0x10a253050>"
      ]
     },
     "metadata": {},
     "output_type": "display_data"
    }
   ],
   "source": [
    "p = plt.figure(figsize=(15, 5))\n",
    "plt.hist(poly_train1_model.resid)"
   ]
  },
  {
   "cell_type": "markdown",
   "metadata": {},
   "source": [
    " ####<font color='red'>Case 1: Cross-validation</font> "
   ]
  },
  {
   "cell_type": "code",
   "execution_count": 10,
   "metadata": {
    "collapsed": false
   },
   "outputs": [
    {
     "data": {
      "text/html": [
       "<div>\n",
       "<table border=\"1\" class=\"dataframe\">\n",
       "  <thead>\n",
       "    <tr style=\"text-align: right;\">\n",
       "      <th></th>\n",
       "      <th>Trial</th>\n",
       "      <th>Random1</th>\n",
       "      <th>Random2</th>\n",
       "      <th>Random3</th>\n",
       "      <th>Random4</th>\n",
       "      <th>Random5</th>\n",
       "      <th>Average</th>\n",
       "      <th>Std</th>\n",
       "    </tr>\n",
       "  </thead>\n",
       "  <tbody>\n",
       "    <tr>\n",
       "      <th>0</th>\n",
       "      <td>Trial 1</td>\n",
       "      <td>0.3081</td>\n",
       "      <td>0.1643</td>\n",
       "      <td>0.1263</td>\n",
       "      <td>0.3767</td>\n",
       "      <td>0.3191</td>\n",
       "      <td>0.2589</td>\n",
       "      <td>0.0964</td>\n",
       "    </tr>\n",
       "    <tr>\n",
       "      <th>1</th>\n",
       "      <td>Trial 2</td>\n",
       "      <td>0.1043</td>\n",
       "      <td>0.3136</td>\n",
       "      <td>0.2538</td>\n",
       "      <td>0.1680</td>\n",
       "      <td>0.3253</td>\n",
       "      <td>0.2330</td>\n",
       "      <td>0.0851</td>\n",
       "    </tr>\n",
       "    <tr>\n",
       "      <th>2</th>\n",
       "      <td>Trial 3</td>\n",
       "      <td>0.4392</td>\n",
       "      <td>0.3395</td>\n",
       "      <td>0.3636</td>\n",
       "      <td>0.3912</td>\n",
       "      <td>0.3291</td>\n",
       "      <td>0.3725</td>\n",
       "      <td>0.0396</td>\n",
       "    </tr>\n",
       "  </tbody>\n",
       "</table>\n",
       "</div>"
      ],
      "text/plain": [
       "     Trial Random1 Random2 Random3 Random4 Random5 Average     Std\n",
       "0  Trial 1  0.3081  0.1643  0.1263  0.3767  0.3191  0.2589  0.0964\n",
       "1  Trial 2  0.1043  0.3136  0.2538  0.1680  0.3253  0.2330  0.0851\n",
       "2  Trial 3  0.4392  0.3395  0.3636  0.3912  0.3291  0.3725  0.0396"
      ]
     },
     "execution_count": 10,
     "metadata": {},
     "output_type": "execute_result"
    }
   ],
   "source": [
    "poly_cv1_y, poly_cv1_X = dmatrices('SeasonsLog ~ UserRating + I(UserRating**2)', data=tv_df, return_type='dataframe')\n",
    "poly_cv1_X_array = poly_cv1_X.values\n",
    "poly_cv1_y_array = poly_cv1_y.values\n",
    "\n",
    "n_samples = poly_cv1_X_array.shape[0]\n",
    "model = LinearRegression()\n",
    "\n",
    "poly_cv1_metrics = []\n",
    "\n",
    "for i in range(3):\n",
    "    temp = []\n",
    "    cv = cross_validation.ShuffleSplit(n_samples, n_iter=5, random_state=i)\n",
    "    scores = cross_validation.cross_val_score(model, poly_cv1_X_array, poly_cv1_y_array, cv=cv)\n",
    "    temp.append('Trial ' + str(i+1))\n",
    "    for score in scores:\n",
    "        temp.append(\"%.4f\" % score)\n",
    "    temp.append(\"%.4f\" % scores.mean())\n",
    "    temp.append(\"%.4f\" % scores.std())\n",
    "    poly_cv1_metrics.append(temp)\n",
    "    \n",
    "cols = ['Trial', 'Random1', 'Random2', 'Random3', 'Random4', 'Random5', 'Average', 'Std']\n",
    "pd.DataFrame(poly_cv1_metrics, columns=cols)"
   ]
  },
  {
   "cell_type": "markdown",
   "metadata": {},
   "source": [
    "###<font color='red'>Case 2: With 2 numeric predictor and 1 categorical predictor (User rating + User rating squared + Genre)</font>"
   ]
  },
  {
   "cell_type": "code",
   "execution_count": 6,
   "metadata": {
    "collapsed": false
   },
   "outputs": [
    {
     "data": {
      "text/html": [
       "<table class=\"simpletable\">\n",
       "<caption>OLS Regression Results</caption>\n",
       "<tr>\n",
       "  <th>Dep. Variable:</th>       <td>SeasonsLog</td>    <th>  R-squared:         </th> <td>   0.287</td>\n",
       "</tr>\n",
       "<tr>\n",
       "  <th>Model:</th>                   <td>OLS</td>       <th>  Adj. R-squared:    </th> <td>   0.277</td>\n",
       "</tr>\n",
       "<tr>\n",
       "  <th>Method:</th>             <td>Least Squares</td>  <th>  F-statistic:       </th> <td>   29.25</td>\n",
       "</tr>\n",
       "<tr>\n",
       "  <th>Date:</th>             <td>Sat, 18 Jul 2015</td> <th>  Prob (F-statistic):</th> <td>6.68e-43</td>\n",
       "</tr>\n",
       "<tr>\n",
       "  <th>Time:</th>                 <td>23:17:33</td>     <th>  Log-Likelihood:    </th> <td> -703.36</td>\n",
       "</tr>\n",
       "<tr>\n",
       "  <th>No. Observations:</th>      <td>   664</td>      <th>  AIC:               </th> <td>   1427.</td>\n",
       "</tr>\n",
       "<tr>\n",
       "  <th>Df Residuals:</th>          <td>   654</td>      <th>  BIC:               </th> <td>   1472.</td>\n",
       "</tr>\n",
       "<tr>\n",
       "  <th>Df Model:</th>              <td>     9</td>      <th>                     </th>     <td> </td>   \n",
       "</tr>\n",
       "<tr>\n",
       "  <th>Covariance Type:</th>      <td>nonrobust</td>    <th>                     </th>     <td> </td>   \n",
       "</tr>\n",
       "</table>\n",
       "<table class=\"simpletable\">\n",
       "<tr>\n",
       "              <td></td>                <th>coef</th>     <th>std err</th>      <th>t</th>      <th>P>|t|</th> <th>[95.0% Conf. Int.]</th> \n",
       "</tr>\n",
       "<tr>\n",
       "  <th>Intercept</th>                <td>    0.9696</td> <td>    0.698</td> <td>    1.388</td> <td> 0.165</td> <td>   -0.402     2.341</td>\n",
       "</tr>\n",
       "<tr>\n",
       "  <th>Genre[T.Cartoons]</th>        <td>    0.4267</td> <td>    0.202</td> <td>    2.114</td> <td> 0.035</td> <td>    0.030     0.823</td>\n",
       "</tr>\n",
       "<tr>\n",
       "  <th>Genre[T.Comedy]</th>          <td>    0.2201</td> <td>    0.120</td> <td>    1.831</td> <td> 0.068</td> <td>   -0.016     0.456</td>\n",
       "</tr>\n",
       "<tr>\n",
       "  <th>Genre[T.Crime]</th>           <td>    0.0693</td> <td>    0.130</td> <td>    0.533</td> <td> 0.594</td> <td>   -0.186     0.325</td>\n",
       "</tr>\n",
       "<tr>\n",
       "  <th>Genre[T.Drama]</th>           <td>    0.0848</td> <td>    0.117</td> <td>    0.726</td> <td> 0.468</td> <td>   -0.145     0.314</td>\n",
       "</tr>\n",
       "<tr>\n",
       "  <th>Genre[T.Fantasy]</th>         <td>    0.0246</td> <td>    0.170</td> <td>    0.144</td> <td> 0.885</td> <td>   -0.310     0.359</td>\n",
       "</tr>\n",
       "<tr>\n",
       "  <th>Genre[T.Reality]</th>         <td>    0.4251</td> <td>    0.139</td> <td>    3.058</td> <td> 0.002</td> <td>    0.152     0.698</td>\n",
       "</tr>\n",
       "<tr>\n",
       "  <th>Genre[T.Science-Fiction]</th> <td>   -0.1309</td> <td>    0.184</td> <td>   -0.713</td> <td> 0.476</td> <td>   -0.492     0.230</td>\n",
       "</tr>\n",
       "<tr>\n",
       "  <th>UserRating</th>               <td>   -1.2463</td> <td>    0.403</td> <td>   -3.096</td> <td> 0.002</td> <td>   -2.037    -0.456</td>\n",
       "</tr>\n",
       "<tr>\n",
       "  <th>I(UserRating ** 2)</th>       <td>    0.3112</td> <td>    0.059</td> <td>    5.291</td> <td> 0.000</td> <td>    0.196     0.427</td>\n",
       "</tr>\n",
       "</table>\n",
       "<table class=\"simpletable\">\n",
       "<tr>\n",
       "  <th>Omnibus:</th>       <td>36.767</td> <th>  Durbin-Watson:     </th> <td>   1.171</td>\n",
       "</tr>\n",
       "<tr>\n",
       "  <th>Prob(Omnibus):</th> <td> 0.000</td> <th>  Jarque-Bera (JB):  </th> <td>  59.652</td>\n",
       "</tr>\n",
       "<tr>\n",
       "  <th>Skew:</th>          <td> 0.415</td> <th>  Prob(JB):          </th> <td>1.11e-13</td>\n",
       "</tr>\n",
       "<tr>\n",
       "  <th>Kurtosis:</th>      <td> 4.212</td> <th>  Cond. No.          </th> <td>    420.</td>\n",
       "</tr>\n",
       "</table>"
      ],
      "text/plain": [
       "<class 'statsmodels.iolib.summary.Summary'>\n",
       "\"\"\"\n",
       "                            OLS Regression Results                            \n",
       "==============================================================================\n",
       "Dep. Variable:             SeasonsLog   R-squared:                       0.287\n",
       "Model:                            OLS   Adj. R-squared:                  0.277\n",
       "Method:                 Least Squares   F-statistic:                     29.25\n",
       "Date:                Sat, 18 Jul 2015   Prob (F-statistic):           6.68e-43\n",
       "Time:                        23:17:33   Log-Likelihood:                -703.36\n",
       "No. Observations:                 664   AIC:                             1427.\n",
       "Df Residuals:                     654   BIC:                             1472.\n",
       "Df Model:                           9                                         \n",
       "Covariance Type:            nonrobust                                         \n",
       "============================================================================================\n",
       "                               coef    std err          t      P>|t|      [95.0% Conf. Int.]\n",
       "--------------------------------------------------------------------------------------------\n",
       "Intercept                    0.9696      0.698      1.388      0.165        -0.402     2.341\n",
       "Genre[T.Cartoons]            0.4267      0.202      2.114      0.035         0.030     0.823\n",
       "Genre[T.Comedy]              0.2201      0.120      1.831      0.068        -0.016     0.456\n",
       "Genre[T.Crime]               0.0693      0.130      0.533      0.594        -0.186     0.325\n",
       "Genre[T.Drama]               0.0848      0.117      0.726      0.468        -0.145     0.314\n",
       "Genre[T.Fantasy]             0.0246      0.170      0.144      0.885        -0.310     0.359\n",
       "Genre[T.Reality]             0.4251      0.139      3.058      0.002         0.152     0.698\n",
       "Genre[T.Science-Fiction]    -0.1309      0.184     -0.713      0.476        -0.492     0.230\n",
       "UserRating                  -1.2463      0.403     -3.096      0.002        -2.037    -0.456\n",
       "I(UserRating ** 2)           0.3112      0.059      5.291      0.000         0.196     0.427\n",
       "==============================================================================\n",
       "Omnibus:                       36.767   Durbin-Watson:                   1.171\n",
       "Prob(Omnibus):                  0.000   Jarque-Bera (JB):               59.652\n",
       "Skew:                           0.415   Prob(JB):                     1.11e-13\n",
       "Kurtosis:                       4.212   Cond. No.                         420.\n",
       "==============================================================================\n",
       "\n",
       "Warnings:\n",
       "[1] Standard Errors assume that the covariance matrix of the errors is correctly specified.\n",
       "\"\"\""
      ]
     },
     "execution_count": 6,
     "metadata": {},
     "output_type": "execute_result"
    }
   ],
   "source": [
    "poly_train2_y, poly_train2_X = dmatrices('SeasonsLog ~ UserRating + I(UserRating**2) + Genre', data=tv_df, return_type='dataframe')\n",
    "poly_train2_model = sm.OLS(poly_train2_y, poly_train2_X).fit()\n",
    "poly_train2_model.summary()"
   ]
  },
  {
   "cell_type": "code",
   "execution_count": 7,
   "metadata": {
    "collapsed": false
   },
   "outputs": [
    {
     "data": {
      "text/plain": [
       "[0.5, 5.5, -5, 25]"
      ]
     },
     "execution_count": 7,
     "metadata": {},
     "output_type": "execute_result"
    },
    {
     "data": {
      "image/png": "[encoded data removed]",
      "text/plain": [
       "<matplotlib.figure.Figure at 0x10a701e90>"
      ]
     },
     "metadata": {},
     "output_type": "display_data"
    }
   ],
   "source": [
    "poly_train2_Y_predict = poly_train2_model.predict(poly_train2_X).tolist()\n",
    "poly_train2_Y_predict = np.array([math.exp(y) for y in poly_train2_Y_predict])\n",
    "\n",
    "p = plt.figure(figsize=(15, 5))\n",
    "tv_df.plot(ax=p.gca(), kind='scatter', x='UserRating', y='Seasons', label='Observed', )\n",
    "plt.scatter(poly_train2_X['UserRating'], poly_train2_Y_predict, c='red', label='Model')\n",
    "plt.xlabel('User Rating', fontsize='16')\n",
    "plt.ylabel('Number of Seasons', fontsize='16')\n",
    "plt.title('Quadratic Linear Regression (Poly Log-y)', fontsize='16')\n",
    "plt.legend(loc='upper left')\n",
    "plt.axis([0.5, 5.5, -5, 25])"
   ]
  },
  {
   "cell_type": "code",
   "execution_count": 8,
   "metadata": {
    "collapsed": false,
    "scrolled": true
   },
   "outputs": [
    {
     "data": {
      "text/plain": [
       "(array([   2.,    1.,   12.,  113.,  254.,  153.,   92.,   34.,    1.,    2.]),\n",
       " array([-2.9438767 , -2.34735653, -1.75083637, -1.1543162 , -0.55779603,\n",
       "         0.03872413,  0.6352443 ,  1.23176446,  1.82828463,  2.4248048 ,\n",
       "         3.02132496]),\n",
       " <a list of 10 Patch objects>)"
      ]
     },
     "execution_count": 8,
     "metadata": {},
     "output_type": "execute_result"
    },
    {
     "data": {
      "image/png": "[encoded data removed]",
      "text/plain": [
       "<matplotlib.figure.Figure at 0x10a7693d0>"
      ]
     },
     "metadata": {},
     "output_type": "display_data"
    }
   ],
   "source": [
    "p = plt.figure(figsize=(15, 5))\n",
    "plt.hist(poly_train2_model.resid)"
   ]
  },
  {
   "cell_type": "markdown",
   "metadata": {
    "collapsed": true
   },
   "source": [
    " ####<font color='red'>Case 2: Cross-validation</font> "
   ]
  },
  {
   "cell_type": "code",
   "execution_count": 11,
   "metadata": {
    "collapsed": false
   },
   "outputs": [
    {
     "data": {
      "text/html": [
       "<div>\n",
       "<table border=\"1\" class=\"dataframe\">\n",
       "  <thead>\n",
       "    <tr style=\"text-align: right;\">\n",
       "      <th></th>\n",
       "      <th>Trial</th>\n",
       "      <th>Random1</th>\n",
       "      <th>Random2</th>\n",
       "      <th>Random3</th>\n",
       "      <th>Random4</th>\n",
       "      <th>Random5</th>\n",
       "      <th>Average</th>\n",
       "      <th>Std</th>\n",
       "    </tr>\n",
       "  </thead>\n",
       "  <tbody>\n",
       "    <tr>\n",
       "      <th>0</th>\n",
       "      <td>Trial 1</td>\n",
       "      <td>0.3383</td>\n",
       "      <td>0.1513</td>\n",
       "      <td>0.1799</td>\n",
       "      <td>0.3247</td>\n",
       "      <td>0.3023</td>\n",
       "      <td>0.2593</td>\n",
       "      <td>0.0779</td>\n",
       "    </tr>\n",
       "    <tr>\n",
       "      <th>1</th>\n",
       "      <td>Trial 2</td>\n",
       "      <td>0.1770</td>\n",
       "      <td>0.3835</td>\n",
       "      <td>0.2907</td>\n",
       "      <td>0.2011</td>\n",
       "      <td>0.3026</td>\n",
       "      <td>0.2710</td>\n",
       "      <td>0.0745</td>\n",
       "    </tr>\n",
       "    <tr>\n",
       "      <th>2</th>\n",
       "      <td>Trial 3</td>\n",
       "      <td>0.4710</td>\n",
       "      <td>0.3311</td>\n",
       "      <td>0.4141</td>\n",
       "      <td>0.4136</td>\n",
       "      <td>0.2976</td>\n",
       "      <td>0.3855</td>\n",
       "      <td>0.0626</td>\n",
       "    </tr>\n",
       "  </tbody>\n",
       "</table>\n",
       "</div>"
      ],
      "text/plain": [
       "     Trial Random1 Random2 Random3 Random4 Random5 Average     Std\n",
       "0  Trial 1  0.3383  0.1513  0.1799  0.3247  0.3023  0.2593  0.0779\n",
       "1  Trial 2  0.1770  0.3835  0.2907  0.2011  0.3026  0.2710  0.0745\n",
       "2  Trial 3  0.4710  0.3311  0.4141  0.4136  0.2976  0.3855  0.0626"
      ]
     },
     "execution_count": 11,
     "metadata": {},
     "output_type": "execute_result"
    }
   ],
   "source": [
    "poly_cv2_y, poly_cv2_X = dmatrices('SeasonsLog ~ UserRating + I(UserRating**2) + Genre', data=tv_df, return_type='dataframe')\n",
    "poly_cv2_X_array = poly_cv2_X.values\n",
    "poly_cv2_y_array = poly_cv2_y.values\n",
    "\n",
    "n_samples = poly_cv2_X_array.shape[0]\n",
    "model = LinearRegression()\n",
    "\n",
    "poly_cv2_metrics = []\n",
    "\n",
    "for i in range(3):\n",
    "    temp = []\n",
    "    cv = cross_validation.ShuffleSplit(n_samples, n_iter=5, random_state=i)\n",
    "    scores = cross_validation.cross_val_score(model, poly_cv2_X_array, poly_cv2_y_array, cv=cv)\n",
    "    temp.append('Trial ' + str(i+1))\n",
    "    for score in scores:\n",
    "        temp.append(\"%.4f\" % score)\n",
    "    temp.append(\"%.4f\" % scores.mean())\n",
    "    temp.append(\"%.4f\" % scores.std())\n",
    "    poly_cv2_metrics.append(temp)\n",
    "\n",
    "cols = ['Trial', 'Random1', 'Random2', 'Random3', 'Random4', 'Random5', 'Average', 'Std']\n",
    "pd.DataFrame(poly_cv2_metrics, columns=cols)"
   ]
  },
  {
   "cell_type": "code",
   "execution_count": null,
   "metadata": {
    "collapsed": true
   },
   "outputs": [],
   "source": []
  }
 ],
 "metadata": {
  "kernelspec": {
   "display_name": "Python 2",
   "language": "python",
   "name": "python2"
  },
  "language_info": {
   "codemirror_mode": {
    "name": "ipython",
    "version": 2
   },
   "file_extension": ".py",
   "mimetype": "text/x-python",
   "name": "python",
   "nbconvert_exporter": "python",
   "pygments_lexer": "ipython2",
   "version": "2.7.10"
  }
 },
 "nbformat": 4,
 "nbformat_minor": 0
}
